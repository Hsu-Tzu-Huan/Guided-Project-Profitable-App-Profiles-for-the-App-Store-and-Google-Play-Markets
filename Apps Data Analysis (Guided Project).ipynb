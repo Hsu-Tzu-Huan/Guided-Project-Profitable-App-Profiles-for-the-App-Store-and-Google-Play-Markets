{
 "cells": [
  {
   "cell_type": "markdown",
   "metadata": {},
   "source": [
    "#  **Apps Data Analysis**\n",
    "### **Introduction**:\n",
    "This project helps a company that builds free to download Android and iOS mobile apps, where the main source of the revenue consists of in_app ads.\n",
    "\n",
    "### **Goal**: \n",
    "Our goal for this project is to analyze data of android and iOS apps to help our developers understand what type of apps are likely to attract more users.\n"
   ]
  },
  {
   "cell_type": "code",
   "execution_count": 1,
   "metadata": {
    "scrolled": true
   },
   "outputs": [
    {
     "name": "stdout",
     "output_type": "stream",
     "text": [
      "iOS apps info:\n",
      "['1', '281656475', 'PAC-MAN Premium', '100788224', 'USD', '3.99', '21292', '26', '4', '4.5', '6.3.5', '4+', 'Games', '38', '5', '10', '1']\n",
      "\n",
      "\n",
      "['2', '281796108', 'Evernote - stay organized', '158578688', 'USD', '0', '161065', '26', '4', '3.5', '8.2.2', '4+', 'Productivity', '37', '5', '23', '1']\n",
      "\n",
      "\n",
      "Number of rows: 7197\n",
      "Number of columns: 17\n",
      "\n",
      "\n",
      "GooglePlay apps info:\n",
      "['Photo Editor & Candy Camera & Grid & ScrapBook', 'ART_AND_DESIGN', '4.1', '159', '19M', '10,000+', 'Free', '0', 'Everyone', 'Art & Design', 'January 7, 2018', '1.0.0', '4.0.3 and up']\n",
      "\n",
      "\n",
      "['Coloring book moana', 'ART_AND_DESIGN', '3.9', '967', '14M', '500,000+', 'Free', '0', 'Everyone', 'Art & Design;Pretend Play', 'January 15, 2018', '2.0.0', '4.0.3 and up']\n",
      "\n",
      "\n",
      "Number of rows: 10841\n",
      "Number of columns: 13\n",
      "\n",
      "\n",
      "['', 'id', 'track_name', 'size_bytes', 'currency', 'price', 'rating_count_tot', 'rating_count_ver', 'user_rating', 'user_rating_ver', 'ver', 'cont_rating', 'prime_genre', 'sup_devices.num', 'ipadSc_urls.num', 'lang.num', 'vpp_lic']\n",
      "['App', 'Category', 'Rating', 'Reviews', 'Size', 'Installs', 'Type', 'Price', 'Content Rating', 'Genres', 'Last Updated', 'Current Ver', 'Android Ver']\n"
     ]
    }
   ],
   "source": [
    "## Open the file ##\n",
    "\n",
    "open_file_iOS = open('AppleStore.csv')\n",
    "open_file_Goo = open('googleplaystore.csv')\n",
    "from csv import reader\n",
    "read_file_iOS = reader(open_file_iOS)\n",
    "read_file_Goo = reader(open_file_Goo)\n",
    "\n",
    "iOS_data = list(read_file_iOS)\n",
    "Goo_data = list(read_file_Goo)\n",
    "\n",
    "## Define the Header ##\n",
    "\n",
    "iOS_header = iOS_data[0]\n",
    "Goo_header = Goo_data[0]\n",
    "\n",
    "## Remove the Header Row ##\n",
    "\n",
    "iOS_data = iOS_data[1:]\n",
    "Goo_data = Goo_data[1:]\n",
    "\n",
    "def explore_data(dataset, start, end, Header_row = False):\n",
    "    dataset_slice = dataset[start:end]    \n",
    "    for row in dataset_slice:\n",
    "        print(row)\n",
    "        print('\\n') # adds a new (empty) line after each row\n",
    "\n",
    "    if Header_row:\n",
    "        print('Number of rows:', len(dataset[1:]))\n",
    "        print('Number of columns:', len(dataset[0]))\n",
    "    else:\n",
    "        print('Number of rows:', len(dataset))\n",
    "        print('Number of columns:', len(dataset[0]))\n",
    "        \n",
    "print('iOS apps info:')       \n",
    "explore_data(iOS_data,0,2)\n",
    "print('\\n')\n",
    "print('GooglePlay apps info:')\n",
    "explore_data(Goo_data,0,2)\n",
    "\n",
    "print('\\n')\n",
    "\n",
    "print(iOS_header)\n",
    "print(Goo_header)\n"
   ]
  },
  {
   "cell_type": "markdown",
   "metadata": {},
   "source": [
    "- Here we identify several columns in iOS apps which could be useful for our analysis: 'id', 'price', 'user_rating', 'prime_genre'\n",
    "- And for GooglePlay: 'App', 'Category', 'Reviews', 'Installs', 'Price', 'Genres'"
   ]
  },
  {
   "cell_type": "markdown",
   "metadata": {},
   "source": [
    "## 1. Data Cleaning:\n",
    "- identify the error ( repeated rows or missing column).\n",
    "- eliminate non-English apps ( Since our target is English apps).\n",
    "\n",
    "First we identify the rows with missing column:"
   ]
  },
  {
   "cell_type": "code",
   "execution_count": 2,
   "metadata": {},
   "outputs": [
    {
     "name": "stdout",
     "output_type": "stream",
     "text": [
      "['App', 'Category', 'Rating', 'Reviews', 'Size', 'Installs', 'Type', 'Price', 'Content Rating', 'Genres', 'Last Updated', 'Current Ver', 'Android Ver']\n",
      "[['Life Made WI-Fi Touchscreen Photo Frame', '1.9', '19', '3.0M', '1,000+', 'Free', '0', 'Everyone', '', 'February 11, 2018', '1.0.19', '4.0 and up'], ['osmino Wi-Fi: free WiFi', 'TOOLS', '4.2', '134203', '4.1M', '10,000,000+', 'Free', '0', 'Everyone', 'Tools', 'August 7, 2018', '6.06.14', '4.4 and up']]\n",
      "\n",
      "\n",
      "['osmino Wi-Fi: free WiFi', 'TOOLS', '4.2', '134203', '4.1M', '10,000,000+', 'Free', '0', 'Everyone', 'Tools', 'August 7, 2018', '6.06.14', '4.4 and up']\n"
     ]
    }
   ],
   "source": [
    "print(Goo_header)\n",
    "\n",
    "## Here I print out the row which contains error and the row after that.\n",
    "print(Goo_data[10472:10474])\n",
    "\n",
    "## Here I delete the row using the 'del' function.\n",
    "del(Goo_data[10472])\n",
    "print('\\n')\n",
    "\n",
    "## Print out row 10472 to see whether it was deleted.\n",
    "print(Goo_data[10472])\n",
    "\n"
   ]
  },
  {
   "cell_type": "markdown",
   "metadata": {},
   "source": [
    "In order to find the error with missing column in the data, I wrote a for `loop` combined with `if`."
   ]
  },
  {
   "cell_type": "code",
   "execution_count": 3,
   "metadata": {},
   "outputs": [],
   "source": [
    "for row in Goo_data:\n",
    "    if len(row) != len(Goo_header):\n",
    "        print(row)\n",
    "        \n",
    "for row in iOS_data:\n",
    "    if len(row) != len(iOS_header):\n",
    "        print(row)"
   ]
  },
  {
   "cell_type": "markdown",
   "metadata": {},
   "source": [
    "Since there's no output of this for-loop, there's no row with missing column.\n",
    "\n",
    "Next, we identify repeated rows in GooglePlay's data:\n"
   ]
  },
  {
   "cell_type": "code",
   "execution_count": 4,
   "metadata": {},
   "outputs": [
    {
     "name": "stdout",
     "output_type": "stream",
     "text": [
      "483\n",
      "[['Quick PDF Scanner + OCR FREE', 'BUSINESS', '4.2', '80805', 'Varies with device', '5,000,000+', 'Free', '0', 'Everyone', 'Business', 'February 26, 2018', 'Varies with device', '4.0.3 and up'], ['Box', 'BUSINESS', '4.2', '159872', 'Varies with device', '10,000,000+', 'Free', '0', 'Everyone', 'Business', 'July 31, 2018', 'Varies with device', 'Varies with device'], ['Google My Business', 'BUSINESS', '4.4', '70991', 'Varies with device', '5,000,000+', 'Free', '0', 'Everyone', 'Business', 'July 24, 2018', '2.19.0.204537701', '4.4 and up'], ['ZOOM Cloud Meetings', 'BUSINESS', '4.4', '31614', '37M', '10,000,000+', 'Free', '0', 'Everyone', 'Business', 'July 20, 2018', '4.1.28165.0716', '4.0 and up'], ['join.me - Simple Meetings', 'BUSINESS', '4.0', '6989', 'Varies with device', '1,000,000+', 'Free', '0', 'Everyone', 'Business', 'July 16, 2018', '4.3.0.508', '4.4 and up'], ['Box', 'BUSINESS', '4.2', '159872', 'Varies with device', '10,000,000+', 'Free', '0', 'Everyone', 'Business', 'July 31, 2018', 'Varies with device', 'Varies with device'], ['Zenefits', 'BUSINESS', '4.2', '296', '14M', '50,000+', 'Free', '0', 'Everyone', 'Business', 'June 15, 2018', '3.2.1', '4.1 and up'], ['Google Ads', 'BUSINESS', '4.3', '29313', '20M', '5,000,000+', 'Free', '0', 'Everyone', 'Business', 'July 30, 2018', '1.12.0', '4.0.3 and up'], ['Google My Business', 'BUSINESS', '4.4', '70991', 'Varies with device', '5,000,000+', 'Free', '0', 'Everyone', 'Business', 'July 24, 2018', '2.19.0.204537701', '4.4 and up'], ['Slack', 'BUSINESS', '4.4', '51507', 'Varies with device', '5,000,000+', 'Free', '0', 'Everyone', 'Business', 'August 2, 2018', 'Varies with device', 'Varies with device'], ['FreshBooks Classic', 'BUSINESS', '4.1', '1802', '26M', '100,000+', 'Free', '0', 'Everyone', 'Business', 'April 18, 2018', '1.7.14', '4.2 and up'], ['Insightly CRM', 'BUSINESS', '3.8', '1383', '51M', '100,000+', 'Free', '0', 'Everyone', 'Business', 'July 12, 2018', '3.24.1', '5.0 and up'], ['QuickBooks Accounting: Invoicing & Expenses', 'BUSINESS', '4.3', '23175', '41M', '1,000,000+', 'Free', '0', 'Everyone', 'Business', 'July 13, 2018', '18.7', '4.1 and up'], ['HipChat - Chat Built for Teams', 'BUSINESS', '3.8', '5868', '20M', '500,000+', 'Free', '0', 'Everyone', 'Business', 'July 3, 2018', '3.19.005', '4.1 and up'], ['Xero Accounting Software', 'BUSINESS', '3.5', '2111', 'Varies with device', '100,000+', 'Free', '0', 'Everyone', 'Business', 'July 30, 2018', 'Varies with device', 'Varies with device'], ['MailChimp - Email, Marketing Automation', 'BUSINESS', '4.1', '5448', '12M', '500,000+', 'Free', '0', 'Everyone', 'Business', 'July 25, 2018', '4.9.1', '5.0 and up'], ['Crew - Free Messaging and Scheduling', 'BUSINESS', '4.6', '4159', '48M', '500,000+', 'Free', '0', 'Everyone', 'Business', 'July 20, 2018', '6.1.2', '4.0.3 and up'], ['Asana: organize team projects', 'BUSINESS', '4.3', '20815', '10M', '1,000,000+', 'Free', '0', 'Everyone', 'Business', 'July 26, 2018', '6.4.4', '5.0 and up'], ['Google Analytics', 'BUSINESS', '4.5', '78662', '22M', '1,000,000+', 'Free', '0', 'Everyone', 'Business', 'February 13, 2018', '3.7.5', '4.4 and up'], ['AdWords Express', 'BUSINESS', '4.1', '7149', '11M', '1,000,000+', 'Free', '0', 'Everyone', 'Business', 'July 31, 2018', '2.6.158', '4.0 and up'], ['Accounting App - Zoho Books', 'BUSINESS', '4.5', '3079', '8.5M', '100,000+', 'Free', '0', 'Everyone', 'Business', 'August 2, 2018', '5.20.7', '4.1 and up'], ['Invoice & Time Tracking - Zoho', 'BUSINESS', '4.6', '5800', '8.6M', '100,000+', 'Free', '0', 'Everyone', 'Business', 'August 2, 2018', '5.20.7', '4.1 and up'], ['join.me - Simple Meetings', 'BUSINESS', '4.0', '6989', 'Varies with device', '1,000,000+', 'Free', '0', 'Everyone', 'Business', 'July 16, 2018', '4.3.0.508', '4.4 and up'], ['Invoice 2go — Professional Invoices and Estimates', 'BUSINESS', '4.2', '16422', '28M', '1,000,000+', 'Free', '0', 'Everyone', 'Business', 'August 1, 2018', '10.46.2', '4.1 and up'], ['SignEasy | Sign and Fill PDF and other Documents', 'BUSINESS', '4.3', '8978', 'Varies with device', '1,000,000+', 'Free', '0', 'Everyone', 'Business', 'July 25, 2018', 'Varies with device', 'Varies with device'], ['Genius Scan - PDF Scanner', 'BUSINESS', '4.4', '42492', 'Varies with device', '1,000,000+', 'Free', '0', 'Everyone', 'Business', 'July 11, 2018', 'Varies with device', 'Varies with device'], ['Tiny Scanner - PDF Scanner App', 'BUSINESS', '4.7', '286897', '39M', '10,000,000+', 'Free', '0', 'Everyone', 'Business', 'May 30, 2017', '1.2.6', '3.0 and up'], ['Fast Scanner : Free PDF Scan', 'BUSINESS', '4.5', '103755', '14M', '10,000,000+', 'Free', '0', 'Everyone', 'Business', 'July 11, 2018', '3.9.2', '4.1 and up'], ['Mobile Doc Scanner (MDScan) Lite', 'BUSINESS', '4.2', '46505', '19M', '1,000,000+', 'Free', '0', 'Everyone', 'Business', 'August 2, 2018', '3.4.49', '4.1 and up'], ['TurboScan: scan documents and receipts in PDF', 'BUSINESS', '4.7', '11442', '6.8M', '100,000+', 'Paid', '$4.99', 'Everyone', 'Business', 'March 25, 2018', '1.5.2', '4.0 and up'], ['Tiny Scanner Pro: PDF Doc Scan', 'BUSINESS', '4.8', '10295', '39M', '100,000+', 'Paid', '$4.99', 'Everyone', 'Business', 'April 11, 2017', '3.4.6', '3.0 and up'], ['Docs To Go™ Free Office Suite', 'BUSINESS', '4.1', '217730', 'Varies with device', '50,000,000+', 'Free', '0', 'Everyone', 'Business', 'April 2, 2018', 'Varies with device', 'Varies with device'], ['QuickBooks Accounting: Invoicing & Expenses', 'BUSINESS', '4.3', '23175', '41M', '1,000,000+', 'Free', '0', 'Everyone', 'Business', 'July 13, 2018', '18.7', '4.1 and up'], ['WhatsApp Messenger', 'COMMUNICATION', '4.4', '69119316', 'Varies with device', '1,000,000,000+', 'Free', '0', 'Everyone', 'Communication', 'August 3, 2018', 'Varies with device', 'Varies with device'], ['Google Voice', 'COMMUNICATION', '4.2', '171031', 'Varies with device', '10,000,000+', 'Free', '0', 'Everyone', 'Communication', 'August 3, 2018', 'Varies with device', 'Varies with device'], ['Android Messages', 'COMMUNICATION', '4.2', '781810', 'Varies with device', '100,000,000+', 'Free', '0', 'Everyone', 'Communication', 'August 1, 2018', 'Varies with device', 'Varies with device'], ['Puffin Web Browser', 'COMMUNICATION', '4.3', '541389', 'Varies with device', '10,000,000+', 'Free', '0', 'Everyone', 'Communication', 'July 9, 2018', '7.5.3.20547', '4.1 and up'], ['Calls & Text by Mo+', 'COMMUNICATION', '4.2', '83239', '14M', '5,000,000+', 'Free', '0', 'Everyone', 'Communication', 'April 19, 2018', '3.0.4', '4.0 and up'], ['Viber Messenger', 'COMMUNICATION', '4.3', '11334973', 'Varies with device', '500,000,000+', 'Free', '0', 'Everyone', 'Communication', 'July 18, 2018', 'Varies with device', 'Varies with device'], ['imo free video calls and chat', 'COMMUNICATION', '4.3', '4785988', '11M', '500,000,000+', 'Free', '0', 'Everyone', 'Communication', 'June 8, 2018', '9.8.000000010501', '4.0 and up'], ['free video calls and chat', 'COMMUNICATION', '4.2', '594728', 'Varies with device', '50,000,000+', 'Free', '0', 'Everyone', 'Communication', 'July 19, 2018', '7.3(800241)', '4.4 and up'], ['Skype - free IM & video calls', 'COMMUNICATION', '4.1', '10484169', 'Varies with device', '1,000,000,000+', 'Free', '0', 'Everyone', 'Communication', 'August 3, 2018', 'Varies with device', 'Varies with device'], ['WeChat', 'COMMUNICATION', '4.2', '5387446', 'Varies with device', '100,000,000+', 'Free', '0', 'Everyone', 'Communication', 'July 31, 2018', 'Varies with device', 'Varies with device'], ['Glide - Video Chat Messenger', 'COMMUNICATION', '4.3', '350154', 'Varies with device', '10,000,000+', 'Free', '0', 'Everyone', 'Communication', 'July 29, 2018', 'Varies with device', 'Varies with device'], ['Talkray - Free Calls & Texts', 'COMMUNICATION', '4.2', '244863', 'Varies with device', '10,000,000+', 'Free', '0', 'Everyone', 'Communication', 'May 29, 2018', 'Varies with device', 'Varies with device'], ['LINE: Free Calls & Messages', 'COMMUNICATION', '4.2', '10790289', 'Varies with device', '500,000,000+', 'Free', '0', 'Everyone', 'Communication', 'July 26, 2018', 'Varies with device', 'Varies with device'], ['KakaoTalk: Free Calls & Text', 'COMMUNICATION', '4.3', '2546527', 'Varies with device', '100,000,000+', 'Free', '0', 'Everyone', 'Communication', 'August 3, 2018', 'Varies with device', 'Varies with device'], ['OkCupid Dating', 'DATING', '4.1', '285726', '15M', '10,000,000+', 'Free', '0', 'Mature 17+', 'Dating', 'July 30, 2018', '11.10.1', '4.1 and up'], ['CMB Free Dating App', 'DATING', '4.0', '48845', '40M', '1,000,000+', 'Free', '0', 'Mature 17+', 'Dating', 'August 1, 2018', '4.19.0.2320', '4.4 and up'], ['Hily: Dating, Chat, Match, Meet & Hook up', 'DATING', '4.1', '2556', '56M', '100,000+', 'Free', '0', 'Mature 17+', 'Dating', 'August 1, 2018', '2.5.2', '4.1 and up'], ['Hinge: Dating & Relationships', 'DATING', '4.2', '7779', '12M', '500,000+', 'Free', '0', 'Mature 17+', 'Dating', 'August 3, 2018', '6.1.3', '5.0 and up'], ['BBW Dating & Plus Size Chat', 'DATING', '4.4', '12632', '29M', '1,000,000+', 'Free', '0', 'Mature 17+', 'Dating', 'July 27, 2018', '3.5.0.1', '4.1 and up'], ['Casual Dating & Adult Singles - Joyride', 'DATING', '4.5', '61637', '11M', '5,000,000+', 'Free', '0', 'Mature 17+', 'Dating', 'July 31, 2018', '4.17.2', '4.1 and up'], ['EliteSingles – Dating for Single Professionals', 'DATING', '2.5', '5377', '19M', '500,000+', 'Free', '0', 'Mature 17+', 'Dating', 'July 31, 2018', '4.8.5', '4.0.3 and up'], ['Clover Dating App', 'DATING', '4.1', '11633', '23M', '500,000+', 'Free', '0', 'Mature 17+', 'Dating', 'July 24, 2018', '2.5.1', '4.1 and up'], ['Moco - Chat, Meet People', 'DATING', '4.2', '313724', 'Varies with device', '10,000,000+', 'Free', '0', 'Mature 17+', 'Dating', 'August 4, 2018', '2.6.141', '4.1 and up'], ['Hot or Not - Find someone right now', 'DATING', '4.1', '305708', 'Varies with device', '10,000,000+', 'Free', '0', 'Mature 17+', 'Dating', 'August 2, 2018', 'Varies with device', 'Varies with device'], ['Just She - Top Lesbian Dating', 'DATING', '1.9', '953', '19M', '100,000+', 'Free', '0', 'Mature 17+', 'Dating', 'July 18, 2018', '6.3.7', '5.0 and up'], ['Once - Quality Matches Every day', 'DATING', '4.4', '222888', '21M', '1,000,000+', 'Free', '0', 'Mature 17+', 'Dating', 'July 17, 2018', '2.45', '4.1 and up'], ['Sudy – Meet Elite & Rich Single', 'DATING', '4.1', '17268', '40M', '500,000+', 'Free', '0', 'Mature 17+', 'Dating', 'June 25, 2018', '4.1.2', '4.0.3 and up'], ['muzmatch: Muslim & Arab Singles, Marriage & Dating', 'DATING', '3.8', '5164', '25M', '100,000+', 'Free', '0', 'Mature 17+', 'Dating', 'July 24, 2018', '3.8.75a', '4.0.3 and up'], ['Chispa, the Dating App for Latino, Latina Singles', 'DATING', '4.2', '4195', '24M', '100,000+', 'Free', '0', 'Mature 17+', 'Dating', 'July 25, 2018', '1.6.1', '4.4 and up'], ['Blendr - Chat, Flirt & Meet', 'DATING', '4.0', '28671', 'Varies with device', '1,000,000+', 'Free', '0', 'Mature 17+', 'Dating', 'August 1, 2018', 'Varies with device', 'Varies with device'], ['Find Real Love — YouLove Premium Dating', 'DATING', '4.5', '212626', '11M', '10,000,000+', 'Free', '0', 'Mature 17+', 'Dating', 'July 31, 2018', '4.17.2', '4.1 and up'], ['Gay Sugar Daddy Dating & Hookup – Sudy Gay', 'DATING', '4.1', '2212', '41M', '100,000+', 'Free', '0', 'Mature 17+', 'Dating', 'June 20, 2018', '2.0.5', '4.0.3 and up'], ['Adult Dirty Emojis', 'DATING', '2.8', '80', '5.5M', '10,000+', 'Free', '0', 'Teen', 'Dating', 'November 6, 2017', '1.0', '4.0.3 and up'], ['O-Star', 'DATING', '4.4', '59', '38M', '5,000+', 'Free', '0', 'Everyone', 'Dating', 'July 19, 2018', '1.0.1', '4.3 and up'], ['Random Video Chat', 'DATING', 'NaN', '3', '16M', '1,000+', 'Free', '0', 'Mature 17+', 'Dating', 'July 15, 2018', '4.20', '4.0.3 and up'], ['Black People Meet Singles Date', 'DATING', '3.9', '10212', '5.0M', '1,000,000+', 'Free', '0', 'Mature 17+', 'Dating', 'July 25, 2018', '1.9.7', '4.4 and up'], ['Howlr', 'DATING', '3.9', '105', '27M', '5,000+', 'Free', '0', 'Mature 17+', 'Dating', 'June 19, 2018', '1.0.4', '4.4 and up'], ['Cardi B Live Stream Video Chat - Prank', 'DATING', '4.4', '28', '3.4M', '500+', 'Free', '0', 'Everyone', 'Dating', 'July 16, 2018', '2.5', '4.0.3 and up'], ['Chat Kids - Chat Room For Kids', 'DATING', '4.7', '6', '4.9M', '100+', 'Free', '0', 'Mature 17+', 'Dating', 'July 24, 2018', '1.0', '4.0.3 and up'], ['Transenger – Ts Dating and Chat for Free', 'DATING', '3.6', '8', '14M', '1,000+', 'Free', '0', 'Mature 17+', 'Dating', 'July 29, 2018', '1.4.0', '4.4 and up'], ['BBW Dating & Curvy Singles Chat- LargeFriends', 'DATING', '4.4', '218', '27M', '10,000+', 'Free', '0', 'Mature 17+', 'Dating', 'July 23, 2018', '5.2.9', '4.1 and up'], ['MouseMingle', 'DATING', '2.7', '3', '3.9M', '100+', 'Free', '0', 'Mature 17+', 'Dating', 'July 17, 2018', '1.0.0', '4.4 and up'], ['Live Talk - Free Text and Video Chat', 'DATING', '4.6', '185', '5.0M', '10,000+', 'Free', '0', 'Mature 17+', 'Dating', 'July 16, 2018', '8.2', '4.0.3 and up'], ['Adult Dirty Emojis', 'DATING', '2.8', '80', '5.5M', '10,000+', 'Free', '0', 'Teen', 'Dating', 'November 6, 2017', '1.0', '4.0.3 and up'], ['Free Cam Girls - Live Webcam', 'DATING', '3.5', '35', '16M', '1,000+', 'Free', '0', 'Mature 17+', 'Dating', 'July 16, 2018', '2.4', '4.0.3 and up'], ['Random Video Chat App With Strangers', 'DATING', 'NaN', '3', '4.8M', '1,000+', 'Free', '0', 'Mature 17+', 'Dating', 'July 17, 2018', '1.', '4.0 and up'], ['Live Girls Talk - Free Video Chat', 'DATING', '4.8', '125', '4.7M', '5,000+', 'Free', '0', 'Mature 17+', 'Dating', 'July 8, 2018', '8.2', '4.0.3 and up'], ['Girls Live Chat - Free Text & Video Chat', 'DATING', '4.8', '110', '4.9M', '10,000+', 'Free', '0', 'Mature 17+', 'Dating', 'July 9, 2018', '8.2', '4.0.3 and up'], ['Free Dating App - Meet Local Singles - Flirt Chat', 'DATING', '4.1', '825', 'Varies with device', '100,000+', 'Free', '0', 'Mature 17+', 'Dating', 'December 28, 2017', '1.0.5', '4.0 and up'], ['iPair-Meet, Chat, Dating', 'DATING', '4.5', '182986', '77M', '5,000,000+', 'Free', '0', 'Mature 17+', 'Dating', 'August 2, 2018', '5.0.8', '4.1 and up'], ['Free Dating Hook Up Messenger', 'DATING', '3.3', '1157', '21M', '100,000+', 'Free', '0', 'Mature 17+', 'Dating', 'January 27, 2017', '5.0.1', '4.2 and up'], ['Khan Academy', 'EDUCATION', '4.6', '85375', '21M', '5,000,000+', 'Free', '0', 'Everyone', 'Education', 'July 27, 2018', '5.0.0', '4.1 and up'], ['TED', 'EDUCATION', '4.6', '181893', '18M', '10,000,000+', 'Free', '0', 'Everyone 10+', 'Education', 'July 27, 2018', '3.2.5', '4.1 and up'], ['Lumosity: #1 Brain Games & Cognitive Training App', 'EDUCATION', '4.2', '215301', 'Varies with device', '10,000,000+', 'Free', '0', 'Everyone', 'Education', 'August 1, 2018', 'Varies with device', 'Varies with device'], ['Udemy - Online Courses', 'EDUCATION', '4.5', '99020', '18M', '1,000,000+', 'Free', '0', 'Everyone', 'Education', 'August 2, 2018', '5.0.4', '5.0 and up'], ['Khan Academy', 'EDUCATION', '4.6', '85375', '21M', '5,000,000+', 'Free', '0', 'Everyone', 'Education', 'July 27, 2018', '5.0.0', '4.1 and up'], ['TED', 'EDUCATION', '4.6', '181893', '18M', '10,000,000+', 'Free', '0', 'Everyone 10+', 'Education', 'July 27, 2018', '3.2.5', '4.1 and up'], ['Quizlet: Learn Languages & Vocab with Flashcards', 'EDUCATION', '4.6', '211856', 'Varies with device', '10,000,000+', 'Free', '0', 'Everyone', 'Education', 'August 1, 2018', 'Varies with device', 'Varies with device'], ['Coursera: Online courses', 'EDUCATION', '4.4', '90481', 'Varies with device', '5,000,000+', 'Free', '0', 'Everyone', 'Education', 'July 27, 2018', 'Varies with device', 'Varies with device'], ['Udemy - Online Courses', 'EDUCATION', '4.5', '99020', '18M', '1,000,000+', 'Free', '0', 'Everyone', 'Education', 'August 2, 2018', '5.0.4', '5.0 and up'], ['Udacity - Lifelong Learning', 'EDUCATION', '4.3', '22384', '17M', '1,000,000+', 'Free', '0', 'Everyone', 'Education', 'July 31, 2018', '4.7.0', '5.0 and up'], ['Lynda - Online Training Videos', 'EDUCATION', '4.2', '8599', '17M', '1,000,000+', 'Free', '0', 'Everyone', 'Education', 'July 11, 2018', '4.9.10', '4.1 and up'], ['Brilliant', 'EDUCATION', '4.5', '41185', 'Varies with device', '1,000,000+', 'Free', '0', 'Everyone', 'Education', 'August 3, 2018', 'Varies with device', 'Varies with device'], ['Duolingo: Learn Languages Free', 'EDUCATION', '4.7', '6290507', 'Varies with device', '100,000,000+', 'Free', '0', 'Everyone', 'Education;Education', 'August 1, 2018', 'Varies with device', 'Varies with device'], ['Learn languages, grammar & vocabulary with Memrise', 'EDUCATION', '4.7', '1107903', 'Varies with device', '10,000,000+', 'Free', '0', 'Everyone', 'Education', 'August 2, 2018', 'Varies with device', 'Varies with device'], ['Quizlet: Learn Languages & Vocab with Flashcards', 'EDUCATION', '4.6', '211856', 'Varies with device', '10,000,000+', 'Free', '0', 'Everyone', 'Education', 'August 1, 2018', 'Varies with device', 'Varies with device'], ['Duolingo: Learn Languages Free', 'EDUCATION', '4.7', '6290507', 'Varies with device', '100,000,000+', 'Free', '0', 'Everyone', 'Education;Education', 'August 1, 2018', 'Varies with device', 'Varies with device'], ['Learn 50 languages', 'EDUCATION', '4.4', '55256', '14M', '5,000,000+', 'Free', '0', 'Everyone', 'Education', 'June 19, 2018', '10.9.1', '4.0 and up'], ['Mango Languages: Lovable Language Courses', 'EDUCATION', '4.0', '4815', '19M', '500,000+', 'Free', '0', 'Everyone', 'Education', 'July 17, 2018', '4.2.3', '4.2 and up'], ['Rosetta Stone: Learn to Speak & Read New Languages', 'EDUCATION', '4.5', '172508', '76M', '5,000,000+', 'Free', '0', 'Everyone', 'Education;Education', 'June 27, 2018', '5.2.1', '5.0 and up'], ['Babbel – Learn Languages', 'EDUCATION', '4.3', '266948', '21M', '10,000,000+', 'Free', '0', 'Everyone', 'Education', 'July 30, 2018', '20.7.2', '4.4 and up'], ['My Class Schedule: Timetable', 'EDUCATION', '4.1', '9348', 'Varies with device', '1,000,000+', 'Free', '0', 'Everyone', 'Education', 'June 1, 2016', 'Varies with device', 'Varies with device'], ['Socratic - Math Answers & Homework Help', 'EDUCATION', '4.6', '37862', '5.4M', '1,000,000+', 'Free', '0', 'Everyone', 'Education', 'June 7, 2018', '1.8.1', '4.1 and up'], ['Google Classroom', 'EDUCATION', '4.2', '69498', 'Varies with device', '10,000,000+', 'Free', '0', 'Everyone', 'Education', 'July 19, 2018', 'Varies with device', 'Varies with device'], ['Quizlet: Learn Languages & Vocab with Flashcards', 'EDUCATION', '4.6', '211856', 'Varies with device', '10,000,000+', 'Free', '0', 'Everyone', 'Education', 'August 1, 2018', 'Varies with device', 'Varies with device'], ['busuu: Learn Languages - Spanish, English & More', 'EDUCATION', '4.3', '206532', '21M', '10,000,000+', 'Free', '0', 'Everyone 10+', 'Education', 'August 1, 2018', '13.9.0.161', '5.0 and up'], ['Rosetta Stone: Learn to Speak & Read New Languages', 'EDUCATION', '4.5', '172508', '76M', '5,000,000+', 'Free', '0', 'Everyone', 'Education;Education', 'June 27, 2018', '5.2.1', '5.0 and up'], ['Movies by Flixster, with Rotten Tomatoes', 'ENTERTAINMENT', '4.5', '653008', '16M', '10,000,000+', 'Free', '0', 'Everyone', 'Entertainment', 'June 20, 2018', '9.1.4', '4.4 and up'], ['Netflix', 'ENTERTAINMENT', '4.4', '5456208', 'Varies with device', '100,000,000+', 'Free', '0', 'Teen', 'Entertainment', 'July 31, 2018', 'Varies with device', 'Varies with device'], ['IMDb Movies & TV', 'ENTERTAINMENT', '4.2', '501498', '12M', '100,000,000+', 'Free', '0', 'Teen', 'Entertainment', 'July 26, 2018', 'Varies with device', 'Varies with device'], ['STARZ', 'ENTERTAINMENT', '4.3', '88185', 'Varies with device', '10,000,000+', 'Free', '0', 'Mature 17+', 'Entertainment', 'June 20, 2018', 'Varies with device', 'Varies with device'], ['Crackle - Free TV & Movies', 'ENTERTAINMENT', '3.7', '388089', 'Varies with device', '10,000,000+', 'Free', '0', 'Teen', 'Entertainment', 'April 12, 2018', 'Varies with device', 'Varies with device'], ['CBS - Full Episodes & Live TV', 'ENTERTAINMENT', '3.8', '92058', '12M', '10,000,000+', 'Free', '0', 'Teen', 'Entertainment', 'July 20, 2018', '4.8.6', '4.1 and up'], ['Nick', 'ENTERTAINMENT', '4.2', '123279', '25M', '10,000,000+', 'Free', '0', 'Everyone 10+', 'Entertainment;Music & Video', 'January 24, 2018', '2.0.8', '4.4 and up'], ['FOX NOW - On Demand & Live TV', 'ENTERTAINMENT', '3.9', '60841', 'Varies with device', '5,000,000+', 'Free', '0', 'Teen', 'Entertainment', 'July 26, 2018', 'Varies with device', '4.4 and up'], ['The CW', 'ENTERTAINMENT', '4.4', '288150', '21M', '5,000,000+', 'Free', '0', 'Teen', 'Entertainment', 'July 23, 2018', '2.17', '4.4 and up'], ['HISTORY: Watch TV Show Full Episodes & Specials', 'ENTERTAINMENT', '4.1', '33387', '20M', '1,000,000+', 'Free', '0', 'Teen', 'Entertainment', 'July 16, 2018', '3.1.4', '4.4 and up'], ['HBO NOW: Stream TV & Movies', 'ENTERTAINMENT', '3.9', '61201', 'Varies with device', '10,000,000+', 'Free', '0', 'Teen', 'Entertainment', 'July 19, 2018', 'Varies with device', 'Varies with device'], ['A&E - Watch Full Episodes of TV Shows', 'ENTERTAINMENT', '4.0', '29706', '19M', '1,000,000+', 'Free', '0', 'Teen', 'Entertainment', 'July 16, 2018', '3.1.4', '4.4 and up'], ['VH1', 'ENTERTAINMENT', '4.1', '27424', '17M', '1,000,000+', 'Free', '0', 'Teen', 'Entertainment', 'July 8, 2018', '11.45.0', '4.4 and up'], ['BET NOW - Watch Shows', 'ENTERTAINMENT', '4.2', '14807', '19M', '1,000,000+', 'Free', '0', 'Teen', 'Entertainment', 'July 8, 2018', '11.45.0', '4.4 and up'], ['Tubi TV - Free Movies & TV', 'ENTERTAINMENT', '4.3', '296771', '11M', '10,000,000+', 'Free', '0', 'Teen', 'Entertainment', 'July 15, 2018', '2.13.5', '4.1 and up'], ['Crackle - Free TV & Movies', 'ENTERTAINMENT', '3.7', '388089', 'Varies with device', '10,000,000+', 'Free', '0', 'Teen', 'Entertainment', 'April 12, 2018', 'Varies with device', 'Varies with device'], ['Crunchyroll - Everything Anime', 'ENTERTAINMENT', '3.7', '310066', 'Varies with device', '10,000,000+', 'Free', '0', 'Teen', 'Entertainment', 'March 5, 2018', 'Varies with device', 'Varies with device'], ['Nick', 'ENTERTAINMENT', '4.2', '123279', '25M', '10,000,000+', 'Free', '0', 'Everyone 10+', 'Entertainment;Music & Video', 'January 24, 2018', '2.0.8', '4.4 and up'], ['STARZ', 'ENTERTAINMENT', '4.3', '88185', 'Varies with device', '10,000,000+', 'Free', '0', 'Mature 17+', 'Entertainment', 'June 20, 2018', 'Varies with device', 'Varies with device'], ['Hulu: Stream TV, Movies & more', 'ENTERTAINMENT', '4.0', '319691', 'Varies with device', '10,000,000+', 'Free', '0', 'Teen', 'Entertainment', 'August 3, 2018', 'Varies with device', '5.0 and up'], ['Food Network', 'ENTERTAINMENT', '4.1', '7813', 'Varies with device', '500,000+', 'Free', '0', 'Teen', 'Entertainment', 'July 27, 2018', 'Varies with device', 'Varies with device'], ['FOX NOW - On Demand & Live TV', 'ENTERTAINMENT', '3.9', '60841', 'Varies with device', '5,000,000+', 'Free', '0', 'Teen', 'Entertainment', 'July 26, 2018', 'Varies with device', '4.4 and up'], ['Movies by Flixster, with Rotten Tomatoes', 'ENTERTAINMENT', '4.5', '653008', '16M', '10,000,000+', 'Free', '0', 'Everyone', 'Entertainment', 'June 20, 2018', '9.1.4', '4.4 and up'], ['HISTORY: Watch TV Show Full Episodes & Specials', 'ENTERTAINMENT', '4.1', '33387', '20M', '1,000,000+', 'Free', '0', 'Teen', 'Entertainment', 'July 16, 2018', '3.1.4', '4.4 and up'], ['The CW', 'ENTERTAINMENT', '4.4', '288150', '21M', '5,000,000+', 'Free', '0', 'Teen', 'Entertainment', 'July 23, 2018', '2.17', '4.4 and up'], ['HBO NOW: Stream TV & Movies', 'ENTERTAINMENT', '3.9', '61201', 'Varies with device', '10,000,000+', 'Free', '0', 'Teen', 'Entertainment', 'July 19, 2018', 'Varies with device', 'Varies with device'], ['A&E - Watch Full Episodes of TV Shows', 'ENTERTAINMENT', '4.0', '29706', '19M', '1,000,000+', 'Free', '0', 'Teen', 'Entertainment', 'July 16, 2018', '3.1.4', '4.4 and up'], ['VH1', 'ENTERTAINMENT', '4.1', '27424', '17M', '1,000,000+', 'Free', '0', 'Teen', 'Entertainment', 'July 8, 2018', '11.45.0', '4.4 and up'], ['SHOWTIME', 'ENTERTAINMENT', '4.2', '12398', 'Varies with device', '1,000,000+', 'Free', '0', 'Teen', 'Entertainment', 'July 2, 2018', 'Varies with device', 'Varies with device'], ['MTV', 'ENTERTAINMENT', '3.8', '35279', '15M', '1,000,000+', 'Free', '0', 'Teen', 'Entertainment', 'July 8, 2018', '11.45.0', '4.4 and up'], ['Lifetime - Watch Full Episodes & Original Movies', 'ENTERTAINMENT', '4.0', '35931', '19M', '1,000,000+', 'Free', '0', 'Teen', 'Entertainment', 'July 16, 2018', '3.1.4', '4.4 and up'], ['Comedy Central', 'ENTERTAINMENT', '3.9', '22378', '19M', '1,000,000+', 'Free', '0', 'Teen', 'Entertainment', 'July 8, 2018', '11.45.0', '4.4 and up'], ['BET NOW - Watch Shows', 'ENTERTAINMENT', '4.2', '14807', '19M', '1,000,000+', 'Free', '0', 'Teen', 'Entertainment', 'July 8, 2018', '11.45.0', '4.4 and up'], ['FOX', 'ENTERTAINMENT', '3.7', '197774', '44M', '10,000,000+', 'Free', '0', 'Mature 17+', 'Entertainment', 'June 25, 2018', '6.6.1', '4.4 and up'], ['Telemundo Now', 'ENTERTAINMENT', '3.9', '8674', '19M', '1,000,000+', 'Free', '0', 'Teen', 'Entertainment', 'May 25, 2018', '3.3.1.42', '4.4 and up'], ['Viki: Asian TV Dramas & Movies', 'ENTERTAINMENT', '4.3', '407719', 'Varies with device', '10,000,000+', 'Free', '0', 'Teen', 'Entertainment', 'July 27, 2018', 'Varies with device', 'Varies with device'], ['Nick', 'ENTERTAINMENT', '4.2', '123279', '25M', '10,000,000+', 'Free', '0', 'Everyone 10+', 'Entertainment;Music & Video', 'January 24, 2018', '2.0.8', '4.4 and up'], ['Fandango Movies - Times + Tickets', 'ENTERTAINMENT', '4.6', '243747', 'Varies with device', '10,000,000+', 'Free', '0', 'Teen', 'Entertainment', 'August 2, 2018', 'Varies with device', 'Varies with device'], ['Google Pay', 'FINANCE', '4.2', '347838', 'Varies with device', '100,000,000+', 'Free', '0', 'Everyone', 'Finance', 'July 26, 2018', '2.70.206190089', 'Varies with device'], ['Wells Fargo Daily Change', 'FINANCE', '4.2', '283', '5.0M', '100,000+', 'Free', '0', 'Everyone', 'Finance', 'April 26, 2018', '2.5.0.26', '5.0 and up'], ['Robinhood - Investing, No Fees', 'FINANCE', '4.6', '57493', 'Varies with device', '1,000,000+', 'Free', '0', 'Everyone', 'Finance', 'July 31, 2018', 'Varies with device', 'Varies with device'], ['Digit Save Money Automatically', 'FINANCE', '4.5', '8188', '22M', '100,000+', 'Free', '0', 'Everyone', 'Finance', 'July 31, 2018', '2.29.01', '4.1 and up'], ['Mint: Budget, Bills, Finance', 'FINANCE', '4.3', '129304', 'Varies with device', '5,000,000+', 'Free', '0', 'Everyone', 'Finance', 'August 2, 2018', 'Varies with device', 'Varies with device'], ['Simple - Better Banking', 'FINANCE', '4.4', '7731', '24M', '100,000+', 'Free', '0', 'Everyone', 'Finance', 'August 2, 2018', '2.53.2', '5.0 and up'], ['Grubhub: Food Delivery', 'FOOD_AND_DRINK', '4.5', '155944', '35M', '5,000,000+', 'Free', '0', 'Everyone', 'Food & Drink', 'August 2, 2018', '7.12', '5.0 and up'], ['Postmates Food Delivery: Order Eats & Alcohol', 'FOOD_AND_DRINK', '3.6', '22875', '22M', '1,000,000+', 'Free', '0', 'Everyone', 'Food & Drink', 'July 27, 2018', '4.2.6', '5.0 and up'], [\"Domino's Pizza USA\", 'FOOD_AND_DRINK', '4.7', '1032935', 'Varies with device', '10,000,000+', 'Free', '0', 'Everyone', 'Food & Drink', 'July 20, 2018', 'Varies with device', 'Varies with device'], ['8fit Workouts & Meal Planner', 'HEALTH_AND_FITNESS', '4.6', '115721', '67M', '10,000,000+', 'Free', '0', 'Everyone', 'Health & Fitness', 'July 11, 2018', '3.5.0', '5.0 and up'], ['Daily Yoga - Yoga Fitness Plans', 'HEALTH_AND_FITNESS', '4.4', '70769', '35M', '5,000,000+', 'Free', '0', 'Everyone', 'Health & Fitness', 'July 24, 2018', '6.2.73', '4.0 and up'], ['Pocket Yoga', 'HEALTH_AND_FITNESS', '4.4', '2107', 'Varies with device', '100,000+', 'Paid', '$2.99', 'Everyone', 'Health & Fitness', 'December 22, 2015', 'Varies with device', 'Varies with device'], ['Weight Loss Running by Verv', 'HEALTH_AND_FITNESS', '4.5', '27396', '59M', '1,000,000+', 'Free', '0', 'Mature 17+', 'Health & Fitness', 'July 16, 2018', '6.5.3', '4.1 and up'], ['Nike+ Run Club', 'HEALTH_AND_FITNESS', '4.4', '708710', 'Varies with device', '10,000,000+', 'Free', '0', 'Everyone', 'Health & Fitness', 'July 12, 2018', '2.17.0', '4.4 and up'], ['Seven - 7 Minute Workout Training Challenge', 'HEALTH_AND_FITNESS', '4.5', '75571', 'Varies with device', '1,000,000+', 'Free', '0', 'Everyone', 'Health & Fitness', 'August 3, 2018', '7.2.5', 'Varies with device'], ['Workout Trainer: fitness coach', 'HEALTH_AND_FITNESS', '4.2', '100406', 'Varies with device', '10,000,000+', 'Free', '0', 'Everyone', 'Health & Fitness', 'June 30, 2018', 'Varies with device', 'Varies with device'], ['Run with Map My Run', 'HEALTH_AND_FITNESS', '4.5', '183669', '57M', '5,000,000+', 'Free', '0', 'Everyone', 'Health & Fitness', 'July 27, 2018', '18.7.1', '5.0 and up'], ['Nike Training Club - Workouts & Fitness Plans', 'HEALTH_AND_FITNESS', '4.6', '251534', '93M', '10,000,000+', 'Free', '0', 'Everyone', 'Health & Fitness', 'July 18, 2018', '5.14.0', '5.0 and up'], ['Fitbit Coach', 'HEALTH_AND_FITNESS', '4.6', '28951', '60M', '1,000,000+', 'Free', '0', 'Everyone', 'Health & Fitness', 'July 16, 2018', '4.4', '4.4 and up'], ['Runkeeper - GPS Track Run Walk', 'HEALTH_AND_FITNESS', '4.5', '501144', 'Varies with device', '10,000,000+', 'Free', '0', 'Everyone', 'Health & Fitness', 'July 16, 2018', 'Varies with device', 'Varies with device'], ['Calorie Counter - MyFitnessPal', 'HEALTH_AND_FITNESS', '4.6', '1873520', 'Varies with device', '50,000,000+', 'Free', '0', 'Everyone', 'Health & Fitness', 'July 31, 2018', 'Varies with device', 'Varies with device'], ['Lose It! - Calorie Counter', 'HEALTH_AND_FITNESS', '4.4', '69395', 'Varies with device', '10,000,000+', 'Free', '0', 'Everyone', 'Health & Fitness', 'August 3, 2018', 'Varies with device', 'Varies with device'], ['Calorie Counter - MyNetDiary', 'HEALTH_AND_FITNESS', '4.5', '27439', '19M', '1,000,000+', 'Free', '0', 'Everyone', 'Health & Fitness', 'July 16, 2018', '6.5.1', '5.0 and up'], ['10 Best Foods for You', 'HEALTH_AND_FITNESS', '4.0', '2490', '3.8M', '500,000+', 'Free', '0', 'Everyone 10+', 'Health & Fitness', 'February 17, 2017', '1.9', '2.3.3 and up'], ['MyPlate Calorie Tracker', 'HEALTH_AND_FITNESS', '4.6', '24094', '18M', '1,000,000+', 'Free', '0', 'Everyone', 'Health & Fitness', 'July 9, 2018', '3.3.0(1)', '4.1 and up'], ['Weight Loss Tracker - RecStyle', 'HEALTH_AND_FITNESS', '4.4', '20547', '5.7M', '1,000,000+', 'Free', '0', 'Everyone', 'Health & Fitness', 'November 29, 2017', '3.2.7', '4.1 and up'], ['Calorie Counter - Macros', 'HEALTH_AND_FITNESS', '4.0', '3061', '5.5M', '100,000+', 'Free', '0', 'Everyone', 'Health & Fitness', 'August 27, 2016', '2.3.4', '5.0 and up'], ['My Diet Diary Calorie Counter', 'HEALTH_AND_FITNESS', '4.1', '18539', '57M', '1,000,000+', 'Free', '0', 'Everyone', 'Health & Fitness', 'July 30, 2018', '1.11.4', '4.0.3 and up'], ['Lark - 24/7 Health Coach', 'HEALTH_AND_FITNESS', '4.1', '3405', '51M', '100,000+', 'Free', '0', 'Everyone', 'Health & Fitness', 'July 25, 2018', '4.5.1.123', '4.4 and up'], ['Weight Watchers Mobile', 'HEALTH_AND_FITNESS', '4.2', '270294', '58M', '5,000,000+', 'Free', '0', 'Everyone', 'Health & Fitness', 'July 31, 2018', '6.15.0', '4.1 and up'], ['Calorie Counter & Diet Tracker', 'HEALTH_AND_FITNESS', '4.5', '32606', 'Varies with device', '1,000,000+', 'Free', '0', 'Everyone', 'Health & Fitness', 'March 22, 2018', 'Varies with device', 'Varies with device'], ['MealLogger-Photo Food Journal', 'HEALTH_AND_FITNESS', '3.5', '217', '9.4M', '50,000+', 'Free', '0', 'Teen', 'Health & Fitness', 'August 23, 2017', '4.6.2', '4.0.3 and up'], ['Health and Nutrition Guide', 'HEALTH_AND_FITNESS', '4.3', '7895', '3.3M', '500,000+', 'Free', '0', 'Everyone', 'Health & Fitness', 'July 15, 2018', '3.3', '4.0 and up'], ['Food Calorie Calculator', 'HEALTH_AND_FITNESS', '4.2', '1324', '4.0M', '100,000+', 'Free', '0', 'Everyone', 'Health & Fitness', 'January 29, 2018', '10.2.0', '4.0 and up'], ['Calorie Counter - MyFitnessPal', 'HEALTH_AND_FITNESS', '4.6', '1873523', 'Varies with device', '50,000,000+', 'Free', '0', 'Everyone', 'Health & Fitness', 'July 31, 2018', 'Varies with device', 'Varies with device'], ['Lose It! - Calorie Counter', 'HEALTH_AND_FITNESS', '4.4', '69395', 'Varies with device', '10,000,000+', 'Free', '0', 'Everyone', 'Health & Fitness', 'August 3, 2018', 'Varies with device', 'Varies with device'], ['Relax Meditation: Sleep with Sleep Sounds', 'HEALTH_AND_FITNESS', '4.4', '26540', '43M', '1,000,000+', 'Free', '0', 'Everyone', 'Health & Fitness', 'February 9, 2017', '2.5.1', '4.0.3 and up'], ['Meditation Music - Relax, Yoga', 'HEALTH_AND_FITNESS', '4.6', '48226', '28M', '1,000,000+', 'Free', '0', 'Everyone', 'Health & Fitness', 'March 5, 2018', '3.1.9', '4.0.3 and up'], ['21-Day Meditation Experience', 'HEALTH_AND_FITNESS', '4.4', '11506', '15M', '100,000+', 'Free', '0', 'Everyone', 'Health & Fitness', 'August 2, 2018', '3.0.0', '4.1 and up'], ['Fabulous: Motivate Me! Meditate, Relax, Sleep', 'HEALTH_AND_FITNESS', '4.6', '205299', '31M', '5,000,000+', 'Free', '0', 'Everyone', 'Health & Fitness', 'July 16, 2018', '3.48', '4.1 and up'], ['Relax Melodies: Sleep Sounds', 'HEALTH_AND_FITNESS', '4.5', '233243', 'Varies with device', '5,000,000+', 'Free', '0', 'Everyone', 'Health & Fitness', 'July 23, 2018', 'Varies with device', 'Varies with device'], ['Simple Habit Meditation', 'HEALTH_AND_FITNESS', '4.7', '11689', '20M', '500,000+', 'Free', '0', 'Everyone', 'Health & Fitness', 'July 27, 2018', '1.29.15', '4.4 and up'], ['Headspace: Meditation & Mindfulness', 'HEALTH_AND_FITNESS', '4.6', '77563', '39M', '10,000,000+', 'Free', '0', 'Everyone', 'Health & Fitness', 'July 23, 2018', '3.6.4', '4.2 and up'], ['Daily Yoga - Yoga Fitness Plans', 'HEALTH_AND_FITNESS', '4.4', '70769', '35M', '5,000,000+', 'Free', '0', 'Everyone', 'Health & Fitness', 'July 24, 2018', '6.2.73', '4.0 and up'], ['Mortgage by Zillow: Calculator & Rates', 'HOUSE_AND_HOME', '4.3', '4435', '7.9M', '500,000+', 'Free', '0', 'Everyone', 'House & Home', 'March 2, 2016', '2.6.0.287', '4.0 and up'], ['Redfin Real Estate', 'HOUSE_AND_HOME', '4.6', '36857', '19M', '1,000,000+', 'Free', '0', 'Everyone', 'House & Home', 'July 25, 2018', '220.0', '5.0 and up'], ['Apartment List: Housing, Apt, and Property Rentals', 'HOUSE_AND_HOME', '4.5', '8481', '7.5M', '1,000,000+', 'Free', '0', 'Everyone', 'House & Home', 'August 3, 2018', '2.1.0', '5.0 and up'], ['Realtor.com Real Estate: Homes for Sale and Rent', 'HOUSE_AND_HOME', '4.5', '162243', '12M', '10,000,000+', 'Free', '0', 'Everyone', 'House & Home', 'July 26, 2018', '8.18', '4.0.3 and up'], ['Trulia Real Estate & Rentals', 'HOUSE_AND_HOME', '4.5', '175293', 'Varies with device', '10,000,000+', 'Free', '0', 'Everyone', 'House & Home', 'July 24, 2018', 'Varies with device', 'Varies with device'], ['Zillow: Find Houses for Sale & Apartments for Rent', 'HOUSE_AND_HOME', '4.5', '417907', '34M', '10,000,000+', 'Free', '0', 'Everyone', 'House & Home', 'August 1, 2018', '9.8.1.7425', '4.4 and up'], ['Apartments.com Rental Search', 'HOUSE_AND_HOME', '4.3', '22584', '16M', '1,000,000+', 'Free', '0', 'Everyone', 'House & Home', 'July 16, 2018', '4.7.13', '4.4 and up'], ['Vaniday - Beauty Booking App', 'LIFESTYLE', '3.6', '1067', 'Varies with device', '100,000+', 'Free', '0', 'Everyone', 'Lifestyle', 'March 20, 2018', '3.8.15', '4.1 and up'], ['StyleSeat', 'LIFESTYLE', '4.7', '20304', '24M', '500,000+', 'Free', '0', 'Everyone', 'Lifestyle', 'July 31, 2018', '4.35', '4.0.3 and up'], ['Fashion in Vogue', 'LIFESTYLE', '3.8', '1797', '6.8M', '100,000+', 'Free', '0', 'Everyone', 'Lifestyle', 'September 27, 2016', '2.0', '4.3 and up'], ['Wheretoget: Shop in style', 'LIFESTYLE', '4.1', '6808', '12M', '500,000+', 'Free', '0', 'Teen', 'Lifestyle', 'June 5, 2017', '3.2.0', '4.1 and up'], ['My Dressing - Fashion closet', 'LIFESTYLE', '4.1', '12452', 'Varies with device', '500,000+', 'Free', '0', 'Everyone', 'Lifestyle', 'January 26, 2017', 'Varies with device', 'Varies with device'], ['Chictopia', 'LIFESTYLE', '4.1', '360', '4.6M', '10,000+', 'Free', '0', 'Everyone', 'Lifestyle', 'April 30, 2014', '1.6.2', '2.2 and up'], ['Scarf Fashion Designer', 'LIFESTYLE', '4.4', '16637', '10M', '1,000,000+', 'Free', '0', 'Everyone', 'Lifestyle', 'June 18, 2017', '1.8', '2.3 and up'], ['Fashion in Vogue', 'LIFESTYLE', '3.8', '1797', '6.8M', '100,000+', 'Free', '0', 'Everyone', 'Lifestyle', 'September 27, 2016', '2.0', '4.3 and up'], ['Clash of Clans', 'GAME', '4.6', '44891723', '98M', '100,000,000+', 'Free', '0', 'Everyone 10+', 'Strategy', 'July 15, 2018', '10.322.16', '4.1 and up'], ['Fishdom', 'GAME', '4.6', '2157930', 'Varies with device', '10,000,000+', 'Free', '0', 'Everyone', 'Puzzle', 'July 19, 2018', '2.21.5', '4.0.3 and up'], ['Galaxy Attack: Alien Shooter', 'GAME', '4.6', '506275', 'Varies with device', '10,000,000+', 'Free', '0', 'Everyone', 'Arcade', 'August 1, 2018', '5.66', '4.1 and up'], ['Candy Crush Saga', 'GAME', '4.4', '22428456', '74M', '500,000,000+', 'Free', '0', 'Everyone', 'Casual', 'July 5, 2018', '1.129.0.2', '4.1 and up'], ['Sniper 3D Gun Shooter: Free Shooting Games - FPS', 'GAME', '4.6', '7672495', 'Varies with device', '100,000,000+', 'Free', '0', 'Mature 17+', 'Action', 'August 2, 2018', 'Varies with device', 'Varies with device'], ['Temple Run 2', 'GAME', '4.3', '8118937', '62M', '500,000,000+', 'Free', '0', 'Everyone', 'Action', 'July 5, 2018', '1.49.1', '4.0 and up'], ['Kick the Buddy', 'GAME', '4.3', '1000417', 'Varies with device', '50,000,000+', 'Free', '0', 'Teen', 'Action', 'July 5, 2018', 'Varies with device', '4.4 and up'], ['Block Craft 3D: Building Simulator Games For Free', 'GAME', '4.5', '946926', '57M', '50,000,000+', 'Free', '0', 'Everyone', 'Simulation', 'March 5, 2018', '2.10.2', '4.0.3 and up'], ['Wordscapes', 'GAME', '4.8', '230727', '87M', '10,000,000+', 'Free', '0', 'Everyone', 'Word', 'August 2, 2018', '1.0.47', '4.1 and up'], ['Honkai Impact 3rd', 'GAME', '4.7', '59017', '82M', '1,000,000+', 'Free', '0', 'Teen', 'Action', 'July 3, 2018', '2.2.1', '4.3 and up'], ['Subway Surfers', 'GAME', '4.5', '27725352', '76M', '1,000,000,000+', 'Free', '0', 'Everyone 10+', 'Arcade', 'July 12, 2018', '1.90.0', '4.1 and up'], ['slither.io', 'GAME', '4.4', '5235294', 'Varies with device', '100,000,000+', 'Free', '0', 'Everyone', 'Action', 'November 14, 2017', 'Varies with device', '2.3 and up'], ['Bowmasters', 'GAME', '4.7', '1535973', 'Varies with device', '50,000,000+', 'Free', '0', 'Teen', 'Action', 'July 23, 2018', '2.12.5', '4.1 and up'], ['Sniper 3D Gun Shooter: Free Shooting Games - FPS', 'GAME', '4.6', '7674252', 'Varies with device', '100,000,000+', 'Free', '0', 'Mature 17+', 'Action', 'August 2, 2018', 'Varies with device', 'Varies with device'], ['DRAGON BALL LEGENDS', 'GAME', '4.6', '337913', '48M', '5,000,000+', 'Free', '0', 'Teen', 'Action', 'August 3, 2018', '1.11.0', '6.0 and up'], ['Garena Free Fire', 'GAME', '4.5', '5476569', '53M', '100,000,000+', 'Free', '0', 'Teen', 'Action', 'August 3, 2018', '1.21.0', '4.0.3 and up'], ['Candy Crush Saga', 'GAME', '4.4', '22430188', '74M', '500,000,000+', 'Free', '0', 'Everyone', 'Casual', 'July 5, 2018', '1.129.0.2', '4.1 and up'], ['Plants vs. Zombies FREE', 'GAME', '4.4', '4067651', '69M', '100,000,000+', 'Free', '0', 'Everyone 10+', 'Strategy', 'July 6, 2018', '2.2.00', '4.1 and up'], ['Block Puzzle', 'GAME', '4.6', '59907', '7.8M', '5,000,000+', 'Free', '0', 'Everyone', 'Puzzle', 'March 6, 2018', '2.9', '2.3 and up'], ['Flow Free', 'GAME', '4.3', '1295625', '11M', '100,000,000+', 'Free', '0', 'Everyone', 'Puzzle', 'April 11, 2018', '4.0', '4.1 and up'], ['Jewels Star: OZ adventure', 'GAME', '4.5', '21892', '14M', '1,000,000+', 'Free', '0', 'Everyone', 'Puzzle', 'December 29, 2017', '1.3', '4.0 and up'], ['Magic Tiles 3', 'GAME', '4.5', '592504', 'Varies with device', '50,000,000+', 'Free', '0', 'Everyone', 'Music', 'August 3, 2018', '5.13.007', '4.1 and up'], ['Score! Hero', 'GAME', '4.6', '5419676', '96M', '100,000,000+', 'Free', '0', 'Everyone', 'Sports', 'June 13, 2018', '1.751', '4.4 and up'], ['Super ABC! Learning games for kids! Preschool apps', 'FAMILY', '4.6', '20267', '46M', '1,000,000+', 'Free', '0', 'Everyone', 'Educational;Education', 'July 16, 2018', '1.1.6.7', '4.1 and up'], ['PJ Masks: Moonlight Heroes', 'FAMILY', '4.4', '86961', '99M', '10,000,000+', 'Free', '0', 'Everyone', 'Casual;Action & Adventure', 'June 5, 2018', '2.0.1', '4.0.3 and up'], ['Minion Rush: Despicable Me Official Game', 'FAMILY', '4.5', '10216997', 'Varies with device', '100,000,000+', 'Free', '0', 'Everyone 10+', 'Casual;Action & Adventure', 'July 12, 2018', 'Varies with device', 'Varies with device'], ['DC Super Hero Girls™', 'FAMILY', '4.3', '43060', '95M', '5,000,000+', 'Free', '0', 'Everyone', 'Action;Action & Adventure', 'June 29, 2018', '2.8.0', '4.0 and up'], ['Strawberry Shortcake BerryRush', 'FAMILY', '4.3', '525552', '48M', '10,000,000+', 'Free', '0', 'Everyone', 'Action;Action & Adventure', 'October 15, 2017', '1.2.3', '2.3 and up'], ['Disney Magic Kingdoms: Build Your Own Magical Park', 'FAMILY', '4.3', '472584', '91M', '10,000,000+', 'Free', '0', 'Everyone', 'Simulation;Action & Adventure', 'August 2, 2018', '3.2.0h', '4.0.3 and up'], ['Papumba Academy - Fun Learning For Kids', 'FAMILY', '4.4', '496', '94M', '100,000+', 'Free', '0', 'Everyone', 'Education;Education', 'July 11, 2018', '1.0', '4.2 and up'], ['Kids Balloon Pop Game Free 🎈', 'FAMILY', '4.1', '38021', '19M', '10,000,000+', 'Free', '0', 'Everyone', 'Casual;Music & Video', 'July 6, 2018', '18.2', '4.0.3 and up'], ['Sounds for Toddlers FREE', 'FAMILY', '4.4', '6190', '23M', '1,000,000+', 'Free', '0', 'Everyone', 'Educational;Education', 'August 24, 2015', '1.7.1', '4.0 and up'], ['Elmo Calls by Sesame Street', 'FAMILY', '3.9', '6903', '25M', '1,000,000+', 'Free', '0', 'Everyone', 'Educational;Pretend Play', 'January 31, 2018', '2.0.7', '2.3 and up'], ['Sago Mini Friends', 'FAMILY', '4.4', '13155', '83M', '1,000,000+', 'Free', '0', 'Everyone', 'Education;Pretend Play', 'June 16, 2016', '1.3', '4.0.3 and up'], ['Papumba Academy - Fun Learning For Kids', 'FAMILY', '4.4', '496', '94M', '100,000+', 'Free', '0', 'Everyone', 'Education;Education', 'July 11, 2018', '1.0', '4.2 and up'], ['Tee and Mo Bath Time Free', 'FAMILY', '3.6', '418', '97M', '100,000+', 'Free', '0', 'Everyone', 'Educational;Education', 'November 7, 2016', '1.0.3', '4.0.3 and up'], ['Bita and the Animals - Pelos Ares', 'FAMILY', '4.4', '1160', '37M', '100,000+', 'Free', '0', 'Everyone', 'Education;Music & Video', 'May 22, 2013', '1.0', '2.2 and up'], ['TO-FU Oh!SUSHI', 'FAMILY', '4.1', '59917', '92M', '5,000,000+', 'Free', '0', 'Everyone', 'Education;Pretend Play', 'July 31, 2018', '2.3', '4.4 and up'], ['DreamWorks Friends', 'FAMILY', '3.6', '1042', '48M', '100,000+', 'Free', '0', 'Everyone', 'Role Playing;Pretend Play', 'August 4, 2017', '2.5', '4.3 and up'], ['Avokiddo Emotions', 'FAMILY', '4.6', '73', '12M', '1,000+', 'Paid', '$2.99', 'Everyone', 'Education;Pretend Play', 'May 21, 2018', '1.7.0', '4.0.3 and up'], ['Nighty Night Circus', 'FAMILY', '4.3', '382', '15M', '10,000+', 'Paid', '$2.99', 'Everyone', 'Education;Action & Adventure', 'March 7, 2017', '2.6', '2.3 and up'], ['Sago Mini Babies', 'FAMILY', '4.5', '253', '83M', '10,000+', 'Paid', '$3.99', 'Everyone', 'Education;Pretend Play', 'October 28, 2016', '1.1', '4.0.3 and up'], [\"Dr. Panda & Toto's Treehouse\", 'FAMILY', '4.4', '3396', '9.5M', '50,000+', 'Paid', '$3.99', 'Everyone', 'Casual;Pretend Play', 'December 9, 2014', '1.8', '4.0 and up'], ['Baby Panda Care', 'FAMILY', '4.2', '108795', '49M', '10,000,000+', 'Free', '0', 'Everyone', 'Educational;Pretend Play', 'June 15, 2018', '8.25.10.00', '4.0.3 and up'], ['Shopkins World!', 'FAMILY', '4.3', '169609', '34M', '10,000,000+', 'Free', '0', 'Everyone', 'Arcade;Action & Adventure', 'June 13, 2018', '3.6.1', '4.1 and up'], ['DisneyNOW – TV Shows & Games', 'FAMILY', '4.3', '82471', 'Varies with device', '5,000,000+', 'Free', '0', 'Everyone', 'Entertainment;Music & Video', 'July 5, 2018', 'Varies with device', '4.4 and up'], ['Equestria Girls', 'FAMILY', '4.3', '392596', '53M', '10,000,000+', 'Free', '0', 'Everyone', 'Role Playing;Action & Adventure', 'July 22, 2016', '37893', '4.0 and up'], ['Thomas & Friends: Race On!', 'FAMILY', '4.1', '29319', '26M', '5,000,000+', 'Free', '0', 'Everyone', 'Casual;Action & Adventure', 'May 18, 2018', '2.4', '4.4 and up'], ['Inside Out Thought Bubbles', 'FAMILY', '4.4', '623398', '58M', '10,000,000+', 'Free', '0', 'Everyone', 'Puzzle;Brain Games', 'August 31, 2017', '1.22.0', '4.0.3 and up'], ['Sago Mini Friends', 'FAMILY', '4.4', '13155', '83M', '1,000,000+', 'Free', '0', 'Everyone', 'Education;Pretend Play', 'June 16, 2016', '1.3', '4.0.3 and up'], ['School of Dragons', 'FAMILY', '4.1', '530792', 'Varies with device', '10,000,000+', 'Free', '0', 'Everyone', 'Role Playing;Action & Adventure', 'May 30, 2018', 'Varies with device', 'Varies with device'], ['Vargo Anesthesia Mega App', 'MEDICAL', '4.6', '92', '32M', '1,000+', 'Paid', '$79.99', 'Everyone', 'Medical', 'June 18, 2018', '19.0', '4.0.3 and up'], ['Monash Uni Low FODMAP Diet', 'MEDICAL', '4.2', '1135', '12M', '100,000+', 'Paid', '$9.00', 'Everyone', 'Medical', 'July 16, 2018', '2.0.7', '4.0 and up'], ['mySugr: the blood sugar tracker made just for you', 'MEDICAL', '4.6', '21189', '36M', '1,000,000+', 'Free', '0', 'Everyone', 'Medical', 'August 6, 2018', '3.52.1', '5.0 and up'], ['Human Anatomy Atlas 2018: Complete 3D Human Body', 'MEDICAL', '4.5', '2921', '25M', '100,000+', 'Paid', '$24.99', 'Everyone', 'Medical', 'May 25, 2018', '2018.5.47', '5.0 and up'], ['ASCCP Mobile', 'MEDICAL', '4.5', '63', '25M', '10,000+', 'Paid', '$9.99', 'Everyone', 'Medical', 'October 3, 2016', '2.1.1', '2.2 and up'], ['Paramedic Protocol Provider', 'MEDICAL', '4.5', '171', '20M', '10,000+', 'Paid', '$10.00', 'Everyone 10+', 'Medical', 'September 21, 2017', '1.8.3', '4.1 and up'], ['2017 EMRA Antibiotic Guide', 'MEDICAL', '4.4', '12', '3.8M', '1,000+', 'Paid', '$16.99', 'Everyone', 'Medical', 'January 27, 2017', '1.0.5', '4.0.3 and up'], ['Essential Anatomy 3', 'MEDICAL', '4.1', '1533', '42M', '50,000+', 'Paid', '$11.99', 'Mature 17+', 'Medical', 'August 7, 2014', '1.1.3', '4.0.3 and up'], ['EMT PASS', 'MEDICAL', '3.4', '51', '2.4M', '1,000+', 'Paid', '$29.99', 'Everyone', 'Medical', 'October 22, 2014', '2.0.2', '4.0 and up'], ['Block Buddy', 'MEDICAL', '4.0', '15', '5.0M', '1,000+', 'Paid', '$14.99', 'Everyone', 'Medical', 'August 1, 2018', '7.6.14', '4.0 and up'], ['EMT Review Plus', 'MEDICAL', '4.5', '199', '1.8M', '10,000+', 'Paid', '$11.99', 'Everyone', 'Medical', 'June 27, 2018', '3.0.5', '4.4W and up'], ['Journal Club: Medicine', 'MEDICAL', '4.8', '216', 'Varies with device', '10,000+', 'Paid', '$6.99', 'Everyone', 'Medical', 'June 17, 2017', 'Varies with device', 'Varies with device'], ['Pedi STAT', 'MEDICAL', '4.6', '129', '2.9M', '10,000+', 'Paid', '$5.49', 'Everyone', 'Medical', 'April 6, 2018', '3.0.1.0', '4.1 and up'], ['AnatomyMapp', 'MEDICAL', '4.1', '80', '48M', '5,000+', 'Paid', '$14.99', 'Everyone', 'Medical', 'November 5, 2013', '1.0', '3.0 and up'], ['Diabetes & Diet Tracker', 'MEDICAL', '4.6', '395', '19M', '1,000+', 'Paid', '$9.99', 'Everyone', 'Medical', 'July 16, 2018', '6.5.1', '5.0 and up'], ['A Manual of Acupuncture', 'MEDICAL', '3.5', '214', '68M', '1,000+', 'Paid', '$33.99', 'Everyone', 'Medical', 'October 2, 2017', '2.1.35', '4.0 and up'], ['PTA Content Master', 'MEDICAL', '4.2', '64', '41M', '1,000+', 'Paid', '$29.99', 'Everyone', 'Medical', 'December 22, 2015', '2.1', '2.2 and up'], ['Muscle Premium - Human Anatomy, Kinesiology, Bones', 'MEDICAL', '4.2', '168', '25M', '10,000+', 'Paid', '$24.99', 'Everyone', 'Medical', 'August 11, 2017', '7.1.17', '4.4 and up'], ['Cardiac diagnosis (heart rate, arrhythmia)', 'MEDICAL', '4.4', '8', '6.5M', '100+', 'Paid', '$12.99', 'Everyone', 'Medical', 'July 25, 2018', '7', '3.0 and up'], ['Medical ID - In Case of Emergency (ICE)', 'MEDICAL', '4.6', '717', '5.4M', '5,000+', 'Paid', '$5.99', 'Everyone', 'Medical', 'May 31, 2018', '6.5.0', '5.0 and up'], ['IBM Micromedex Drug Info', 'MEDICAL', '3.8', '206', '9.5M', '10,000+', 'Paid', '$2.99', 'Everyone', 'Medical', 'April 25, 2018', '1.17.0', '4.0 and up'], ['Advanced Comprehension Therapy', 'MEDICAL', 'NaN', '3', '62M', '100+', 'Paid', '$24.99', 'Everyone', 'Medical', 'October 5, 2017', '1.2', '4.0.3 and up'], ['Hospitalist Handbook', 'MEDICAL', '4.8', '12', '18M', '1,000+', 'Paid', '$19.99', 'Everyone', 'Medical', 'June 5, 2017', '6.0.4', '4.1 and up'], ['Teladoc Member', 'MEDICAL', '4.0', '2094', '23M', '500,000+', 'Free', '0', 'Everyone', 'Medical', 'July 26, 2018', '3.19', '4.3 and up'], ['Ada - Your Health Guide', 'MEDICAL', '4.7', '87418', '14M', '1,000,000+', 'Free', '0', 'Everyone', 'Medical', 'July 16, 2018', '2.25.0', '4.4 and up'], ['MoodSpace', 'MEDICAL', '4.5', '503', '22M', '50,000+', 'Free', '0', 'Everyone', 'Medical', 'June 10, 2018', '3.2.4', '5.0 and up'], ['Super Hearing Super Ear Amplifier', 'MEDICAL', '4.1', '21', '20M', '1,000+', 'Free', '0', 'Everyone', 'Medical', 'June 11, 2018', '1.1', '4.1 and up'], ['Penn State Health OnDemand', 'MEDICAL', 'NaN', '0', '40M', '50+', 'Free', '0', 'Everyone', 'Medical', 'July 24, 2018', '10.4.1.018_06', '4.0.3 and up'], ['ScriptSave WellRx Rx Discounts', 'MEDICAL', '3.8', '700', '37M', '100,000+', 'Free', '0', 'Everyone', 'Medical', 'June 21, 2018', '3.3.0', '4.4 and up'], ['Free Blood Pressure', 'MEDICAL', 'NaN', '7', '5.7M', '5,000+', 'Free', '0', 'Everyone', 'Medical', 'October 13, 2016', '3.0.0', '4.0.3 and up'], ['All Mental disorders', 'MEDICAL', '4.5', '453', '11M', '100,000+', 'Free', '0', 'Everyone', 'Medical', 'July 7, 2017', '1.1', '4.0.3 and up'], ['Nurse Grid', 'MEDICAL', '4.5', '1686', '15M', '100,000+', 'Free', '0', 'Everyone', 'Medical', 'July 30, 2018', '2.9', '4.4 and up'], ['JH Blood Pressure Monitor', 'MEDICAL', '3.7', '9', '2.9M', '500+', 'Free', '0', 'Everyone', 'Medical', 'July 21, 2018', '1.1', '4.0.3 and up'], ['RT 516 VET', 'MEDICAL', 'NaN', '0', '29M', '10+', 'Free', '0', 'Everyone', 'Medical', 'July 13, 2018', '300000.1.11', '4.0.3 and up'], ['Anthem Anywhere', 'MEDICAL', '2.7', '2657', '24M', '500,000+', 'Free', '0', 'Everyone', 'Medical', 'July 27, 2018', '8.0.226', '4.4 and up'], ['Sway Medical', 'MEDICAL', '5.0', '3', '22M', '100+', 'Free', '0', 'Everyone', 'Medical', 'July 25, 2018', '3.0.0', '5.0 and up'], [\"fred's Pharmacy\", 'MEDICAL', '3.0', '315', '22M', '100,000+', 'Free', '0', 'Everyone', 'Medical', 'October 10, 2017', '1.0.02', '4.0 and up'], ['Breastfeeding Tracker Baby Log', 'MEDICAL', 'NaN', '6', '23M', '100+', 'Free', '0', 'Everyone', 'Medical', 'July 20, 2018', '1.3.5', '5.0 and up'], ['Banfield Pet Health Tracker', 'MEDICAL', '4.2', '1747', '5.9M', '100,000+', 'Free', '0', 'Everyone', 'Medical', 'October 17, 2016', '1.2.2', '4.0 and up'], ['1800 Contacts - Lens Store', 'MEDICAL', '4.7', '23160', '26M', '1,000,000+', 'Free', '0', 'Everyone', 'Medical', 'July 27, 2018', '7.4.1', '5.0 and up'], ['TextNow - free text + calls', 'SOCIAL', '4.4', '441189', 'Varies with device', '10,000,000+', 'Free', '0', 'Everyone', 'Social', 'August 3, 2018', 'Varies with device', 'Varies with device'], ['Instagram', 'SOCIAL', '4.5', '66577313', 'Varies with device', '1,000,000,000+', 'Free', '0', 'Teen', 'Social', 'July 31, 2018', 'Varies with device', 'Varies with device'], ['Pinterest', 'SOCIAL', '4.6', '4305441', 'Varies with device', '100,000,000+', 'Free', '0', 'Teen', 'Social', 'August 3, 2018', 'Varies with device', 'Varies with device'], ['Tango - Live Video Broadcast', 'SOCIAL', '4.3', '3806669', 'Varies with device', '100,000,000+', 'Free', '0', 'Mature 17+', 'Social', 'August 1, 2018', 'Varies with device', 'Varies with device'], ['Badoo - Free Chat & Dating App', 'SOCIAL', '4.3', '3781770', 'Varies with device', '100,000,000+', 'Free', '0', 'Mature 17+', 'Social', 'August 2, 2018', 'Varies with device', 'Varies with device'], ['MeetMe: Chat & Meet New People', 'SOCIAL', '4.2', '1259894', '76M', '50,000,000+', 'Free', '0', 'Mature 17+', 'Social', 'August 3, 2018', 'Varies with device', '4.1 and up'], ['Meetup', 'SOCIAL', '4.2', '79129', '23M', '5,000,000+', 'Free', '0', 'Teen', 'Social', 'August 2, 2018', '3.10.26', '4.4 and up'], ['Text Free: WiFi Calling App', 'SOCIAL', '4.2', '83488', 'Varies with device', '5,000,000+', 'Free', '0', 'Everyone', 'Social', 'July 24, 2018', 'Varies with device', 'Varies with device'], ['MeetMe: Chat & Meet New People', 'SOCIAL', '4.2', '1259894', '76M', '50,000,000+', 'Free', '0', 'Mature 17+', 'Social', 'August 3, 2018', 'Varies with device', '4.1 and up'], ['LOVOO', 'SOCIAL', '4.0', '852455', '68M', '10,000,000+', 'Free', '0', 'Mature 17+', 'Social', 'August 3, 2018', '27.0', '4.2 and up'], ['Badoo - Free Chat & Dating App', 'SOCIAL', '4.3', '3781770', 'Varies with device', '100,000,000+', 'Free', '0', 'Mature 17+', 'Social', 'August 2, 2018', 'Varies with device', 'Varies with device'], ['Jaumo Dating, Flirt & Live Video', 'SOCIAL', '4.4', '900064', '13M', '10,000,000+', 'Free', '0', 'Mature 17+', 'Social', 'July 31, 2018', '4.17.2', '4.1 and up'], ['SayHi Chat, Meet New People', 'SOCIAL', '4.2', '423138', 'Varies with device', '10,000,000+', 'Free', '0', 'Mature 17+', 'Social', 'July 9, 2018', 'Varies with device', 'Varies with device'], ['Couple - Relationship App', 'SOCIAL', '4.0', '33249', '8.4M', '1,000,000+', 'Free', '0', 'Everyone', 'Social', 'March 5, 2015', '1.8.0', '2.3 and up'], ['Meetup', 'SOCIAL', '4.2', '79130', '23M', '5,000,000+', 'Free', '0', 'Teen', 'Social', 'August 2, 2018', '3.10.26', '4.4 and up'], ['SnipSnap Coupon App', 'SHOPPING', '4.2', '9975', '18M', '1,000,000+', 'Free', '0', 'Everyone', 'Shopping', 'January 22, 2018', '1.4', '4.3 and up'], ['Extreme Coupon Finder', 'SHOPPING', '4.1', '11798', 'Varies with device', '1,000,000+', 'Free', '0', 'Everyone', 'Shopping', 'May 10, 2018', 'Varies with device', 'Varies with device'], ['Checkout 51: Grocery coupons', 'SHOPPING', '4.1', '52896', 'Varies with device', '10,000,000+', 'Free', '0', 'Everyone', 'Shopping', 'June 18, 2018', 'Varies with device', 'Varies with device'], ['The Coupons App', 'SHOPPING', '4.5', '181990', 'Varies with device', '10,000,000+', 'Free', '0', 'Everyone', 'Shopping', 'April 27, 2018', 'Varies with device', 'Varies with device'], ['RetailMeNot - Coupons, Deals & Discount Shopping', 'SHOPPING', '4.4', '210208', 'Varies with device', '10,000,000+', 'Free', '0', 'Everyone', 'Shopping', 'August 1, 2018', 'Varies with device', 'Varies with device'], ['Groupon - Shop Deals, Discounts & Coupons', 'SHOPPING', '4.6', '1370749', 'Varies with device', '50,000,000+', 'Free', '0', 'Teen', 'Shopping', 'August 3, 2018', 'Varies with device', 'Varies with device'], ['Extreme Coupon Finder', 'SHOPPING', '4.1', '11798', 'Varies with device', '1,000,000+', 'Free', '0', 'Everyone', 'Shopping', 'May 10, 2018', 'Varies with device', 'Varies with device'], ['eBay: Buy & Sell this Summer - Discover Deals Now!', 'SHOPPING', '4.4', '2788923', 'Varies with device', '100,000,000+', 'Free', '0', 'Teen', 'Shopping', 'July 30, 2018', 'Varies with device', 'Varies with device'], ['Checkout 51: Grocery coupons', 'SHOPPING', '4.1', '52896', 'Varies with device', '10,000,000+', 'Free', '0', 'Everyone', 'Shopping', 'June 18, 2018', 'Varies with device', 'Varies with device'], ['Gyft - Mobile Gift Card Wallet', 'SHOPPING', '4.1', '9701', '14M', '500,000+', 'Free', '0', 'Everyone', 'Shopping', 'July 25, 2018', '2.4.0', '4.4 and up'], ['Shopkick: Free Gift Cards, Shop Rewards & Deals', 'SHOPPING', '4.3', '213735', '43M', '10,000,000+', 'Free', '0', 'Everyone', 'Shopping', 'July 24, 2018', '5.3.73', '4.4 and up'], ['The Coupons App', 'SHOPPING', '4.5', '181990', 'Varies with device', '10,000,000+', 'Free', '0', 'Everyone', 'Shopping', 'April 27, 2018', 'Varies with device', 'Varies with device'], ['Shopular: Coupons, Weekly Ads & Shopping Deals', 'SHOPPING', '4.7', '57920', 'Varies with device', '1,000,000+', 'Free', '0', 'Everyone', 'Shopping', 'May 31, 2018', 'Varies with device', 'Varies with device'], ['Wish - Shopping Made Fun', 'SHOPPING', '4.5', '6211039', '15M', '100,000,000+', 'Free', '0', 'Everyone', 'Shopping', 'August 3, 2018', '4.20.5', '4.1 and up'], ['Carousell: Snap-Sell, Chat-Buy', 'SHOPPING', '4.3', '125783', 'Varies with device', '10,000,000+', 'Free', '0', 'Teen', 'Shopping', 'August 6, 2018', 'Varies with device', 'Varies with device'], ['Walmart', 'SHOPPING', '4.4', '441473', 'Varies with device', '10,000,000+', 'Free', '0', 'Everyone', 'Shopping', 'July 30, 2018', 'Varies with device', 'Varies with device'], ['Ibotta: Cash Back Savings, Rewards & Coupons App', 'SHOPPING', '4.5', '315908', '52M', '10,000,000+', 'Free', '0', 'Everyone', 'Shopping', 'August 1, 2018', '5.21.1', '4.1 and up'], ['LivingSocial - Local Deals', 'SHOPPING', '4.1', '28523', '29M', '5,000,000+', 'Free', '0', 'Everyone', 'Shopping', 'August 3, 2018', '18.10.157066', '4.4 and up'], ['RetailMeNot - Coupons, Deals & Discount Shopping', 'SHOPPING', '4.4', '210208', 'Varies with device', '10,000,000+', 'Free', '0', 'Everyone', 'Shopping', 'August 1, 2018', 'Varies with device', 'Varies with device'], ['Poshmark - Buy & Sell Fashion', 'SHOPPING', '4.3', '46153', '17M', '10,000,000+', 'Free', '0', 'Everyone', 'Shopping', 'August 4, 2018', '2.124.01', '4.4 and up'], ['Target - now with Cartwheel', 'SHOPPING', '4.1', '68406', '24M', '10,000,000+', 'Free', '0', 'Everyone', 'Shopping', 'July 25, 2018', '6.25.0+1906001476', '5.0 and up'], ['ZALORA Fashion Shopping', 'SHOPPING', '4.2', '142512', '15M', '10,000,000+', 'Free', '0', 'Everyone', 'Shopping', 'July 25, 2018', '6.2.0', '4.1 and up'], ['eBay: Buy & Sell this Summer - Discover Deals Now!', 'SHOPPING', '4.4', '2788923', 'Varies with device', '100,000,000+', 'Free', '0', 'Teen', 'Shopping', 'July 30, 2018', 'Varies with device', 'Varies with device'], ['Fancy', 'SHOPPING', '4.2', '39735', '18M', '5,000,000+', 'Free', '0', 'Teen', 'Shopping', 'July 25, 2018', '3.13.09', '4.0 and up'], [\"Modcloth – Unique Indie Women's Fashion & Style\", 'SHOPPING', '4.2', '5121', '8.8M', '500,000+', 'Free', '0', 'Everyone', 'Shopping', 'July 13, 2018', '9.0.30', '4.1 and up'], ['Gyft - Mobile Gift Card Wallet', 'SHOPPING', '4.1', '9701', '14M', '500,000+', 'Free', '0', 'Everyone', 'Shopping', 'July 25, 2018', '2.4.0', '4.4 and up'], [\"JackThreads: Men's Shopping\", 'SHOPPING', '4.0', '13085', '2.7M', '1,000,000+', 'Free', '0', 'Teen', 'Shopping', 'November 8, 2017', '5.1', '4.0.3 and up'], ['LivingSocial - Local Deals', 'SHOPPING', '4.1', '28523', '29M', '5,000,000+', 'Free', '0', 'Everyone', 'Shopping', 'August 3, 2018', '18.10.157066', '4.4 and up'], ['Zappos – Shoe shopping made simple', 'SHOPPING', '4.5', '44588', '20M', '5,000,000+', 'Free', '0', 'Everyone', 'Shopping', 'July 12, 2018', '9.0.0', '4.4 and up'], ['Wanelo Shopping', 'SHOPPING', '4.6', '94205', '6.5M', '1,000,000+', 'Free', '0', 'Everyone', 'Shopping', 'June 13, 2018', '5.6.8', '4.4 and up'], ['Etsy: Handmade & Vintage Goods', 'SHOPPING', '4.3', '95520', '15M', '10,000,000+', 'Free', '0', 'Teen', 'Shopping', 'August 3, 2018', '5.3.1', '4.1 and up'], ['Groupon - Shop Deals, Discounts & Coupons', 'SHOPPING', '4.6', '1370749', 'Varies with device', '50,000,000+', 'Free', '0', 'Teen', 'Shopping', 'August 3, 2018', 'Varies with device', 'Varies with device'], ['eBay: Buy & Sell this Summer - Discover Deals Now!', 'SHOPPING', '4.4', '2788923', 'Varies with device', '100,000,000+', 'Free', '0', 'Teen', 'Shopping', 'July 30, 2018', 'Varies with device', 'Varies with device'], [\"JackThreads: Men's Shopping\", 'SHOPPING', '4.0', '13085', '2.7M', '1,000,000+', 'Free', '0', 'Teen', 'Shopping', 'November 8, 2017', '5.1', '4.0.3 and up'], ['Slickdeals: Coupons & Shopping', 'SHOPPING', '4.5', '33583', '12M', '1,000,000+', 'Free', '0', 'Everyone', 'Shopping', 'July 30, 2018', '3.9', '4.4 and up'], ['Fancy', 'SHOPPING', '4.2', '39735', '18M', '5,000,000+', 'Free', '0', 'Teen', 'Shopping', 'July 25, 2018', '3.13.09', '4.0 and up'], ['Shutterfly: Free Prints, Photo Books, Cards, Gifts', 'PHOTOGRAPHY', '4.6', '98716', '59M', '5,000,000+', 'Free', '0', 'Everyone', 'Photography', 'August 1, 2018', '5.13.1', '5.0 and up'], ['YouCam Perfect - Selfie Photo Editor', 'PHOTOGRAPHY', '4.5', '1579287', 'Varies with device', '100,000,000+', 'Free', '0', 'Everyone', 'Photography', 'July 25, 2018', 'Varies with device', 'Varies with device'], ['Muzy - Share photos & collages', 'PHOTOGRAPHY', '4.4', '70189', '13M', '5,000,000+', 'Free', '0', 'Teen', 'Photography', 'August 11, 2015', '4.0.10', '4.0 and up'], ['QuickPic - Photo Gallery with Google Drive Support', 'PHOTOGRAPHY', '4.6', '847159', '4.2M', '10,000,000+', 'Free', '0', 'Everyone', 'Photography', 'November 10, 2017', '4.7.4', '4.0 and up'], ['Flickr', 'PHOTOGRAPHY', '4.3', '251951', '16M', '10,000,000+', 'Free', '0', 'Mature 17+', 'Photography', 'July 11, 2018', '4.7.3', '4.4 and up'], ['Shutterfly: Free Prints, Photo Books, Cards, Gifts', 'PHOTOGRAPHY', '4.6', '98716', '59M', '5,000,000+', 'Free', '0', 'Everyone', 'Photography', 'August 1, 2018', '5.13.1', '5.0 and up'], ['Open Camera', 'PHOTOGRAPHY', '4.3', '116880', '2.0M', '10,000,000+', 'Free', '0', 'Everyone', 'Photography', 'April 23, 2018', '1.43.3', '4.0.3 and up'], ['Camera for Android', 'PHOTOGRAPHY', '4.2', '240475', '9.5M', '10,000,000+', 'Free', '0', 'Everyone', 'Photography', 'November 22, 2017', '3.8', '4.0 and up'], ['Cymera Camera- Photo Editor, Filter,Collage,Layout', 'PHOTOGRAPHY', '4.4', '2418135', 'Varies with device', '100,000,000+', 'Free', '0', 'Everyone', 'Photography', 'July 12, 2018', 'Varies with device', 'Varies with device'], ['Facetune - For Free', 'PHOTOGRAPHY', '4.4', '49553', '48M', '1,000,000+', 'Paid', '$5.99', 'Everyone', 'Photography', 'July 25, 2018', '1.3.1', '4.1 and up'], ['Camera for Android', 'PHOTOGRAPHY', '4.2', '240475', '9.5M', '10,000,000+', 'Free', '0', 'Everyone', 'Photography', 'November 22, 2017', '3.8', '4.0 and up'], ['Facetune - For Free', 'PHOTOGRAPHY', '4.4', '49553', '48M', '1,000,000+', 'Paid', '$5.99', 'Everyone', 'Photography', 'July 25, 2018', '1.3.1', '4.1 and up'], ['BeautyPlus - Easy Photo Editor & Selfie Camera', 'PHOTOGRAPHY', '4.4', '3158151', '53M', '100,000,000+', 'Free', '0', 'Everyone', 'Photography', 'July 31, 2018', '6.9.031', '4.1 and up'], ['CBS Sports App - Scores, News, Stats & Watch Live', 'SPORTS', '4.3', '91031', 'Varies with device', '5,000,000+', 'Free', '0', 'Everyone', 'Sports', 'August 4, 2018', 'Varies with device', '5.0 and up'], ['ESPN', 'SPORTS', '4.2', '521138', 'Varies with device', '10,000,000+', 'Free', '0', 'Everyone 10+', 'Sports', 'July 19, 2018', 'Varies with device', '5.0 and up'], ['NFL', 'SPORTS', '4.1', '459795', 'Varies with device', '50,000,000+', 'Free', '0', 'Everyone', 'Sports', 'August 2, 2018', 'Varies with device', 'Varies with device'], ['Bleacher Report: sports news, scores, & highlights', 'SPORTS', '4.4', '122282', 'Varies with device', '5,000,000+', 'Free', '0', 'Everyone 10+', 'Sports', 'July 20, 2018', 'Varies with device', 'Varies with device'], ['ESPN Fantasy Sports', 'SPORTS', '4.0', '176448', '10M', '5,000,000+', 'Free', '0', 'Everyone', 'Sports', 'November 21, 2017', '5.3.0', '4.4 and up'], ['theScore: Live Sports Scores, News, Stats & Videos', 'SPORTS', '4.4', '133825', '34M', '10,000,000+', 'Free', '0', 'Everyone 10+', 'Sports', 'July 25, 2018', '6.17.2', '4.4 and up'], ['CBS Sports App - Scores, News, Stats & Watch Live', 'SPORTS', '4.3', '91031', 'Varies with device', '5,000,000+', 'Free', '0', 'Everyone', 'Sports', 'August 4, 2018', 'Varies with device', '5.0 and up'], ['ESPN', 'SPORTS', '4.2', '521138', 'Varies with device', '10,000,000+', 'Free', '0', 'Everyone 10+', 'Sports', 'July 19, 2018', 'Varies with device', '5.0 and up'], ['MLB At Bat', 'SPORTS', '4.2', '82882', 'Varies with device', '5,000,000+', 'Free', '0', 'Everyone', 'Sports', 'July 30, 2018', 'Varies with device', 'Varies with device'], ['CBS Sports App - Scores, News, Stats & Watch Live', 'SPORTS', '4.3', '91031', 'Varies with device', '5,000,000+', 'Free', '0', 'Everyone', 'Sports', 'August 4, 2018', 'Varies with device', '5.0 and up'], ['WatchESPN', 'SPORTS', '4.1', '288809', '6.6M', '10,000,000+', 'Free', '0', 'Everyone', 'Sports', 'September 27, 2017', '2.5.1', '4.4 and up'], ['Hole19: Golf GPS App, Rangefinder & Scorecard', 'SPORTS', '4.4', '6106', 'Varies with device', '100,000+', 'Free', '0', 'Everyone', 'Sports', 'August 1, 2018', 'Varies with device', 'Varies with device'], ['CBS Sports Fantasy', 'SPORTS', '4.0', '43611', '27M', '1,000,000+', 'Free', '0', 'Everyone', 'Sports', 'June 27, 2018', '3.17.0+3', '5.0 and up'], ['ESPN', 'SPORTS', '4.2', '521140', 'Varies with device', '10,000,000+', 'Free', '0', 'Everyone 10+', 'Sports', 'July 19, 2018', 'Varies with device', '5.0 and up'], ['Bleacher Report: sports news, scores, & highlights', 'SPORTS', '4.4', '122283', 'Varies with device', '5,000,000+', 'Free', '0', 'Everyone 10+', 'Sports', 'July 20, 2018', 'Varies with device', 'Varies with device'], ['theScore: Live Sports Scores, News, Stats & Videos', 'SPORTS', '4.4', '133833', '34M', '10,000,000+', 'Free', '0', 'Everyone 10+', 'Sports', 'July 25, 2018', '6.17.2', '4.4 and up'], ['CBS Sports App - Scores, News, Stats & Watch Live', 'SPORTS', '4.3', '91033', 'Varies with device', '5,000,000+', 'Free', '0', 'Everyone', 'Sports', 'August 4, 2018', 'Varies with device', '5.0 and up'], ['Yahoo Sports - scores, stats, news, & highlights', 'SPORTS', '4.5', '32386', '19M', '1,000,000+', 'Free', '0', 'Everyone', 'Sports', 'August 1, 2018', '7.8.0', '5.1 and up'], ['WatchESPN', 'SPORTS', '4.1', '288809', '6.6M', '10,000,000+', 'Free', '0', 'Everyone', 'Sports', 'September 27, 2017', '2.5.1', '4.4 and up'], ['Yahoo Fantasy Sports - #1 Rated Fantasy App', 'SPORTS', '4.2', '277904', 'Varies with device', '5,000,000+', 'Free', '0', 'Mature 17+', 'Sports', 'August 2, 2018', 'Varies with device', 'Varies with device'], ['ESPN', 'SPORTS', '4.2', '521140', 'Varies with device', '10,000,000+', 'Free', '0', 'Everyone 10+', 'Sports', 'July 19, 2018', 'Varies with device', '5.0 and up'], ['US Open Tennis Championships 2018', 'SPORTS', '4.0', '9971', '33M', '1,000,000+', 'Free', '0', 'Everyone', 'Sports', 'June 5, 2018', '7.1', '5.0 and up'], ['Bleacher Report: sports news, scores, & highlights', 'SPORTS', '4.4', '122283', 'Varies with device', '5,000,000+', 'Free', '0', 'Everyone 10+', 'Sports', 'July 20, 2018', 'Varies with device', 'Varies with device'], ['MLB At Bat', 'SPORTS', '4.2', '82883', 'Varies with device', '5,000,000+', 'Free', '0', 'Everyone', 'Sports', 'July 30, 2018', 'Varies with device', 'Varies with device'], ['theScore: Live Sports Scores, News, Stats & Videos', 'SPORTS', '4.4', '133833', '34M', '10,000,000+', 'Free', '0', 'Everyone 10+', 'Sports', 'July 25, 2018', '6.17.2', '4.4 and up'], ['Golfshot: Golf GPS + Tee Times', 'SPORTS', '4.3', '7543', '25M', '500,000+', 'Free', '0', 'Everyone', 'Sports', 'July 11, 2018', '1.31.0', '4.1 and up'], ['CBS Sports App - Scores, News, Stats & Watch Live', 'SPORTS', '4.3', '91033', 'Varies with device', '5,000,000+', 'Free', '0', 'Everyone', 'Sports', 'August 4, 2018', 'Varies with device', '5.0 and up'], ['Yahoo Sports - scores, stats, news, & highlights', 'SPORTS', '4.5', '32386', '19M', '1,000,000+', 'Free', '0', 'Everyone', 'Sports', 'August 1, 2018', '7.8.0', '5.1 and up'], ['WatchESPN', 'SPORTS', '4.1', '288809', '6.6M', '10,000,000+', 'Free', '0', 'Everyone', 'Sports', 'September 27, 2017', '2.5.1', '4.4 and up'], ['FOX Sports: Live Streaming, Scores & News', 'SPORTS', '4.0', '28895', '82M', '5,000,000+', 'Free', '0', 'Teen', 'Sports', 'August 2, 2018', '4.4.15', '5.0 and up'], ['Fantasy Football', 'SPORTS', '3.5', '50179', '23M', '1,000,000+', 'Free', '0', 'Everyone', 'Sports', 'August 2, 2018', '2.5.7.1', '5.0 and up'], ['PGA TOUR', 'SPORTS', '4.0', '11151', '52M', '1,000,000+', 'Free', '0', 'Everyone', 'Sports', 'June 27, 2018', '2018.6', '5.0 and up'], ['UFC', 'SPORTS', '4.0', '30840', 'Varies with device', '1,000,000+', 'Free', '0', 'Teen', 'Sports', 'May 22, 2018', 'Varies with device', 'Varies with device'], ['trivago: Hotels & Travel', 'TRAVEL_AND_LOCAL', '4.2', '219848', 'Varies with device', '50,000,000+', 'Free', '0', 'Everyone', 'Travel & Local', 'August 2, 2018', 'Varies with device', 'Varies with device'], ['TripAdvisor Hotels Flights Restaurants Attractions', 'TRAVEL_AND_LOCAL', '4.4', '1162837', 'Varies with device', '100,000,000+', 'Free', '0', 'Everyone', 'Travel & Local', 'August 4, 2018', 'Varies with device', 'Varies with device'], ['Priceline Hotel Deals, Rental Cars & Flights', 'TRAVEL_AND_LOCAL', '4.4', '48930', '15M', '5,000,000+', 'Free', '0', 'Everyone', 'Travel & Local', 'July 26, 2018', '4.38.176', '4.4 and up'], ['United Airlines', 'TRAVEL_AND_LOCAL', '3.5', '30447', '80M', '5,000,000+', 'Free', '0', 'Everyone', 'Travel & Local', 'July 20, 2018', '2.1.56', '5.0 and up'], ['Expedia Hotels, Flights & Car Rental Travel Deals', 'TRAVEL_AND_LOCAL', '4.1', '136626', '14M', '10,000,000+', 'Free', '0', 'Everyone', 'Travel & Local', 'August 6, 2018', '18.30.0', '5.0 and up'], ['Southwest Airlines', 'TRAVEL_AND_LOCAL', '3.9', '24781', '8.3M', '5,000,000+', 'Free', '0', 'Everyone', 'Travel & Local', 'July 11, 2018', '5.6.1', '6.0 and up'], ['Fly Delta', 'TRAVEL_AND_LOCAL', '3.7', '27560', '46M', '5,000,000+', 'Free', '0', 'Everyone', 'Travel & Local', 'July 31, 2018', '4.13.2', '5.0 and up'], ['KAYAK Flights, Hotels & Cars', 'TRAVEL_AND_LOCAL', '4.5', '216388', '19M', '10,000,000+', 'Free', '0', 'Everyone', 'Travel & Local', 'July 31, 2018', 'Varies with device', 'Varies with device'], ['American Airlines', 'TRAVEL_AND_LOCAL', '3.7', '16980', 'Varies with device', '5,000,000+', 'Free', '0', 'Everyone', 'Travel & Local', 'July 18, 2018', 'Varies with device', 'Varies with device'], ['Skyscanner', 'TRAVEL_AND_LOCAL', '4.5', '481546', '29M', '10,000,000+', 'Free', '0', 'Everyone', 'Travel & Local', 'August 6, 2018', '5.48', '4.4 and up'], ['Priceline Hotel Deals, Rental Cars & Flights', 'TRAVEL_AND_LOCAL', '4.4', '48930', '15M', '5,000,000+', 'Free', '0', 'Everyone', 'Travel & Local', 'July 26, 2018', '4.38.176', '4.4 and up'], ['trivago: Hotels & Travel', 'TRAVEL_AND_LOCAL', '4.2', '219848', 'Varies with device', '50,000,000+', 'Free', '0', 'Everyone', 'Travel & Local', 'August 2, 2018', 'Varies with device', 'Varies with device'], ['Expedia Hotels, Flights & Car Rental Travel Deals', 'TRAVEL_AND_LOCAL', '4.1', '136626', '14M', '10,000,000+', 'Free', '0', 'Everyone', 'Travel & Local', 'August 6, 2018', '18.30.0', '5.0 and up'], ['KAYAK Flights, Hotels & Cars', 'TRAVEL_AND_LOCAL', '4.5', '216388', '19M', '10,000,000+', 'Free', '0', 'Everyone', 'Travel & Local', 'July 31, 2018', 'Varies with device', 'Varies with device'], ['Orbitz - Hotels, Flights & Package Deals', 'TRAVEL_AND_LOCAL', '4.4', '33256', 'Varies with device', '1,000,000+', 'Free', '0', 'Everyone', 'Travel & Local', 'July 31, 2018', 'Varies with device', 'Varies with device'], ['Skyscanner', 'TRAVEL_AND_LOCAL', '4.5', '481546', '29M', '10,000,000+', 'Free', '0', 'Everyone', 'Travel & Local', 'August 6, 2018', '5.48', '4.4 and up'], ['Booking.com Travel Deals', 'TRAVEL_AND_LOCAL', '4.7', '1830388', 'Varies with device', '100,000,000+', 'Free', '0', 'Everyone', 'Travel & Local', 'August 6, 2018', 'Varies with device', 'Varies with device'], ['Hostelworld: Hostels & Cheap Hotels Travel App', 'TRAVEL_AND_LOCAL', '4.4', '17878', '28M', '1,000,000+', 'Free', '0', 'Everyone', 'Travel & Local', 'July 16, 2018', '6.7.1', '4.1 and up'], ['TripAdvisor Hotels Flights Restaurants Attractions', 'TRAVEL_AND_LOCAL', '4.4', '1162837', 'Varies with device', '100,000,000+', 'Free', '0', 'Everyone', 'Travel & Local', 'August 4, 2018', 'Varies with device', 'Varies with device'], ['Skyscanner', 'TRAVEL_AND_LOCAL', '4.5', '481546', '29M', '10,000,000+', 'Free', '0', 'Everyone', 'Travel & Local', 'August 6, 2018', '5.48', '4.4 and up'], ['HotelTonight: Book amazing deals at great hotels', 'TRAVEL_AND_LOCAL', '4.4', '57573', 'Varies with device', '5,000,000+', 'Free', '0', 'Everyone', 'Travel & Local', 'July 31, 2018', 'Varies with device', 'Varies with device'], ['ZEDGE™ Ringtones & Wallpapers', 'PERSONALIZATION', '4.6', '6466641', 'Varies with device', '100,000,000+', 'Free', '0', 'Teen', 'Personalization', 'July 19, 2018', 'Varies with device', 'Varies with device'], ['ZEDGE™ Ringtones & Wallpapers', 'PERSONALIZATION', '4.6', '6466641', 'Varies with device', '100,000,000+', 'Free', '0', 'Teen', 'Personalization', 'July 19, 2018', 'Varies with device', 'Varies with device'], ['Nova Launcher', 'PERSONALIZATION', '4.6', '1121805', 'Varies with device', '50,000,000+', 'Free', '0', 'Everyone', 'Personalization', 'May 14, 2018', 'Varies with device', 'Varies with device'], ['Google Keep', 'PRODUCTIVITY', '4.4', '691474', 'Varies with device', '100,000,000+', 'Free', '0', 'Everyone', 'Productivity', 'August 6, 2018', 'Varies with device', 'Varies with device'], ['Evernote – Organizer, Planner for Notes & Memos', 'PRODUCTIVITY', '4.6', '1488396', 'Varies with device', '100,000,000+', 'Free', '0', 'Everyone', 'Productivity', 'August 3, 2018', 'Varies with device', 'Varies with device'], ['Google PDF Viewer', 'PRODUCTIVITY', '4.2', '226456', 'Varies with device', '10,000,000+', 'Free', '0', 'Everyone', 'Productivity', 'October 9, 2017', 'Varies with device', 'Varies with device'], ['Google Keep', 'PRODUCTIVITY', '4.4', '691474', 'Varies with device', '100,000,000+', 'Free', '0', 'Everyone', 'Productivity', 'August 6, 2018', 'Varies with device', 'Varies with device'], ['Todoist: To-do lists for task management & errands', 'PRODUCTIVITY', '4.5', '155999', '12M', '10,000,000+', 'Free', '0', 'Everyone', 'Productivity', 'August 5, 2018', '12.8.2', '4.4 and up'], ['Planner Pro-Personal Organizer', 'PRODUCTIVITY', '4.0', '10270', '8.4M', '1,000,000+', 'Free', '0', 'Everyone', 'Productivity', 'March 23, 2018', '4.4.1', '4.0 and up'], ['Google Drive', 'PRODUCTIVITY', '4.4', '2731211', 'Varies with device', '1,000,000,000+', 'Free', '0', 'Everyone', 'Productivity', 'August 6, 2018', 'Varies with device', 'Varies with device'], ['Google News', 'NEWS_AND_MAGAZINES', '3.9', '877635', '13M', '1,000,000,000+', 'Free', '0', 'Teen', 'News & Magazines', 'August 1, 2018', '5.2.0', '4.4 and up'], ['Flipboard: News For Our Time', 'NEWS_AND_MAGAZINES', '4.4', '1284017', 'Varies with device', '500,000,000+', 'Free', '0', 'Everyone 10+', 'News & Magazines', 'August 3, 2018', 'Varies with device', 'Varies with device'], ['BBC News', 'NEWS_AND_MAGAZINES', '4.3', '296781', 'Varies with device', '10,000,000+', 'Free', '0', 'Everyone 10+', 'News & Magazines', 'July 24, 2018', 'Varies with device', 'Varies with device'], ['Fox News – Breaking News, Live Video & News Alerts', 'NEWS_AND_MAGAZINES', '4.5', '249919', 'Varies with device', '10,000,000+', 'Free', '0', 'Everyone 10+', 'News & Magazines', 'July 30, 2018', 'Varies with device', 'Varies with device'], ['USA TODAY', 'NEWS_AND_MAGAZINES', '4.1', '49259', 'Varies with device', '5,000,000+', 'Free', '0', 'Everyone 10+', 'News & Magazines', 'August 2, 2018', 'Varies with device', 'Varies with device'], ['CNN Breaking US & World News', 'NEWS_AND_MAGAZINES', '4.0', '293080', '25M', '10,000,000+', 'Free', '0', 'Everyone 10+', 'News & Magazines', 'August 6, 2018', '5.17', '4.4 and up'], ['Twitter', 'NEWS_AND_MAGAZINES', '4.3', '11667403', 'Varies with device', '500,000,000+', 'Free', '0', 'Mature 17+', 'News & Magazines', 'August 6, 2018', 'Varies with device', 'Varies with device'], ['BBC News', 'NEWS_AND_MAGAZINES', '4.3', '296781', 'Varies with device', '10,000,000+', 'Free', '0', 'Everyone 10+', 'News & Magazines', 'July 24, 2018', 'Varies with device', 'Varies with device'], ['NPR News', 'NEWS_AND_MAGAZINES', '4.0', '24790', 'Varies with device', '1,000,000+', 'Free', '0', 'Everyone', 'News & Magazines', 'July 20, 2018', 'Varies with device', 'Varies with device'], ['Fox News – Breaking News, Live Video & News Alerts', 'NEWS_AND_MAGAZINES', '4.5', '249919', 'Varies with device', '10,000,000+', 'Free', '0', 'Everyone 10+', 'News & Magazines', 'July 30, 2018', 'Varies with device', 'Varies with device'], ['Haystack TV: Local & World News - Free', 'NEWS_AND_MAGAZINES', '4.3', '3684', 'Varies with device', '100,000+', 'Free', '0', 'Everyone 10+', 'News & Magazines', 'August 2, 2018', 'Varies with device', 'Varies with device'], ['ABC News - US & World News', 'NEWS_AND_MAGAZINES', '4.0', '18976', '35M', '1,000,000+', 'Free', '0', 'Everyone 10+', 'News & Magazines', 'June 6, 2018', '3.19.11', '5.0 and up'], ['USA TODAY', 'NEWS_AND_MAGAZINES', '4.1', '49259', 'Varies with device', '5,000,000+', 'Free', '0', 'Everyone 10+', 'News & Magazines', 'August 2, 2018', 'Varies with device', 'Varies with device'], ['NBC News', 'NEWS_AND_MAGAZINES', '4.1', '63020', 'Varies with device', '5,000,000+', 'Free', '0', 'Everyone 10+', 'News & Magazines', 'February 13, 2018', 'Varies with device', 'Varies with device'], ['The Wall Street Journal: Business & Market News', 'NEWS_AND_MAGAZINES', '4.1', '40975', '36M', '1,000,000+', 'Free', '0', 'Everyone 10+', 'News & Magazines', 'August 2, 2018', '4.4.2.19', '4.1 and up'], ['CNN Breaking US & World News', 'NEWS_AND_MAGAZINES', '4.0', '293080', '25M', '10,000,000+', 'Free', '0', 'Everyone 10+', 'News & Magazines', 'August 6, 2018', '5.17', '4.4 and up'], ['NYTimes - Latest News', 'NEWS_AND_MAGAZINES', '3.9', '63647', '23M', '10,000,000+', 'Free', '0', 'Everyone 10+', 'News & Magazines', 'August 1, 2018', '6.19.5', '4.4 and up'], ['Newsroom: News Worth Sharing', 'NEWS_AND_MAGAZINES', '4.2', '201737', 'Varies with device', '10,000,000+', 'Free', '0', 'Everyone 10+', 'News & Magazines', 'July 3, 2018', 'Varies with device', 'Varies with device'], ['BuzzFeed: News, Tasty, Quizzes', 'NEWS_AND_MAGAZINES', '4.3', '131028', '13M', '5,000,000+', 'Free', '0', 'Teen', 'News & Magazines', 'July 30, 2018', '5.38', '4.4 and up'], ['EMT Tutor NREMT-B Study Guide', 'MEDICAL', '4.6', '625', '8.4M', '10,000+', 'Paid', '$3.99', 'Everyone', 'Medical', 'January 8, 2017', '2.1', '2.1 and up'], ['UC Browser - Fast Download Private & Secure', 'COMMUNICATION', '4.5', '17712922', '40M', '500,000,000+', 'Free', '0', 'Teen', 'Communication', 'August 2, 2018', '12.8.5.1121', '4.0 and up'], ['Google Duo - High Quality Video Calls', 'COMMUNICATION', '4.6', '2083237', 'Varies with device', '500,000,000+', 'Free', '0', 'Everyone', 'Communication', 'July 31, 2018', '37.1.206017801.DR37_RC14', '4.4 and up'], ['Ebook Reader', 'BOOKS_AND_REFERENCE', '4.1', '85842', '37M', '5,000,000+', 'Free', '0', 'Everyone', 'Books & Reference', 'June 25, 2018', '5.0.6', '4.0 and up'], ['Gmail', 'COMMUNICATION', '4.3', '4604324', 'Varies with device', '1,000,000,000+', 'Free', '0', 'Everyone', 'Communication', 'August 2, 2018', 'Varies with device', 'Varies with device'], ['Messenger – Text and Video Chat for Free', 'COMMUNICATION', '4.0', '56642847', 'Varies with device', '1,000,000,000+', 'Free', '0', 'Everyone', 'Communication', 'August 1, 2018', 'Varies with device', 'Varies with device'], ['imo beta free calls and text', 'COMMUNICATION', '4.3', '659395', '11M', '100,000,000+', 'Free', '0', 'Everyone', 'Communication', 'June 7, 2018', '9.8.000000010492', '4.0 and up'], ['imo free video calls and chat', 'COMMUNICATION', '4.3', '4785892', '11M', '500,000,000+', 'Free', '0', 'Everyone', 'Communication', 'June 8, 2018', '9.8.000000010501', '4.0 and up'], ['Skype - free IM & video calls', 'COMMUNICATION', '4.1', '10484169', 'Varies with device', '1,000,000,000+', 'Free', '0', 'Everyone', 'Communication', 'August 3, 2018', 'Varies with device', 'Varies with device'], ['O-Star', 'DATING', '4.4', '59', '38M', '5,000+', 'Free', '0', 'Everyone', 'Dating', 'July 19, 2018', '1.0.1', '4.3 and up'], ['Maricopa AH', 'MEDICAL', 'NaN', '0', '29M', '100+', 'Free', '0', 'Everyone', 'Medical', 'July 16, 2018', '300000.1.11', '4.0.3 and up'], ['Houzz Interior Design Ideas', 'HOUSE_AND_HOME', '4.6', '353813', 'Varies with device', '10,000,000+', 'Free', '0', 'Everyone', 'House & Home', 'August 1, 2018', 'Varies with device', 'Varies with device'], ['Anthem BC Anywhere', 'MEDICAL', '2.6', '496', '24M', '100,000+', 'Free', '0', 'Everyone', 'Medical', 'July 27, 2018', '8.0.226', '4.4 and up'], ['PMHNP-BC Pocket Prep', 'MEDICAL', '4.4', '112', '13M', '1,000+', 'Free', '0', 'Everyone', 'Medical', 'July 12, 2018', '4.5.2', '4.4 and up'], ['iBP Blood Pressure', 'MEDICAL', '4.4', '578', '704k', '10,000+', 'Paid', '$0.99', 'Everyone', 'Medical', 'November 30, 2014', '7.0.1', '2.2 and up'], ['Blood Pressure', 'MEDICAL', '4.2', '33033', '7.4M', '5,000,000+', 'Free', '0', 'Everyone', 'Medical', 'July 24, 2018', '3.27.3', '4.1 and up'], ['Blood Pressure(BP) Diary', 'MEDICAL', '3.7', '3596', '8.4M', '1,000,000+', 'Free', '0', 'Everyone', 'Medical', 'July 18, 2018', '4.0.9', '4.0.3 and up'], ['BP Journal - Blood Pressure Diary', 'MEDICAL', '5.0', '6', '26M', '1,000+', 'Free', '0', 'Everyone', 'Medical', 'May 25, 2018', '1.0.32', '4.4 and up'], ['Blood Pressure Monitor', 'MEDICAL', '4.3', '17', '6.0M', '10,000+', 'Free', '0', 'Everyone', 'Medical', 'February 25, 2017', '1.0.1', '4.4 and up'], ['Blood Pressure Companion', 'MEDICAL', '4.2', '178', '4.8M', '1,000+', 'Paid', '$0.99', 'Everyone', 'Medical', 'July 22, 2018', '4.1.5 (Steglitz)', '4.1 and up'], ['Free Blood Pressure', 'MEDICAL', 'NaN', '7', '5.7M', '5,000+', 'Free', '0', 'Everyone', 'Medical', 'October 13, 2016', '3.0.0', '4.0.3 and up'], ['Beautiful Widgets Pro', 'PERSONALIZATION', '4.2', '97890', '14M', '1,000,000+', 'Paid', '$2.49', 'Everyone', 'Personalization', 'August 24, 2016', '5.7.8', '2.3 and up'], ['Elmo Calls by Sesame Street', 'FAMILY', '3.9', '6903', '25M', '1,000,000+', 'Free', '0', 'Everyone', 'Educational;Pretend Play', 'January 31, 2018', '2.0.7', '2.3 and up'], ['420 BZ Budeze Delivery', 'MEDICAL', '5.0', '2', '11M', '100+', 'Free', '0', 'Mature 17+', 'Medical', 'June 6, 2018', '1.0.1', '4.1 and up'], ['Brit + Co', 'LIFESTYLE', '3.9', '987', '4.5M', '10,000+', 'Free', '0', 'Everyone', 'Lifestyle', 'August 29, 2017', '2.0.4', '4.0 and up'], ['CT Scan Cross Sectional Anatomy', 'MEDICAL', '4.3', '10', '46M', '100+', 'Free', '0', 'Everyone', 'Medical', 'July 19, 2018', '5.0.16', '4.1 and up'], ['Google Docs', 'PRODUCTIVITY', '4.3', '815974', 'Varies with device', '100,000,000+', 'Free', '0', 'Everyone', 'Productivity', 'August 6, 2018', 'Varies with device', 'Varies with device'], ['Any.do: To-do list, Calendar, Reminders & Planner', 'PRODUCTIVITY', '4.5', '298854', 'Varies with device', '10,000,000+', 'Free', '0', 'Everyone', 'Productivity', 'August 5, 2018', 'Varies with device', 'Varies with device'], ['Notepad & To do list', 'PRODUCTIVITY', '4.3', '226295', '4.2M', '10,000,000+', 'Free', '0', 'Everyone', 'Productivity', 'June 6, 2018', '4.3.19', '2.3.3 and up'], ['Polaris Office - Word, Docs, Sheets, Slide, PDF', 'PRODUCTIVITY', '4.3', '549900', '60M', '10,000,000+', 'Free', '0', 'Everyone', 'Productivity', 'July 18, 2018', '7.3.30', '4.1 and up'], ['Google Keep', 'PRODUCTIVITY', '4.4', '691474', 'Varies with device', '100,000,000+', 'Free', '0', 'Everyone', 'Productivity', 'August 6, 2018', 'Varies with device', 'Varies with device'], ['Do It Later: Tasks & To-Dos', 'PRODUCTIVITY', '4.5', '123412', 'Varies with device', '50,000,000+', 'Free', '0', 'Everyone', 'Productivity', 'April 13, 2018', 'Varies with device', 'Varies with device'], ['To-Do Calendar Planner', 'PRODUCTIVITY', '4.2', '30291', 'Varies with device', '1,000,000+', 'Free', '0', 'Everyone', 'Productivity', 'May 29, 2018', 'Varies with device', 'Varies with device'], ['Wunderlist: To-Do List & Tasks', 'PRODUCTIVITY', '4.6', '404610', 'Varies with device', '10,000,000+', 'Free', '0', 'Everyone', 'Productivity', 'April 6, 2018', 'Varies with device', 'Varies with device'], ['TickTick: To Do List with Reminder, Day Planner', 'PRODUCTIVITY', '4.6', '25370', 'Varies with device', '1,000,000+', 'Free', '0', 'Everyone', 'Productivity', 'August 6, 2018', 'Varies with device', 'Varies with device'], ['ColorNote Notepad Notes', 'PRODUCTIVITY', '4.6', '2401017', 'Varies with device', '100,000,000+', 'Free', '0', 'Everyone', 'Productivity', 'June 27, 2018', 'Varies with device', 'Varies with device'], ['Airway Ex - Intubate. Anesthetize. Train.', 'MEDICAL', '4.3', '123', '86M', '10,000+', 'Free', '0', 'Everyone', 'Medical', 'June 1, 2018', '0.6.88', '5.0 and up'], ['AAFP', 'MEDICAL', '3.8', '63', '24M', '10,000+', 'Free', '0', 'Everyone', 'Medical', 'June 22, 2018', '2.3.1', '5.0 and up']]\n"
     ]
    }
   ],
   "source": [
    "repeated_row = []\n",
    "unique_row = []\n",
    "\n",
    "for row in Goo_data:\n",
    "    if row in unique_row:\n",
    "        repeated_row.append(row)\n",
    "    else:\n",
    "        unique_row.append(row)\n",
    "        \n",
    "\n",
    "print(len(repeated_row))\n",
    "print(repeated_row)\n"
   ]
  },
  {
   "cell_type": "markdown",
   "metadata": {},
   "source": [
    "Here I try to find the repeated rows, but then I realized that there might be some rows with the same app name but different rating or last updated date since the data was collected at different time points.\n",
    "\n",
    "So I modified the code in order to find all the repeated rows."
   ]
  },
  {
   "cell_type": "code",
   "execution_count": 5,
   "metadata": {},
   "outputs": [
    {
     "name": "stdout",
     "output_type": "stream",
     "text": [
      "1181\n",
      "['Quick PDF Scanner + OCR FREE', 'Box', 'Google My Business', 'ZOOM Cloud Meetings', 'join.me - Simple Meetings', 'Box', 'Zenefits', 'Google Ads', 'Google My Business', 'Slack', 'FreshBooks Classic', 'Insightly CRM', 'QuickBooks Accounting: Invoicing & Expenses', 'HipChat - Chat Built for Teams', 'Xero Accounting Software', 'MailChimp - Email, Marketing Automation', 'Crew - Free Messaging and Scheduling', 'Asana: organize team projects', 'Google Analytics', 'AdWords Express', 'Accounting App - Zoho Books', 'Invoice & Time Tracking - Zoho', 'join.me - Simple Meetings', 'Invoice 2go — Professional Invoices and Estimates', 'SignEasy | Sign and Fill PDF and other Documents', 'Quick PDF Scanner + OCR FREE', 'Genius Scan - PDF Scanner', 'Tiny Scanner - PDF Scanner App', 'Fast Scanner : Free PDF Scan', 'Mobile Doc Scanner (MDScan) Lite', 'TurboScan: scan documents and receipts in PDF', 'Tiny Scanner Pro: PDF Doc Scan', 'Docs To Go™ Free Office Suite', 'OfficeSuite : Free Office + PDF Editor', 'Slack', 'QuickBooks Accounting: Invoicing & Expenses', 'WhatsApp Messenger', 'Messenger – Text and Video Chat for Free', 'imo free video calls and chat', 'Viber Messenger', 'Hangouts', 'WeChat', 'Telegram', 'Who', 'Google Voice', 'Android Messages', 'Firefox Focus: The privacy browser', 'Google Allo', 'Google Chrome: Fast & Secure', 'Firefox Browser fast & private', 'Puffin Web Browser', 'Opera Browser: Fast and Secure', 'Opera Mini - fast web browser', 'UC Browser Mini -Tiny Fast Private & Secure', 'UC Browser - Fast Download Private & Secure', 'Calls & Text by Mo+', 'Viber Messenger', 'Call Blocker', 'Gmail', 'Yahoo Mail – Stay Organized', 'Hangouts', 'imo free video calls and chat', 'free video calls and chat', 'Viber Messenger', 'Skype - free IM & video calls', 'WeChat', 'Glide - Video Chat Messenger', 'Talkray - Free Calls & Texts', 'LINE: Free Calls & Messages', 'KakaoTalk: Free Calls & Text', 'OkCupid Dating', 'CMB Free Dating App', 'Hily: Dating, Chat, Match, Meet & Hook up', 'Hinge: Dating & Relationships', 'BBW Dating & Plus Size Chat', 'Casual Dating & Adult Singles - Joyride', 'EliteSingles – Dating for Single Professionals', 'Clover Dating App', 'Moco - Chat, Meet People', 'Hot or Not - Find someone right now', 'Just She - Top Lesbian Dating', 'Once - Quality Matches Every day', 'Sudy – Meet Elite & Rich Single', 'muzmatch: Muslim & Arab Singles, Marriage & Dating', 'Chispa, the Dating App for Latino, Latina Singles', 'Blendr - Chat, Flirt & Meet', 'Find Real Love — YouLove Premium Dating', 'Cougar Dating Life : Date Older Women Sugar Mummy', 'stranger chat - anonymous chat', 'Millionaire Match: Rich Singles Dating App', 'Dating for 50 plus Mature Singles – FINALLY', 'Moco+ - Chat, Meet People', 'Chat Rooms, Avatars, Date - Galaxy', 'FastMeet: Chat, Dating, Love', 'Christian Dating For Free App', 'Meet24 - Love, Chat, Singles', 'Black White Interracial Dating - Interracial Match', 'Gay Sugar Daddy Dating & Hookup – Sudy Gay', 'Adult Dirty Emojis', 'Hide App, Private Dating, Safe Chat - PrivacyHider', 'Meet4U - Chat, Love, Singles!', '95Live -SG#1 Live Streaming App', 'Just She - Top Lesbian Dating', 'Hily: Dating, Chat, Match, Meet & Hook up', 'O-Star', 'Random Video Chat', 'Black People Meet Singles Date', 'Howlr', 'Free Dating & Flirt Chat - Choice of Love', 'Cardi B Live Stream Video Chat - Prank', 'Chat Kids - Chat Room For Kids', 'muzmatch: Muslim & Arab Singles, Marriage & Dating', 'BBW Dating & Plus Size Chat', 'Transenger – Ts Dating and Chat for Free', 'BBW Dating & Curvy Singles Chat- LargeFriends', 'MouseMingle', 'FlirtChat - ♥Free Dating/Flirting App♥', 'Live Talk - Free Text and Video Chat', 'Adult Dirty Emojis', 'Free Cam Girls - Live Webcam', 'Random Video Chat App With Strangers', 'Live Girls Talk - Free Video Chat', 'Girls Live Chat - Free Text & Video Chat', 'Free Dating App - Meet Local Singles - Flirt Chat', 'iPair-Meet, Chat, Dating', 'Free Dating Hook Up Messenger', 'Free Dating App - YoCutie - Flirt, Chat & Meet', 'Khan Academy', 'TED', 'Lumosity: #1 Brain Games & Cognitive Training App', 'Udemy - Online Courses', 'Khan Academy', 'TED', 'Duolingo: Learn Languages Free', 'Quizlet: Learn Languages & Vocab with Flashcards', 'Coursera: Online courses', 'Udemy - Online Courses', 'Udacity - Lifelong Learning', 'edX - Online Courses by Harvard, MIT & more', 'Lynda - Online Training Videos', 'Learn languages, grammar & vocabulary with Memrise', 'Brilliant', 'Babbel – Learn Languages', 'Duolingo: Learn Languages Free', 'Rosetta Stone: Learn to Speak & Read New Languages', 'Learn languages, grammar & vocabulary with Memrise', 'Learn English with Wlingua', 'Quizlet: Learn Languages & Vocab with Flashcards', 'Google Classroom', 'Duolingo: Learn Languages Free', 'Learn 50 languages', 'Mango Languages: Lovable Language Courses', 'Rosetta Stone: Learn to Speak & Read New Languages', 'Learn languages, grammar & vocabulary with Memrise', 'Babbel – Learn Languages', 'busuu: Learn Languages - Spanish, English & More', 'My Class Schedule: Timetable', 'Socratic - Math Answers & Homework Help', 'Google Classroom', 'ClassDojo', 'HelloTalk — Chat, Speak & Learn Foreign Languages', 'Quizlet: Learn Languages & Vocab with Flashcards', 'busuu: Learn Languages - Spanish, English & More', 'Rosetta Stone: Learn to Speak & Read New Languages', 'Movies by Flixster, with Rotten Tomatoes', 'IMDb Movies & TV', 'Netflix', 'IMDb Movies & TV', 'Netflix', 'Tubi TV - Free Movies & TV', 'Crunchyroll - Everything Anime', 'STARZ', 'Crackle - Free TV & Movies', 'CBS - Full Episodes & Live TV', 'Nick', 'Hulu: Stream TV, Movies & more', 'FOX NOW - On Demand & Live TV', 'The CW', 'HISTORY: Watch TV Show Full Episodes & Specials', 'HBO NOW: Stream TV & Movies', 'A&E - Watch Full Episodes of TV Shows', 'VH1', 'Lifetime - Watch Full Episodes & Original Movies', 'BET NOW - Watch Shows', 'Netflix', 'Tubi TV - Free Movies & TV', 'Crackle - Free TV & Movies', 'Crunchyroll - Everything Anime', 'Nick', 'STARZ', 'Hulu: Stream TV, Movies & more', 'Food Network', 'FOX NOW - On Demand & Live TV', 'Movies by Flixster, with Rotten Tomatoes', 'HISTORY: Watch TV Show Full Episodes & Specials', 'Viki: Asian TV Dramas & Movies', 'The CW', 'Univision NOW - Live TV and On Demand', 'HBO NOW: Stream TV & Movies', 'A&E - Watch Full Episodes of TV Shows', 'VH1', 'SHOWTIME', 'MTV', 'Lifetime - Watch Full Episodes & Original Movies', 'Comedy Central', 'BET NOW - Watch Shows', 'FOX', 'Telemundo Now', 'Viki: Asian TV Dramas & Movies', 'Nick', 'Fandango Movies - Times + Tickets', 'Google Pay', 'Wells Fargo Daily Change', 'Credit Karma', 'Robinhood - Investing, No Fees', 'Digit Save Money Automatically', 'Acorns - Invest Spare Change', 'Money Lover: Expense Tracker, Budget Planner', 'Mint: Budget, Bills, Finance', 'Simple - Better Banking', 'PayPal', 'Google Pay', 'Wells Fargo Mobile', 'Capital One® Mobile', 'Grubhub: Food Delivery', 'Postmates Food Delivery: Order Eats & Alcohol', \"Domino's Pizza USA\", 'Chick-fil-A', 'Zomato - Restaurant Finder and Food Delivery App', 'Run with Map My Run', 'Weight Loss Running by Verv', 'Nike+ Run Club', 'Runtastic Running App & Mile Tracker', '8fit Workouts & Meal Planner', 'Daily Yoga - Yoga Fitness Plans', 'Pocket Yoga', 'Calorie Counter - MyFitnessPal', 'Weight Loss Running by Verv', 'Nike+ Run Club', 'Seven - 7 Minute Workout Training Challenge', 'Weight Watchers Mobile', 'Walk with Map My Walk', 'Workout Trainer: fitness coach', 'Run with Map My Run', 'Nike Training Club - Workouts & Fitness Plans', 'Fitbit Coach', 'Calorie Counter - MyFitnessPal', 'Endomondo - Running & Walking', 'Runkeeper - GPS Track Run Walk', 'Nike+ Run Club', 'Runtastic Running App & Mile Tracker', 'Calorie Counter - MyFitnessPal', 'Lose It! - Calorie Counter', 'Calorie Counter - MyNetDiary', '10 Best Foods for You', 'MyPlate Calorie Tracker', 'Weight Loss Tracker - RecStyle', 'Calorie Counter by FatSecret', 'Calorie Counter - Macros', 'My Diet Diary Calorie Counter', 'Lark - 24/7 Health Coach', 'Weight Watchers Mobile', 'Calorie Counter & Diet Tracker', 'MealLogger-Photo Food Journal', 'Health and Nutrition Guide', 'Food Calorie Calculator', 'Calorie Counter - MyFitnessPal', 'Lose It! - Calorie Counter', 'Relax Meditation: Sleep with Sleep Sounds', 'Meditation Music - Relax, Yoga', '21-Day Meditation Experience', 'Fabulous: Motivate Me! Meditate, Relax, Sleep', 'Calm - Meditate, Sleep, Relax', 'Relax Melodies: Sleep Sounds', 'Simple Habit Meditation', 'Headspace: Meditation & Mindfulness', 'Daily Yoga - Yoga Fitness Plans', 'Houzz Interior Design Ideas', 'Mortgage by Zillow: Calculator & Rates', 'Redfin Real Estate', 'Apartment List: Housing, Apt, and Property Rentals', 'Realtor.com Real Estate: Homes for Sale and Rent', 'Trulia Real Estate & Rentals', 'Zillow: Find Houses for Sale & Apartments for Rent', 'Apartments & Rentals - Zillow', 'Trulia Rent Apartments & Homes', 'Apartments.com Rental Search', 'Houzz Interior Design Ideas', 'Vaniday - Beauty Booking App', 'StyleSeat', 'JOANN - Crafts & Coupons', 'Fashion in Vogue', 'Wheretoget: Shop in style', 'My Dressing - Fashion closet', 'Chictopia', 'Scarf Fashion Designer', 'Fashion in Vogue', 'Zara', 'Subway Surfers', 'ROBLOX', 'Pou', '8 Ball Pool', 'Clash of Clans', 'Candy Crush Saga', 'Plants vs. Zombies FREE', 'My Talking Angela', 'Bubble Shooter', 'Word Search', 'Candy Crush Soda Saga', 'Fishdom', 'Block Puzzle', 'Clash Royale', 'Sniper 3D Gun Shooter: Free Shooting Games - FPS', 'Granny', 'Galaxy Attack: Alien Shooter', 'Angry Birds Rio', 'Zombie Catchers', 'Zombie Hunter King', 'Temple Run 2', 'Zombie Tsunami', 'Farm Heroes Saga', 'Super Jim Jump - pixel 3d', 'slither.io', 'Angry Birds Classic', 'Flow Free', 'ROBLOX', 'Helix Jump', 'Subway Surfers', 'Candy Crush Saga', 'Toon Blast', 'Granny', '8 Ball Pool', 'Sniper 3D Gun Shooter: Free Shooting Games - FPS', 'slither.io', 'Temple Run 2', 'Kick the Buddy', 'Magic Tiles 3', 'Bowmasters', 'Wordscapes', 'Block Craft 3D: Building Simulator Games For Free', 'Helix Jump', 'PUBG MOBILE', 'Wordscapes', 'DRAGON BALL LEGENDS', 'ROBLOX', 'Candy Crush Saga', '8 Ball Pool', 'Harry Potter: Hogwarts Mystery', 'PUBG MOBILE', 'MARVEL Strike Force', 'Merge Dragons!', 'Honkai Impact 3rd', 'Candy Crush Saga', 'ROBLOX', '8 Ball Pool', 'Subway Surfers', 'Candy Crush Soda Saga', 'Zombie Hunter King', 'Bubble Shooter', 'Toon Blast', 'Toy Blast', 'Clash Royale', 'Clash of Clans', 'Farm Heroes Saga', 'Plants vs. Zombies FREE', 'Word Search', 'Block Puzzle', 'Super Jim Jump - pixel 3d', 'Pou', 'Temple Run 2', 'Flow Free', 'Homescapes', 'Wordscapes', 'My Talking Angela', 'slither.io', 'Cooking Fever', 'Gardenscapes', 'Fishdom', 'Galaxy Attack: Alien Shooter', 'Score! Hero', 'Zombie Catchers', 'Magic Tiles 3', 'Granny', 'Dream League Soccer 2018', 'Fruits Bomb', 'Angry Birds Classic', 'Talking Tom Gold Run', 'Bowmasters', 'My Talking Tom', 'Hill Climb Racing', 'Sniper 3D Gun Shooter: Free Shooting Games - FPS', 'Pixel Art: Color by Number Game', 'Rider', 'Zombie Tsunami', 'Garena Free Fire', 'Subway Surfers', 'Helix Jump', 'Temple Run 2', 'slither.io', 'Bowmasters', 'Talking Tom Gold Run', 'Zombie Catchers', 'Sniper 3D Gun Shooter: Free Shooting Games - FPS', 'Miraculous Ladybug & Cat Noir - The Official Game', 'Kick the Buddy', 'DRAGON BALL LEGENDS', 'Zombie Hunter King', 'Garena Free Fire', 'Candy Crush Saga', 'Plants vs. Zombies FREE', 'Block Puzzle', 'Helix Jump', '8 Ball Pool', 'Bubble Shooter', 'Solitaire', 'Traffic Racer', 'Hill Climb Racing', 'Earn to Die 2', 'Bubble Shooter 2', 'Flow Free', 'Zombie Catchers', 'Angry Birds Rio', 'Candy Crush Jelly Saga', 'Cut the Rope FULL FREE', 'Jewels Star: OZ adventure', 'Hungry Shark Evolution', 'Angry Birds Classic', 'Best Fiends - Free Puzzle Game', 'Hill Climb Racing 2', 'Swamp Attack', 'Bowmasters', 'Magic Tiles 3', 'Block Puzzle Classic Legend !', 'Pixel Art: Color by Number Game', 'Score! Hero', 'Zombie Tsunami', 'DEAD TARGET: FPS Zombie Apocalypse Survival Games', 'Word Search', 'Farm Heroes Saga', 'YouTube Kids', 'Candy Bomb', 'ROBLOX', 'Solitaire', 'Princess Coloring Book', 'Hello Kitty Nail Salon', 'Dog Run - Pet Dog Simulator', 'Coloring book moana', 'Bubble Shooter', 'Barbie™ Fashion Closet', 'Minion Rush: Despicable Me Official Game', 'No.Draw - Colors by Number 2018', 'Duolingo: Learn Languages Free', 'Super ABC! Learning games for kids! Preschool apps', 'ROBLOX', 'PJ Masks: Moonlight Heroes', 'Minion Rush: Despicable Me Official Game', 'Dog Run - Pet Dog Simulator', 'Hot Wheels: Race Off', 'Farming Simulator 14', 'Mcqueen Coloring pages', 'Monster Truck Driver & Racing', 'Strawberry Shortcake BerryRush', 'DC Super Hero Girls™', 'Toca Kitchen 2', 'DC Super Hero Girls™', 'Strawberry Shortcake BerryRush', 'Disney Magic Kingdoms: Build Your Own Magical Park', 'Toca Life: City', 'Papumba Academy - Fun Learning For Kids', 'Kids Balloon Pop Game Free 🎈', 'Sounds for Toddlers FREE', 'Elmo Calls by Sesame Street', 'Sago Mini Friends', 'Papumba Academy - Fun Learning For Kids', 'Tee and Mo Bath Time Free', 'Bita and the Animals - Pelos Ares', 'TO-FU Oh!SUSHI', 'DreamWorks Friends', 'Avokiddo Emotions', 'Nighty Night Circus', 'Sago Mini Babies', \"Dr. Panda & Toto's Treehouse\", 'ROBLOX', 'PlayKids - Educational cartoons and games for kids', 'YouTube Kids', 'Baby Panda Care', 'Monster High™', 'Duolingo: Learn Languages Free', 'Shopkins World!', 'DisneyNOW – TV Shows & Games', 'Equestria Girls', 'Frozen Free Fall', 'Nick', 'Thomas & Friends: Race On!', 'Inside Out Thought Bubbles', 'Sago Mini Friends', 'School of Dragons', 'Peak – Brain Games & Training', 'Period Tracker', 'Vargo Anesthesia Mega App', 'Monash Uni Low FODMAP Diet', 'mySugr: the blood sugar tracker made just for you', 'Human Anatomy Atlas 2018: Complete 3D Human Body', 'ASCCP Mobile', 'Paramedic Protocol Provider', '2017 EMRA Antibiotic Guide', 'Essential Anatomy 3', 'EMT PASS', 'Block Buddy', 'EMT Review Plus', 'Journal Club: Medicine', 'Pedi STAT', 'AnatomyMapp', 'Diabetes & Diet Tracker', 'A Manual of Acupuncture', 'PTA Content Master', 'Muscle Premium - Human Anatomy, Kinesiology, Bones', 'Cardiac diagnosis (heart rate, arrhythmia)', 'Medical ID - In Case of Emergency (ICE)', 'IBM Micromedex Drug Info', 'Advanced Comprehension Therapy', 'Hospitalist Handbook', 'Teladoc Member', 'Ada - Your Health Guide', 'Ovia Fertility Tracker & Ovulation Calculator', 'Youper - AI Therapy', 'MoodSpace', 'Super Hearing Super Ear Amplifier', 'Penn State Health OnDemand', 'ScriptSave WellRx Rx Discounts', 'Free Blood Pressure', 'All Mental disorders', 'Nurse Grid', 'JH Blood Pressure Monitor', 'Blood Pressure', 'RT 516 VET', 'Anthem Anywhere', 'Sway Medical', \"fred's Pharmacy\", 'Breastfeeding Tracker Baby Log', 'Banfield Pet Health Tracker', '1800 Contacts - Lens Store', 'TextNow - free text + calls', 'Tumblr', 'Snapchat', 'Instagram', 'Periscope - Live Video', 'Snapchat', 'Instagram', 'Pinterest', 'MeetMe: Chat & Meet New People', 'ooVoo Video Calls, Messaging & Stories', 'LinkedIn', 'Tango - Live Video Broadcast', 'SayHi Chat, Meet New People', 'Tapatalk - 100,000+ Forums', 'Badoo - Free Chat & Dating App', 'Nextdoor - Local neighborhood news & classifieds', 'MeetMe: Chat & Meet New People', 'Meetup', 'Text Free: WiFi Calling App', 'textPlus: Free Text & Calls', 'Meetup', 'POF Free Dating App', 'MeetMe: Chat & Meet New People', 'Tagged - Meet, Chat & Dating', 'LOVOO', 'SKOUT - Meet, Chat, Go Live', 'Badoo - Free Chat & Dating App', 'Jaumo Dating, Flirt & Live Video', 'SayHi Chat, Meet New People', 'Couple - Relationship App', 'Meetup', 'Wish - Shopping Made Fun', 'SnipSnap Coupon App', 'Extreme Coupon Finder', 'Checkout 51: Grocery coupons', 'The Coupons App', 'RetailMeNot - Coupons, Deals & Discount Shopping', 'Groupon - Shop Deals, Discounts & Coupons', 'Stocard - Rewards Cards Wallet', 'Extreme Coupon Finder', 'eBay: Buy & Sell this Summer - Discover Deals Now!', 'Checkout 51: Grocery coupons', 'Gyft - Mobile Gift Card Wallet', 'Shopkick: Free Gift Cards, Shop Rewards & Deals', 'The Coupons App', 'Shopular: Coupons, Weekly Ads & Shopping Deals', 'Wish - Shopping Made Fun', 'Carousell: Snap-Sell, Chat-Buy', 'Walmart', 'Ibotta: Cash Back Savings, Rewards & Coupons App', 'AliExpress - Smarter Shopping, Better Living', 'LivingSocial - Local Deals', 'Amazon Shopping', 'RetailMeNot - Coupons, Deals & Discount Shopping', 'Poshmark - Buy & Sell Fashion', 'Target - now with Cartwheel', 'ZALORA Fashion Shopping', 'eBay: Buy & Sell this Summer - Discover Deals Now!', 'Fancy', \"Modcloth – Unique Indie Women's Fashion & Style\", 'Gyft - Mobile Gift Card Wallet', \"JackThreads: Men's Shopping\", 'LivingSocial - Local Deals', 'Zappos – Shoe shopping made simple', 'Wanelo Shopping', 'Etsy: Handmade & Vintage Goods', 'Groupon - Shop Deals, Discounts & Coupons', 'eBay: Buy & Sell this Summer - Discover Deals Now!', \"JackThreads: Men's Shopping\", 'AliExpress - Smarter Shopping, Better Living', 'Slickdeals: Coupons & Shopping', 'Target - now with Cartwheel', 'Wish - Shopping Made Fun', 'Fancy', 'ASOS', 'Google Photos', 'Shutterfly: Free Prints, Photo Books, Cards, Gifts', 'InstaBeauty -Makeup Selfie Cam', 'B612 - Beauty & Filter Camera', 'BeautyPlus - Easy Photo Editor & Selfie Camera', 'YouCam Perfect - Selfie Photo Editor', 'Google Photos', 'Muzy - Share photos & collages', 'QuickPic - Photo Gallery with Google Drive Support', 'Flickr', 'Shutterfly: Free Prints, Photo Books, Cards, Gifts', 'Open Camera', 'Camera for Android', 'Cymera Camera- Photo Editor, Filter,Collage,Layout', 'Candy Camera - selfie, beauty camera, photo editor', 'Camera360: Selfie Photo Editor with Funny Sticker', 'Facetune - For Free', 'Photo Editor Selfie Camera Filter & Mirror Image', 'HD Camera for Android', 'Photo Editor Pro', 'YouCam Makeup - Magic Selfie Makeovers', 'Photo Editor-', 'Camera for Android', 'Photo Editor', 'Cymera Camera- Photo Editor, Filter,Collage,Layout', 'Adobe Photoshop Express:Photo Editor Collage Maker', 'BeautyPlus - Easy Photo Editor & Selfie Camera', 'InstaSize Photo Filters & Collage Editor', 'Candy Camera - selfie, beauty camera, photo editor', 'YouCam Perfect - Selfie Photo Editor', 'Camera360: Selfie Photo Editor with Funny Sticker', 'Facetune - For Free', 'Shutterfly: Free Prints, Photo Books, Cards, Gifts', 'BeautyPlus - Easy Photo Editor & Selfie Camera', 'CBS Sports App - Scores, News, Stats & Watch Live', 'Yahoo Fantasy Sports - #1 Rated Fantasy App', 'ESPN', 'NFL', 'Bleacher Report: sports news, scores, & highlights', 'ESPN Fantasy Sports', 'theScore: Live Sports Scores, News, Stats & Videos', 'CBS Sports App - Scores, News, Stats & Watch Live', 'ESPN', 'MLB At Bat', 'CBS Sports App - Scores, News, Stats & Watch Live', 'WatchESPN', 'Hole19: Golf GPS App, Rangefinder & Scorecard', 'Yahoo Fantasy Sports - #1 Rated Fantasy App', 'ESPN Fantasy Sports', 'CBS Sports Fantasy', 'ESPN', 'Bleacher Report: sports news, scores, & highlights', 'theScore: Live Sports Scores, News, Stats & Videos', 'CBS Sports App - Scores, News, Stats & Watch Live', 'ESPN', 'Bleacher Report: sports news, scores, & highlights', 'MLB At Bat', 'theScore: Live Sports Scores, News, Stats & Videos', 'CBS Sports App - Scores, News, Stats & Watch Live', 'Yahoo Sports - scores, stats, news, & highlights', 'WatchESPN', 'FotMob - Live Soccer Scores', 'Yahoo Fantasy Sports - #1 Rated Fantasy App', 'ESPN', 'NFL', 'US Open Tennis Championships 2018', 'Bleacher Report: sports news, scores, & highlights', 'MLB At Bat', 'FIFA - Tournaments, Soccer News & Live Scores', 'theScore: Live Sports Scores, News, Stats & Videos', 'Golfshot: Golf GPS + Tee Times', 'BBC Sport', 'CBS Sports App - Scores, News, Stats & Watch Live', 'Yahoo Sports - scores, stats, news, & highlights', 'WatchESPN', 'MLB Ballpark', 'FOX Sports: Live Streaming, Scores & News', 'Fantasy Football', 'PGA TOUR', 'UFC', 'trivago: Hotels & Travel', 'Expedia Hotels, Flights & Car Rental Travel Deals', 'TripAdvisor Hotels Flights Restaurants Attractions', 'Skyscanner', 'Booking.com Travel Deals', 'TripAdvisor Hotels Flights Restaurants Attractions', 'Priceline Hotel Deals, Rental Cars & Flights', 'United Airlines', 'Expedia Hotels, Flights & Car Rental Travel Deals', 'Southwest Airlines', 'Hopper - Watch & Book Flights', 'Fly Delta', 'KAYAK Flights, Hotels & Cars', 'American Airlines', 'Skyscanner', 'Priceline Hotel Deals, Rental Cars & Flights', 'trivago: Hotels & Travel', 'Expedia Hotels, Flights & Car Rental Travel Deals', 'KAYAK Flights, Hotels & Cars', 'Orbitz - Hotels, Flights & Package Deals', 'Skyscanner', 'Hotels.com: Book Hotel Rooms & Find Vacation Deals', 'Booking.com Travel Deals', 'Hostelworld: Hostels & Cheap Hotels Travel App', 'TripAdvisor Hotels Flights Restaurants Attractions', 'Airbnb', 'Skyscanner', 'HotelTonight: Book amazing deals at great hotels', 'Maps - Navigate & Explore', 'Google Street View', 'Calculator', 'Gboard - the Google Keyboard', 'ZEDGE™ Ringtones & Wallpapers', 'ZEDGE™ Ringtones & Wallpapers', 'Nova Launcher', 'Apex Launcher', 'Smart Launcher 5', 'Google Keep', 'Evernote – Organizer, Planner for Notes & Memos', 'ES File Explorer File Manager', 'Microsoft Word', 'Google Drive', 'Adobe Acrobat Reader', 'Google PDF Viewer', 'Microsoft Excel', 'Google Docs', 'Microsoft PowerPoint', 'Microsoft OneNote', 'Google Calendar', 'Google Keep', 'Wunderlist: To-Do List & Tasks', 'Evernote – Organizer, Planner for Notes & Memos', 'Any.do: To-do list, Calendar, Reminders & Planner', 'Todoist: To-do lists for task management & errands', 'Microsoft OneNote', 'Planner Pro-Personal Organizer', 'Google Calendar', 'Google Drive', 'Microsoft OneDrive', 'Dropbox', 'MX Player', 'Video Editor', 'Google News', 'Flipboard: News For Our Time', 'BBC News', 'Fox News – Breaking News, Live Video & News Alerts', 'USA TODAY', 'CNN Breaking US & World News', 'Twitter', 'BBC News', 'NPR News', 'Fox News – Breaking News, Live Video & News Alerts', 'Haystack TV: Local & World News - Free', 'ABC News - US & World News', 'USA TODAY', 'NBC News', 'The Wall Street Journal: Business & Market News', 'CNN Breaking US & World News', 'NYTimes - Latest News', 'Newsroom: News Worth Sharing', 'Google News', 'BuzzFeed: News, Tasty, Quizzes', 'Flipboard: News For Our Time', 'Snapchat', 'Flashlight', 'Pou', 'Agar.io', 'Angry Birds Classic', 'My Talking Tom', 'Netflix', 'Bubble Shooter', 'Adobe Acrobat Reader', 'Subway Surfers', 'LEGO® Juniors Create & Cruise', 'WhatsApp Messenger', 'Google Translate', 'Pokémon GO', 'Instagram', 'My Talking Angela', 'YouTube Kids', 'PAC-MAN', 'Colorfy: Coloring Book for Adults - Free', 'Toca Kitchen 2', 'Amazon Shopping', 'Chick-fil-A', 'YouTube', 'Flow Free', 'Microsoft Word', \"Alto's Adventure\", 'Zombie Tsunami', 'Facebook', 'B612 - Beauty & Filter Camera', 'Block Craft 3D: Building Simulator Games For Free', '8 Ball Pool', 'VPN Free - Betternet Hotspot VPN & Private Browser', 'EMT Tutor NREMT-B Study Guide', 'EMT-B Pocket Prep', 'UC Browser - Fast Download Private & Secure', 'Hungry Shark Evolution', 'Diary with lock', 'Clash of Clans', 'Clash Royale', 'C Programming', 'CppDroid - C/C++ IDE', 'Candy Crush Saga', 'Google Chrome: Fast & Secure', 'Learn C++', 'Hill Climb Racing', 'ZEDGE™ Ringtones & Wallpapers', 'Minion Rush: Despicable Me Official Game', 'Google Duo - High Quality Video Calls', 'Crossy Road', 'Temple Run 2', 'Dropbox', 'Sniper 3D Gun Shooter: Free Shooting Games - FPS', 'Plants vs. Zombies FREE', 'Dream League Soccer 2018', 'eBay: Buy & Sell this Summer - Discover Deals Now!', 'ESPN', 'ES File Explorer File Manager', 'Firefox Browser fast & private', 'E*TRADE Mobile', 'WWE', 'Amazon Kindle', 'Evernote – Organizer, Planner for Notes & Memos', 'Microsoft Edge', 'Microsoft Outlook', 'Pinterest', 'ClassDojo', 'The Coupons App', 'Ebook Reader', 'Gmail', 'Maps - Navigate & Explore', 'AliExpress - Smarter Shopping, Better Living', 'Flipkart Online Shopping App', 'Wish - Shopping Made Fun', 'Messenger – Text and Video Chat for Free', 'Facebook Lite', 'Messenger Lite: Free Calls & Messages', 'Twitter', 'LINE: Free Calls & Messages', 'imo beta free calls and text', 'Geometry Dash World', 'Google+', 'PUBG MOBILE', 'Gboard - the Google Keyboard', 'Granny', 'Google', 'Hangouts', 'G Cloud Backup', 'Google Drive', 'Helix Jump', 'H&M', 'H TV', 'Talking Ben the Dog', 'imo free video calls and chat', 'free video calls and chat', 'slither.io', 'POF Free Dating App', 'Skype - free IM & video calls', 'Sonic Dash', 'Text Free: WiFi Calling App', 'Talkatone: Free Texts, Calls & Phone Number', 'Textgram - write on photos', 'Zombie Catchers', 'Jetpack Joyride', 'Anger of stick 5 : zombie', 'Cut the Rope FULL FREE', 'Turbo FAST', 'K PLUS', 'PowerDirector Video Editor App: 4K, Slow Mo & More', 'Fuzzy Numbers: Pre-K Number Foundation', 'KakaoTalk: Free Calls & Text', 'LiveMe - Video chat, new friends, and make money', 'Talking Tom Gold Run', 'letgo: Buy & Sell Used Stuff, Cars & Real Estate', 'Love Balls', 'Last Day on Earth: Survival', 'Minecraft', 'MEGA', 'MX Player', 'I’m Expecting - Pregnancy App', 'Diabetes:M', 'Opera Mini - fast web browser', 'Opera Browser: Fast and Secure', 'O-Star', 'PicsArt Photo Studio: Collage Maker & Pic Editor', 'Quora', 'ROBLOX', 'SHAREit - Transfer & Share', 'Tumblr', 'Topbuzz: Breaking News, Videos & Funny GIFs', 'Twitch: Livestream Multiplayer Games & Esports', 'Telegram', 'myAT&T', 'Truecaller: Caller ID, SMS spam blocking & Dialer', 'Showtime Anytime', 'UC Browser Mini -Tiny Fast Private & Secure', 'Uber', 'Viber Messenger', 'VLC for Android', 'Vigo Video', 'WeChat', 'Wattpad 📖 Free Books', 'Waze - GPS, Maps, Traffic Alerts & Live Navigation', 'Dating App, Flirt & Chat : W-Match', 'WPS Office - Word, Docs, PDF, Note, Slide & Sheet', 'LINE WEBTOON - Free Comics', 'WhatsApp Business', 'We Heart It', 'TripAdvisor Hotels Flights Restaurants Attractions', 'Telegram X', 'Share Music & Transfer Files - Xender', 'Yandex Browser with Protect', 'YouTube Studio', 'Yahoo Mail – Stay Organized', 'PBS KIDS Video', 'YouTube Gaming', 'GO Keyboard - Emoticon keyboard, Free Theme, GIF', 'Zello PTT Walkie Talkie', 'Z Camera - Photo Editor, Beauty Selfie, Collage', 'Six Pack in 30 Days - Abs Workout', 'Angry Birds 2', 'Angry Birds Rio', 'AC - Tips & News for Android™', 'CM Browser - Ad Blocker , Fast Download , Privacy', 'Google Ads', 'Mobi Calculator free & AD free!', 'Flipp - Weekly Shopping', 'A&E - Watch Full Episodes of TV Shows', 'Camera FV-5 Lite', 'Cardiac diagnosis (heart rate, arrhythmia)', 'Open Camera', 'All Football - Latest News & Videos', 'Maricopa AH', 'Youper - AI Therapy', 'Animal Jam - Play Wild!', 'RULES OF SURVIVAL', 'Amazon for Tablets', 'Final Fantasy XV: A New Empire', 'The Sims™ FreePlay', 'Text free - Free Text + Call', 'Google Photos', '365Scores - Live Scores', 'DINO HUNTER: DEADLY SHORES', 'AP Mobile - Breaking News', 'Reuters News', 'Puffin Web Browser', 'AccuWeather: Daily Forecast & Live Weather Reports', 'Moovit: Bus Time & Train Time Live Info', 'Jurassic World™ Alive', 'Houzz Interior Design Ideas', 'NYTimes - Latest News', 'Overstock – Home Decor, Furniture Shopping', 'Google Voice', 'Choices: Stories You Play', 'Runtastic Sleep Better: Sleep Cycle & Smart Alarm', 'Google Pay', 'Ringtone Maker', 'Google Allo', 'Plants vs. Zombies™ Heroes', 'CM FILE MANAGER HD', 'MLB At Bat', 'HotelTonight: Book amazing deals at great hotels', 'realestate.com.au - Buy, Rent & Sell Property', 'Video Player All Format', 'DEER HUNTER 2018', 'Video Editor', 'Google Play Games', 'ai.type Free Emoji Keyboard', 'Manga AZ - Manga Comic Reader', 'British Airways', 'American Airlines', 'Anthem BC Anywhere', 'Transit: Real-Time Transit App', 'PMHNP-BC Pocket Prep', 'BeautyPlus - Easy Photo Editor & Selfie Camera', 'Bowmasters', 'Nick', 'mySugr: the blood sugar tracker made just for you', 'Backgrounds HD (Wallpapers)', 'Blur Image Background', 'Newegg Mobile', 'Moco - Chat, Meet People', 'Hot or Not - Find someone right now', 'MeetMe: Chat & Meet New People', 'TED', 'English Dictionary - Offline', 'OkCupid Dating', 'Mint: Budget, Bills, Finance', 'English Grammar Test', 'Daily Manga - Comic & Webtoon', 'BBM - Free Calls & Messages', 'BeyondMenu Food Delivery', 'NOOK: Read eBooks & Magazines', 'NOOK App for NOOK Devices', 'Badoo - Free Chat & Dating App', 'HBO GO: Stream with TV Package', 'No Crop & Square for Instagram', 'Hungry Shark World', 'iBP Blood Pressure', 'Blood Pressure', 'Blood Pressure Log - MyDiary', 'Blood Pressure(BP) Diary', 'BP Journal - Blood Pressure Diary', 'Blood Pressure Monitor', 'Blood Pressure Companion', 'Free Blood Pressure', 'High Blood Pressure Symptoms', 'QR Scanner & Barcode Scanner 2018', 'Camera FV-5', 'Camera MX - Free Photo & Video Camera', 'Bleacher Report: sports news, scores, & highlights', 'Cardboard', 'Kick the Buddy', 'Maps & GPS Navigation — OsmAnd', 'Beautiful Widgets Pro', 'Beautiful Widgets Free', 'HD Widgets', 'Color by Number – New Coloring Book', 'Photo Editor by Aviary', 'UNICORN - Color By Number & Pixel Art Coloring', 'Elmo Calls by Sesame Street', '420 BZ Budeze Delivery', 'BZWBK24 mobile', 'Zoosk Dating App: Meet Singles', 'Cricbuzz - Live Cricket Scores & News', 'Cheapflights – Flight Search', 'Chrome Beta', 'Chrome Dev', 'CJmall', 'Credit Karma', 'Castle Clash: Heroes of the Empire US', 'CM Launcher 3D - Theme, Wallpapers, Efficient', 'CM Locker - Security Lockscreen', 'CM Flashlight (Compass, SOS)', 'Ruler', 'QuickPic - Photo Gallery with Google Drive Support', 'Cartoon Network App', 'LEGO® TV', 'DisneyNOW – TV Shows & Games', 'Brit + Co', 'CT Scan Cross Sectional Anatomy', 'Shadow Fight 2', 'Curriculum vitae App CV Builder Free Resume Maker', 'The CW', 'CW Seed', 'Hulu: Stream TV, Movies & more', 'Cymera Camera- Photo Editor, Filter,Collage,Layout', 'Camera360 Lite - Selfie Camera', 'Mapy.cz - Cycling & Hiking offline maps', 'Face Filter, Selfie Editor - Sweet Camera', 'Metal Soldiers 2', \"COOKING MAMA Let's Cook!\", 'Run Sausage Run!', 'Knife Hit', 'DRAGON BALL LEGENDS', 'DC Comics', 'DC Super Hero Girls™', 'MARVEL Contest of Champions', 'MARVEL Strike Force', 'wetter.com - Weather and Radar', 'Babbel – Learn Languages', 'CallApp: Caller ID, Blocker & Phone Call Recorder', 'LINE Camera - Photo editor', 'Racing in Car 2', 'Google PDF Viewer', 'Periscope - Live Video', 'Dungeon Hunter Champions: Epic Online Action RPG', 'Red Bull TV: Live Sports, Music & Entertainment', 'Idle Heroes', 'Duolingo: Learn Languages Free', 'Free phone calls, free texting SMS on free number', 'Phone Tracker : Family Locator', 'My Photo Keyboard', 'Whoscall - Caller ID & Block', 'Google Sheets', 'Video Downloader', 'Google Docs', 'Any.do: To-do list, Calendar, Reminders & Planner', 'Notepad & To do list', 'Polaris Office - Word, Docs, Sheets, Slide, PDF', 'Google Keep', 'Do It Later: Tasks & To-Dos', 'Todoist: To-do lists for task management & errands', 'To-Do Calendar Planner', 'Wunderlist: To-Do List & Tasks', 'TickTick: To Do List with Reminder, Day Planner', 'ColorNote Notepad Notes', 'Apex Launcher', 'Dude Perfect 2', 'Dairy Queen', 'SONIC Drive-In', \"McDonald's\", 'Wendy’s – Food and Offers', \"Dunkin' Donuts\", 'SUBWAY®', 'Panera Bread', 'Starbucks', \"Dr. Panda & Toto's Treehouse\", 'Cache Cleaner-DU Speed Booster (booster & cleaner)', 'DU Browser—Browse fast & fun', 'Real Racing 3', 'Equestria Girls', 'My Little Pony Celebration', 'Miraculous Ladybug & Cat Noir - The Official Game', 'My Little Pony: Harmony Quest', 'PJ Masks: Moonlight Heroes', 'The Emirates App', 'Phogy, 3D Camera', 'Weather by eltiempo.es', 'The Game of Life', 'Spanish English Translator', 'Human Anatomy Atlas 2018: Complete 3D Human Body', \"Game for KIDS: KIDS match'em\", 'CBS Sports App - Scores, News, Stats & Watch Live', 'Yahoo Fantasy Sports - #1 Rated Fantasy App', 'Dictionary - Merriam-Webster', 'Edmodo', 'busuu: Learn Languages - Spanish, English & More', 'Chess Free', 'Oxford Dictionary of English : Free', 'Masha and the Bear Child Games', 'Frozen Free Fall', 'Episode - Choose Your Story', 'The NBC App - Watch Live TV and Full Episodes', 'Moto File Manager', 'HBO NOW: Stream TV & Movies', 'Moneycontrol – Stocks, Sensex, Mutual Funds, IPO', 'CNBC: Breaking Business News & Live Market Data', 'Google Earth', 'Groupon - Shop Deals, Discounts & Coupons', 'Google News', 'Amino: Communities and Chats', 'Nike Training Club - Workouts & Fitness Plans', 'Hangouts Dialer - Call Phones', 'Offline Maps & Navigation', 'Strawberry Shortcake Ice Cream Island', 'Home Workout - No Equipment', 'Home Security Camera WardenCam - reuse old phones', 'Food Network', 'Web Browser for Android', 'Airway Ex - Intubate. Anesthetize. Train.', 'FilterGrid - Cam&Photo Editor', 'Messages, Text and Video Chat for Messenger', 'All Social Networks', 'Premier League - Official App', 'Farm Heroes Saga', 'ESPN Fantasy Sports', 'Fallout Shelter', 'Facebook Pages Manager', 'Facebook Ads Manager', 'Who Viewed My Facebook Profile - Stalkers Visitors', 'The 5th Stand', 'Garena Free Fire', 'osmino Wi-Fi: free WiFi', 'Fun Kid Racing - Motocross', 'Podcast App: Free & Offline Podcasts by Player FM', 'Motorola FM Radio', 'FarmersOnly Dating', 'Firefox Focus: The privacy browser', 'FP Notebook', 'Slickdeals: Coupons & Shopping', 'AAFP']\n"
     ]
    }
   ],
   "source": [
    "repeated_apps = []\n",
    "unique_apps = []\n",
    "\n",
    "for row in Goo_data:\n",
    "    name = row[0]\n",
    "    if name in unique_apps:\n",
    "        repeated_apps.append(name)\n",
    "    else:\n",
    "        unique_apps.append(name)\n",
    "\n",
    "print(len(repeated_apps))\n",
    "print(repeated_apps)"
   ]
  },
  {
   "cell_type": "markdown",
   "metadata": {},
   "source": [
    "Since there seems to be an unreasonable amount of repeated rows, I decide to check again.\n"
   ]
  },
  {
   "cell_type": "code",
   "execution_count": 6,
   "metadata": {},
   "outputs": [
    {
     "name": "stdout",
     "output_type": "stream",
     "text": [
      "['Quick PDF Scanner + OCR FREE', 'BUSINESS', '4.2', '80805', 'Varies with device', '5,000,000+', 'Free', '0', 'Everyone', 'Business', 'February 26, 2018', 'Varies with device', '4.0.3 and up']\n",
      "['Quick PDF Scanner + OCR FREE', 'BUSINESS', '4.2', '80805', 'Varies with device', '5,000,000+', 'Free', '0', 'Everyone', 'Business', 'February 26, 2018', 'Varies with device', '4.0.3 and up']\n",
      "['Quick PDF Scanner + OCR FREE', 'BUSINESS', '4.2', '80804', 'Varies with device', '5,000,000+', 'Free', '0', 'Everyone', 'Business', 'February 26, 2018', 'Varies with device', '4.0.3 and up']\n"
     ]
    }
   ],
   "source": [
    "for row in Goo_data:\n",
    "    if row[0] == 'Quick PDF Scanner + OCR FREE':\n",
    "        print(row)"
   ]
  },
  {
   "cell_type": "markdown",
   "metadata": {},
   "source": [
    "So it is true that there's a lot of repeated rows.\n",
    "\n",
    "Now let's remove them from our data.\n",
    "\n",
    "Instead of removing them randomly, I choose to keep the latest data, which should have the highest number of ratings, and here's how:"
   ]
  },
  {
   "cell_type": "code",
   "execution_count": 7,
   "metadata": {},
   "outputs": [
    {
     "name": "stdout",
     "output_type": "stream",
     "text": [
      "9659\n"
     ]
    }
   ],
   "source": [
    "reviews_max = {}\n",
    "for row in Goo_data:\n",
    "    name = row[0]\n",
    "    n_reviews = float(row[3])\n",
    "    if name in reviews_max and reviews_max[name] < n_reviews:\n",
    "        reviews_max[name] = n_reviews\n",
    "    elif name not in reviews_max:\n",
    "        reviews_max[name] = n_reviews\n",
    "        \n",
    "print(len(reviews_max))"
   ]
  },
  {
   "cell_type": "markdown",
   "metadata": {},
   "source": [
    "First, we create an dictionary which contain the most reviews of each apps.\n",
    "Then we tried to identify those rows in our data and append it into a new list of list."
   ]
  },
  {
   "cell_type": "code",
   "execution_count": 8,
   "metadata": {},
   "outputs": [
    {
     "name": "stdout",
     "output_type": "stream",
     "text": [
      "['Photo Editor & Candy Camera & Grid & ScrapBook', 'U Launcher Lite – FREE Live Cool Themes, Hide Apps', 'Sketch - Draw & Paint']\n",
      "[['Photo Editor & Candy Camera & Grid & ScrapBook', 'ART_AND_DESIGN', '4.1', '159', '19M', '10,000+', 'Free', '0', 'Everyone', 'Art & Design', 'January 7, 2018', '1.0.0', '4.0.3 and up'], ['U Launcher Lite – FREE Live Cool Themes, Hide Apps', 'ART_AND_DESIGN', '4.7', '87510', '8.7M', '5,000,000+', 'Free', '0', 'Everyone', 'Art & Design', 'August 1, 2018', '1.2.4', '4.0.3 and up'], ['Sketch - Draw & Paint', 'ART_AND_DESIGN', '4.5', '215644', '25M', '50,000,000+', 'Free', '0', 'Teen', 'Art & Design', 'June 8, 2018', 'Varies with device', '4.2 and up']]\n"
     ]
    },
    {
     "data": {
      "text/plain": [
       "9659"
      ]
     },
     "execution_count": 8,
     "metadata": {},
     "output_type": "execute_result"
    }
   ],
   "source": [
    "android_clean = []\n",
    "already_added = []\n",
    "for row in Goo_data:\n",
    "    n_review = float(row[3])\n",
    "    name = row[0]\n",
    "    if n_review == reviews_max[name] and name not in already_added:\n",
    "        android_clean.append(row)\n",
    "        already_added.append(name)\n",
    "\n",
    "print(already_added[0:3])\n",
    "print(android_clean[0:3])\n",
    "len(android_clean)\n"
   ]
  },
  {
   "cell_type": "markdown",
   "metadata": {},
   "source": [
    "Here the list **android_clean** is the cleaned data we are going to analyze.\n",
    "Now we're going to do the same analysis on iOS apps."
   ]
  },
  {
   "cell_type": "code",
   "execution_count": 9,
   "metadata": {},
   "outputs": [
    {
     "name": "stdout",
     "output_type": "stream",
     "text": [
      "0\n",
      "[]\n"
     ]
    }
   ],
   "source": [
    "repeated_row = []\n",
    "unique_row = []\n",
    "\n",
    "for row in iOS_data:\n",
    "    if row in unique_row:\n",
    "        repeated_row.append(row)\n",
    "    else:\n",
    "        unique_row.append(row)\n",
    "        \n",
    "\n",
    "print(len(repeated_row))\n",
    "print(repeated_row)"
   ]
  },
  {
   "cell_type": "markdown",
   "metadata": {},
   "source": [
    "The result shows that there's no repeated row in iOS data.\n",
    "\n",
    "Let's keep going.\n",
    "\n",
    "Our next step is to remove non_English apps for the purpose of our goal of analysis.\n"
   ]
  },
  {
   "cell_type": "code",
   "execution_count": 10,
   "metadata": {},
   "outputs": [],
   "source": [
    "def Eng(string):\n",
    "    \n",
    "    for text in string:\n",
    "        if ord(text) > 127:\n",
    "            return False\n",
    "    return True\n"
   ]
  },
  {
   "cell_type": "markdown",
   "metadata": {},
   "source": [
    "Here I create a function in order to identify non-English character. For your information, the text used in English range from 0 to 127. If the text is having an index number greater than 127, it's not commonly used in English.\n",
    "\n",
    "Let's test whether this function works with several example string."
   ]
  },
  {
   "cell_type": "code",
   "execution_count": 11,
   "metadata": {
    "scrolled": true
   },
   "outputs": [
    {
     "name": "stdout",
     "output_type": "stream",
     "text": [
      "True\n",
      "False\n",
      "False\n",
      "False\n"
     ]
    }
   ],
   "source": [
    "print(Eng('Instagram'))\n",
    "print(Eng('爱奇艺PPS -《欢乐颂2》电视剧热播'))\n",
    "print(Eng('Docs To Go™ Free Office Suite'))\n",
    "print(Eng('Instachat 😜'))"
   ]
  },
  {
   "cell_type": "markdown",
   "metadata": {},
   "source": [
    "Now we see that in the last three line of this function, it failed to preserve those functions with emoji or the mark `™`."
   ]
  },
  {
   "cell_type": "code",
   "execution_count": 12,
   "metadata": {},
   "outputs": [
    {
     "name": "stdout",
     "output_type": "stream",
     "text": [
      "128540\n",
      "8482\n"
     ]
    }
   ],
   "source": [
    "print(ord('😜'))\n",
    "print(ord('™'))"
   ]
  },
  {
   "cell_type": "markdown",
   "metadata": {},
   "source": [
    "The index number of these text are way bigger than those we used to identify English texts, but still they are English apps.\n",
    "Here, we should identify the function in order to preserve those apps in our data."
   ]
  },
  {
   "cell_type": "code",
   "execution_count": 13,
   "metadata": {},
   "outputs": [],
   "source": [
    "def Eng(string):\n",
    "    \n",
    "    count = 0\n",
    "    for text in string:\n",
    "        if ord(text) > 127:\n",
    "            count += 1\n",
    "    if count > 3:\n",
    "        return False\n",
    "    return True"
   ]
  },
  {
   "cell_type": "markdown",
   "metadata": {},
   "source": [
    "This new function can tolerates the text with no more than three non-common English text. Although there might be English app names with more than three non-common English text, but this function shoud be good enough. Now, let's test it with the examples we had."
   ]
  },
  {
   "cell_type": "code",
   "execution_count": 14,
   "metadata": {},
   "outputs": [
    {
     "name": "stdout",
     "output_type": "stream",
     "text": [
      "True\n",
      "False\n",
      "True\n",
      "True\n"
     ]
    }
   ],
   "source": [
    "print(Eng('Instagram'))\n",
    "print(Eng('爱奇艺PPS -《欢乐颂2》电视剧热播'))\n",
    "print(Eng('Docs To Go™ Free Office Suite'))\n",
    "print(Eng('Instachat 😜'))"
   ]
  },
  {
   "cell_type": "markdown",
   "metadata": {},
   "source": [
    "The result is better than the original function. Now, let's use it in our data to filter out non-English apps."
   ]
  },
  {
   "cell_type": "code",
   "execution_count": 15,
   "metadata": {},
   "outputs": [
    {
     "name": "stdout",
     "output_type": "stream",
     "text": [
      "9614\n"
     ]
    }
   ],
   "source": [
    "android_English = []\n",
    "\n",
    "for row in android_clean:\n",
    "    name = row[0]\n",
    "    if Eng(name):\n",
    "        android_English.append(row)\n",
    "\n",
    "print(len(android_English))"
   ]
  },
  {
   "cell_type": "markdown",
   "metadata": {},
   "source": [
    "So we have 9614 English apps in the list.\n",
    "Let's do the same thing for iOS apps."
   ]
  },
  {
   "cell_type": "code",
   "execution_count": 16,
   "metadata": {},
   "outputs": [
    {
     "name": "stdout",
     "output_type": "stream",
     "text": [
      "6183\n"
     ]
    }
   ],
   "source": [
    "iOS_English = []\n",
    "\n",
    "for row in iOS_data:\n",
    "    name = row[2]\n",
    "    if Eng(name):\n",
    "        iOS_English.append(row)\n",
    "\n",
    "print(len(iOS_English))"
   ]
  },
  {
   "cell_type": "markdown",
   "metadata": {},
   "source": [
    "So there's 6183 English apps in iOS apps."
   ]
  },
  {
   "cell_type": "markdown",
   "metadata": {},
   "source": [
    "Lastly, since we planned to analyze free, English apps, we need to isolate the free apps in our data."
   ]
  },
  {
   "cell_type": "code",
   "execution_count": 17,
   "metadata": {},
   "outputs": [
    {
     "name": "stdout",
     "output_type": "stream",
     "text": [
      "8863\n",
      "3222\n"
     ]
    }
   ],
   "source": [
    "android = []\n",
    "\n",
    "for row in android_English:\n",
    "    type = row[6]\n",
    "    if type == 'Free':\n",
    "        android.append(row)\n",
    "print(len(android))\n",
    "\n",
    "iOS = []\n",
    "\n",
    "for row in iOS_English:\n",
    "    price = float(row[5])\n",
    "    if price == 0.0:\n",
    "        iOS.append(row)\n",
    "print(len(iOS))"
   ]
  },
  {
   "cell_type": "markdown",
   "metadata": {},
   "source": [
    "## 2. Data Analysis\n",
    "\n",
    "### Common Genres\n",
    "\n",
    "Finally, after cleaning and filtering our data,we now have the data we want. Now we can start our analysis.\n",
    "\n",
    "Before we start the analysis, let's talk about the validation startegy of the app and the goal of our analysis.\n",
    "\n",
    "To minimize the risks and overhead, the whole process of app development is comprised into three steps:\n",
    " 1. Build a minimal Android version of the app, and add it to Google Play.\n",
    " 2. If the app has a good response from users, we develop it further.\n",
    " 3. If the app is profitable after six months, we build an iOS version of the app and add it to the App Store.\n",
    " \n",
    "Since our goal is to develope apps for both App Store and GooglePlay, we need to find apps that are successful on both platform.\n",
    "\n",
    "For this purpose, we'll need to build frequency tables.\n",
    "\n"
   ]
  },
  {
   "cell_type": "code",
   "execution_count": 18,
   "metadata": {},
   "outputs": [],
   "source": [
    "def freq_table(data, index):\n",
    "    frequency_table = {}\n",
    "    all = 0\n",
    "    for row in data:\n",
    "        all += 1\n",
    "        target = row[index]\n",
    "        if target in frequency_table:\n",
    "            frequency_table[target] += 1\n",
    "        else:\n",
    "            frequency_table[target] = 1\n",
    "    table_percentage = {}\n",
    "    \n",
    "    for key in frequency_table:\n",
    "        percentage = (frequency_table[key] / all) * 100\n",
    "        table_percentage[key] = percentage\n",
    "    return table_percentage\n"
   ]
  },
  {
   "cell_type": "markdown",
   "metadata": {},
   "source": [
    "Let's test it in iOS on the column `prime genre` whose index number is 12."
   ]
  },
  {
   "cell_type": "code",
   "execution_count": 19,
   "metadata": {},
   "outputs": [
    {
     "name": "stdout",
     "output_type": "stream",
     "text": [
      "{'Productivity': 1.7380509000620732, 'Weather': 0.8690254500310366, 'Shopping': 2.60707635009311, 'Reference': 0.5586592178770949, 'Finance': 1.1173184357541899, 'Music': 2.0484171322160147, 'Utilities': 2.5139664804469275, 'Travel': 1.2414649286157666, 'Social Networking': 3.2898820608317814, 'Sports': 2.1415270018621975, 'Health & Fitness': 2.0173805090006205, 'Games': 58.16263190564867, 'Food & Drink': 0.8069522036002483, 'News': 1.3345747982619491, 'Book': 0.4345127250155183, 'Photo & Video': 4.9658597144630665, 'Entertainment': 7.883302296710118, 'Business': 0.5276225946617008, 'Lifestyle': 1.5828677839851024, 'Education': 3.662321539416512, 'Navigation': 0.186219739292365, 'Medical': 0.186219739292365, 'Catalogs': 0.12414649286157665}\n"
     ]
    }
   ],
   "source": [
    "iOS_freq = freq_table(iOS,12)\n",
    "print(iOS_freq)"
   ]
  },
  {
   "cell_type": "markdown",
   "metadata": {},
   "source": [
    "Now, we integrate this function with another funtion `display_table()`, which would produce a frequency table in a descending order."
   ]
  },
  {
   "cell_type": "code",
   "execution_count": 20,
   "metadata": {
    "scrolled": false
   },
   "outputs": [
    {
     "name": "stdout",
     "output_type": "stream",
     "text": [
      "iOS Prime Genre frequeny table\n",
      "\n",
      "\n",
      "Games : 58.16263190564867\n",
      "Entertainment : 7.883302296710118\n",
      "Photo & Video : 4.9658597144630665\n",
      "Education : 3.662321539416512\n",
      "Social Networking : 3.2898820608317814\n",
      "Shopping : 2.60707635009311\n",
      "Utilities : 2.5139664804469275\n",
      "Sports : 2.1415270018621975\n",
      "Music : 2.0484171322160147\n",
      "Health & Fitness : 2.0173805090006205\n",
      "Productivity : 1.7380509000620732\n",
      "Lifestyle : 1.5828677839851024\n",
      "News : 1.3345747982619491\n",
      "Travel : 1.2414649286157666\n",
      "Finance : 1.1173184357541899\n",
      "Weather : 0.8690254500310366\n",
      "Food & Drink : 0.8069522036002483\n",
      "Reference : 0.5586592178770949\n",
      "Business : 0.5276225946617008\n",
      "Book : 0.4345127250155183\n",
      "Navigation : 0.186219739292365\n",
      "Medical : 0.186219739292365\n",
      "Catalogs : 0.12414649286157665\n"
     ]
    }
   ],
   "source": [
    "def display_table(dataset, index):\n",
    "    table = freq_table(dataset, index)\n",
    "    table_display = []\n",
    "    for key in table:\n",
    "        key_val_as_tuple = (table[key], key) ##The dictionary value goes first\n",
    "        table_display.append(key_val_as_tuple)\n",
    "\n",
    "    table_sorted = sorted(table_display, reverse = True)\n",
    "    for entry in table_sorted:\n",
    "        print(entry[1], ':', entry[0])\n",
    "\n",
    "print('iOS Prime Genre frequeny table')\n",
    "print('\\n')\n",
    "iOS_prime_genre = display_table(iOS, 12)"
   ]
  },
  {
   "cell_type": "markdown",
   "metadata": {},
   "source": [
    "Now we see that the most common genre in AppStore is `Games`, following by `Entertainment` and then `Photo & Video`. We can see from the data that a big portion of the apps in AppStore is developed for the purpose of entertainment, around 66%. In other words, most of the apps are developed for entertainment (such as games, photo and video, social networking, sports, music) instead of practical purpose (such as education, shopping, utilities, productivity, lifestyle) in AppStore."
   ]
  },
  {
   "cell_type": "markdown",
   "metadata": {},
   "source": [
    "Althought the pattern we see in this frequency in this table, we can't conclude that these apps have a large number of users based on this data alone. This data only show the frequency of free-English apps, instead of the total number of installs."
   ]
  },
  {
   "cell_type": "code",
   "execution_count": 21,
   "metadata": {},
   "outputs": [
    {
     "name": "stdout",
     "output_type": "stream",
     "text": [
      "android Category frequency table\n",
      "\n",
      "\n",
      "FAMILY : 18.898792733837304\n",
      "GAME : 9.725826469592688\n",
      "TOOLS : 8.462146000225657\n",
      "BUSINESS : 4.592124562789123\n",
      "LIFESTYLE : 3.9038700214374367\n",
      "PRODUCTIVITY : 3.8925871601038025\n",
      "FINANCE : 3.7007785174320205\n",
      "MEDICAL : 3.5315355974275078\n",
      "SPORTS : 3.396141261423897\n",
      "PERSONALIZATION : 3.317161232088458\n",
      "COMMUNICATION : 3.2381812027530184\n",
      "HEALTH_AND_FITNESS : 3.0802211440821394\n",
      "PHOTOGRAPHY : 2.944826808078529\n",
      "NEWS_AND_MAGAZINES : 2.798149610741284\n",
      "SOCIAL : 2.6627552747376737\n",
      "TRAVEL_AND_LOCAL : 2.335552296062281\n",
      "SHOPPING : 2.245289405393208\n",
      "BOOKS_AND_REFERENCE : 2.1437436533904997\n",
      "DATING : 1.8616721200496444\n",
      "VIDEO_PLAYERS : 1.7939749520478394\n",
      "MAPS_AND_NAVIGATION : 1.399074805370642\n",
      "FOOD_AND_DRINK : 1.241114746699763\n",
      "EDUCATION : 1.1621347173643235\n",
      "ENTERTAINMENT : 0.9590432133589079\n",
      "LIBRARIES_AND_DEMO : 0.9364774906916393\n",
      "AUTO_AND_VEHICLES : 0.9251946293580051\n",
      "HOUSE_AND_HOME : 0.8236488773552973\n",
      "WEATHER : 0.8010831546880289\n",
      "EVENTS : 0.7108202640189552\n",
      "PARENTING : 0.6544059573507841\n",
      "ART_AND_DESIGN : 0.6431230960171499\n",
      "COMICS : 0.6205573733498815\n",
      "BEAUTY : 0.5979916506826132\n"
     ]
    }
   ],
   "source": [
    "print('android Category frequency table')\n",
    "print('\\n')\n",
    "android_Category = display_table(android, 1)"
   ]
  },
  {
   "cell_type": "code",
   "execution_count": 22,
   "metadata": {},
   "outputs": [
    {
     "name": "stdout",
     "output_type": "stream",
     "text": [
      "android Genres frequency table\n",
      "\n",
      "\n",
      "Tools : 8.450863138892023\n",
      "Entertainment : 6.070179397495204\n",
      "Education : 5.348076272142616\n",
      "Business : 4.592124562789123\n",
      "Productivity : 3.8925871601038025\n",
      "Lifestyle : 3.8925871601038025\n",
      "Finance : 3.7007785174320205\n",
      "Medical : 3.5315355974275078\n",
      "Sports : 3.463838429425702\n",
      "Personalization : 3.317161232088458\n",
      "Communication : 3.2381812027530184\n",
      "Action : 3.102786866749408\n",
      "Health & Fitness : 3.0802211440821394\n",
      "Photography : 2.944826808078529\n",
      "News & Magazines : 2.798149610741284\n",
      "Social : 2.6627552747376737\n",
      "Travel & Local : 2.324269434728647\n",
      "Shopping : 2.245289405393208\n",
      "Books & Reference : 2.1437436533904997\n",
      "Simulation : 2.042197901387792\n",
      "Dating : 1.8616721200496444\n",
      "Arcade : 1.8503892587160102\n",
      "Video Players & Editors : 1.771409229380571\n",
      "Casual : 1.7601263680469368\n",
      "Maps & Navigation : 1.399074805370642\n",
      "Food & Drink : 1.241114746699763\n",
      "Puzzle : 1.128286133363421\n",
      "Racing : 0.9928917973598104\n",
      "Role Playing : 0.9364774906916393\n",
      "Libraries & Demo : 0.9364774906916393\n",
      "Auto & Vehicles : 0.9251946293580051\n",
      "Strategy : 0.9026289066907368\n",
      "House & Home : 0.8236488773552973\n",
      "Weather : 0.8010831546880289\n",
      "Events : 0.7108202640189552\n",
      "Adventure : 0.6769716800180525\n",
      "Comics : 0.6092745120162473\n",
      "Beauty : 0.5979916506826132\n",
      "Art & Design : 0.5979916506826132\n",
      "Parenting : 0.4964458986799052\n",
      "Card : 0.4513144533453684\n",
      "Casino : 0.42874873067809993\n",
      "Trivia : 0.4174658693444658\n",
      "Educational;Education : 0.3949001466771973\n",
      "Board : 0.38361728534356315\n",
      "Educational : 0.37233442400992894\n",
      "Education;Education : 0.33848584000902626\n",
      "Word : 0.25950581067358686\n",
      "Casual;Pretend Play : 0.2369400880063184\n",
      "Music : 0.20309150400541578\n",
      "Racing;Action & Adventure : 0.16924292000451313\n",
      "Puzzle;Brain Games : 0.16924292000451313\n",
      "Entertainment;Music & Video : 0.16924292000451313\n",
      "Casual;Brain Games : 0.1353943360036105\n",
      "Casual;Action & Adventure : 0.1353943360036105\n",
      "Arcade;Action & Adventure : 0.1241114746699763\n",
      "Action;Action & Adventure : 0.10154575200270789\n",
      "Educational;Pretend Play : 0.09026289066907367\n",
      "Simulation;Action & Adventure : 0.07898002933543948\n",
      "Parenting;Education : 0.07898002933543948\n",
      "Entertainment;Brain Games : 0.07898002933543948\n",
      "Board;Brain Games : 0.07898002933543948\n",
      "Parenting;Music & Video : 0.06769716800180525\n",
      "Educational;Brain Games : 0.06769716800180525\n",
      "Casual;Creativity : 0.06769716800180525\n",
      "Art & Design;Creativity : 0.06769716800180525\n",
      "Education;Pretend Play : 0.05641430666817105\n",
      "Role Playing;Pretend Play : 0.045131445334536835\n",
      "Education;Creativity : 0.045131445334536835\n",
      "Role Playing;Action & Adventure : 0.033848584000902626\n",
      "Puzzle;Action & Adventure : 0.033848584000902626\n",
      "Entertainment;Creativity : 0.033848584000902626\n",
      "Entertainment;Action & Adventure : 0.033848584000902626\n",
      "Educational;Creativity : 0.033848584000902626\n",
      "Educational;Action & Adventure : 0.033848584000902626\n",
      "Education;Music & Video : 0.033848584000902626\n",
      "Education;Brain Games : 0.033848584000902626\n",
      "Education;Action & Adventure : 0.033848584000902626\n",
      "Adventure;Action & Adventure : 0.033848584000902626\n",
      "Video Players & Editors;Music & Video : 0.022565722667268417\n",
      "Sports;Action & Adventure : 0.022565722667268417\n",
      "Simulation;Pretend Play : 0.022565722667268417\n",
      "Puzzle;Creativity : 0.022565722667268417\n",
      "Music;Music & Video : 0.022565722667268417\n",
      "Entertainment;Pretend Play : 0.022565722667268417\n",
      "Casual;Education : 0.022565722667268417\n",
      "Board;Action & Adventure : 0.022565722667268417\n",
      "Video Players & Editors;Creativity : 0.011282861333634209\n",
      "Trivia;Education : 0.011282861333634209\n",
      "Travel & Local;Action & Adventure : 0.011282861333634209\n",
      "Tools;Education : 0.011282861333634209\n",
      "Strategy;Education : 0.011282861333634209\n",
      "Strategy;Creativity : 0.011282861333634209\n",
      "Strategy;Action & Adventure : 0.011282861333634209\n",
      "Simulation;Education : 0.011282861333634209\n",
      "Role Playing;Brain Games : 0.011282861333634209\n",
      "Racing;Pretend Play : 0.011282861333634209\n",
      "Puzzle;Education : 0.011282861333634209\n",
      "Parenting;Brain Games : 0.011282861333634209\n",
      "Music & Audio;Music & Video : 0.011282861333634209\n",
      "Lifestyle;Pretend Play : 0.011282861333634209\n",
      "Lifestyle;Education : 0.011282861333634209\n",
      "Health & Fitness;Education : 0.011282861333634209\n",
      "Health & Fitness;Action & Adventure : 0.011282861333634209\n",
      "Entertainment;Education : 0.011282861333634209\n",
      "Communication;Creativity : 0.011282861333634209\n",
      "Comics;Creativity : 0.011282861333634209\n",
      "Casual;Music & Video : 0.011282861333634209\n",
      "Card;Action & Adventure : 0.011282861333634209\n",
      "Books & Reference;Education : 0.011282861333634209\n",
      "Art & Design;Pretend Play : 0.011282861333634209\n",
      "Art & Design;Action & Adventure : 0.011282861333634209\n",
      "Arcade;Pretend Play : 0.011282861333634209\n",
      "Adventure;Education : 0.011282861333634209\n",
      "android_Genres\n"
     ]
    }
   ],
   "source": [
    "print('android Genres frequency table')\n",
    "print('\\n')\n",
    "android_Genres = display_table(android, 9)\n",
    "print('android_Genres')"
   ]
  },
  {
   "cell_type": "markdown",
   "metadata": {},
   "source": [
    "In genre frequency table of GooglePlay, the most common genre is `Tools` (8.4%), followed by `Entertainment`(6%) and `Education`(5.3%).\n",
    "\n",
    "Compared to the pattern we see in AppStore, there is a bigger portion of practical purposes. Although `Entertainment` still made it to the top three, but the rest of the genre in top 5 are all developed for practical purposes such as Tools, Education, Business, and Poductivity.\n",
    "\n",
    "Same as the conclusion we had in AppStore data, we still need other data such as reviews or number of installs in order to determine whether these apps are successful or not."
   ]
  },
  {
   "cell_type": "markdown",
   "metadata": {},
   "source": [
    "### Total Rating Count\n",
    "As mentioned above, we'll look into total rating count in order to find out the most popular genre.\n",
    "\n",
    "Let's dig in!\n"
   ]
  },
  {
   "cell_type": "code",
   "execution_count": 23,
   "metadata": {
    "scrolled": true
   },
   "outputs": [
    {
     "name": "stdout",
     "output_type": "stream",
     "text": [
      "Productivity\n",
      "21028.410714285714\n",
      "Weather\n",
      "52279.892857142855\n",
      "Shopping\n",
      "26919.690476190477\n",
      "Reference\n",
      "74942.11111111111\n",
      "Finance\n",
      "31467.944444444445\n",
      "Music\n",
      "57326.530303030304\n",
      "Utilities\n",
      "18684.456790123455\n",
      "Travel\n",
      "28243.8\n",
      "Social Networking\n",
      "71548.34905660378\n",
      "Sports\n",
      "23008.898550724636\n",
      "Health & Fitness\n",
      "23298.015384615384\n",
      "Games\n",
      "22788.6696905016\n",
      "Food & Drink\n",
      "33333.92307692308\n",
      "News\n",
      "21248.023255813954\n",
      "Book\n",
      "39758.5\n",
      "Photo & Video\n",
      "28441.54375\n",
      "Entertainment\n",
      "14029.830708661417\n",
      "Business\n",
      "7491.117647058823\n",
      "Lifestyle\n",
      "16485.764705882353\n",
      "Education\n",
      "7003.983050847458\n",
      "Navigation\n",
      "86090.33333333333\n",
      "Medical\n",
      "612.0\n",
      "Catalogs\n",
      "4004.0\n"
     ]
    }
   ],
   "source": [
    "prime_freq = freq_table(iOS,-5)\n",
    "\n",
    "for genre in prime_freq:\n",
    "    total_rating = 0\n",
    "    len_genre = 0\n",
    "    for row in iOS:\n",
    "        genre_app = row[-5]\n",
    "        if genre_app == genre:\n",
    "            ratings = float(row[6])\n",
    "            total_rating = total_rating + ratings \n",
    "            len_genre += 1\n",
    "    average_count = total_rating / len_genre\n",
    "    print(genre)\n",
    "    print(average_count)\n"
   ]
  },
  {
   "cell_type": "markdown",
   "metadata": {},
   "source": [
    "The most populor app genre in AppStore is `Navigation`, let's see what apps are in this genre."
   ]
  },
  {
   "cell_type": "code",
   "execution_count": 24,
   "metadata": {},
   "outputs": [
    {
     "name": "stdout",
     "output_type": "stream",
     "text": [
      "Waze - GPS Navigation, Maps & Real-time Traffic\n",
      "Geocaching®\n",
      "ImmobilienScout24: Real Estate Search in Germany\n",
      "Railway Route Search\n",
      "CoPilot GPS – Car Navigation & Offline Maps\n",
      "Google Maps - Navigation & Transit\n"
     ]
    }
   ],
   "source": [
    "for row in iOS:\n",
    "    app = row[2]\n",
    "    genre = row[-5]\n",
    "    if genre == 'Navigation':\n",
    "        print(app)"
   ]
  },
  {
   "cell_type": "markdown",
   "metadata": {},
   "source": [
    "The apps in this genre are mostly related to Google Maps with massive data points, which I think would be laborious and it would require years of development. So, let's see the 1st runner up: `Reference.` "
   ]
  },
  {
   "cell_type": "code",
   "execution_count": 25,
   "metadata": {},
   "outputs": [
    {
     "name": "stdout",
     "output_type": "stream",
     "text": [
      "Bible\n",
      "Dictionary.com Dictionary & Thesaurus\n",
      "Dictionary.com Dictionary & Thesaurus for iPad\n",
      "Muslim Pro: Ramadan 2017 Prayer Times, Azan, Quran\n",
      "Merriam-Webster Dictionary\n",
      "Google Translate\n",
      "Night Sky\n",
      "WWDC\n",
      "Jishokun-Japanese English Dictionary & Translator\n",
      "教えて!goo\n",
      "VPN Express\n",
      "New Furniture Mods - Pocket Wiki & Game Tools for Minecraft PC Edition\n",
      "LUCKY BLOCK MOD ™ for Minecraft PC Edition - The Best Pocket Wiki & Mods Installer Tools\n",
      "Guides for Pokémon GO - Pokemon GO News and Cheats\n",
      "Horror Maps for Minecraft PE - Download The Scariest Maps for Minecraft Pocket Edition (MCPE) Free\n",
      "City Maps for Minecraft PE - The Best Maps for Minecraft Pocket Edition (MCPE)\n",
      "GUNS MODS for Minecraft PC Edition - Mods Tools\n",
      "Real Bike Traffic Rider Virtual Reality Glasses\n"
     ]
    }
   ],
   "source": [
    "for row in iOS:\n",
    "    app = row[2]\n",
    "    genre = row[-5]\n",
    "    if genre == 'Reference':\n",
    "        print(app)"
   ]
  },
  {
   "cell_type": "markdown",
   "metadata": {},
   "source": [
    "These apps are relatively easy to develop and maintain compare to Navigation apps. If we narrow down and analyze the needs of our target customers, it's easy for us to develope a free-English apps for them. So, I recommend our company to develop an app whose genre is `Reference` for AppStore."
   ]
  },
  {
   "cell_type": "markdown",
   "metadata": {},
   "source": [
    "Now, let's look at the apps in GooglePlay.\n",
    "\n",
    "Here we uitilize the column labeled 'install numbers'. However, the number provided is not precise (100+, 1000+, etc.). We are going to approximate the install number by leaving the numbers as they are, since we don't need very percise number.\n"
   ]
  },
  {
   "cell_type": "code",
   "execution_count": 26,
   "metadata": {},
   "outputs": [
    {
     "name": "stdout",
     "output_type": "stream",
     "text": [
      "{'ART_AND_DESIGN': 0.6431230960171499, 'AUTO_AND_VEHICLES': 0.9251946293580051, 'BEAUTY': 0.5979916506826132, 'BOOKS_AND_REFERENCE': 2.1437436533904997, 'BUSINESS': 4.592124562789123, 'COMICS': 0.6205573733498815, 'COMMUNICATION': 3.2381812027530184, 'DATING': 1.8616721200496444, 'EDUCATION': 1.1621347173643235, 'ENTERTAINMENT': 0.9590432133589079, 'EVENTS': 0.7108202640189552, 'FINANCE': 3.7007785174320205, 'FOOD_AND_DRINK': 1.241114746699763, 'HEALTH_AND_FITNESS': 3.0802211440821394, 'HOUSE_AND_HOME': 0.8236488773552973, 'LIBRARIES_AND_DEMO': 0.9364774906916393, 'LIFESTYLE': 3.9038700214374367, 'GAME': 9.725826469592688, 'FAMILY': 18.898792733837304, 'MEDICAL': 3.5315355974275078, 'SOCIAL': 2.6627552747376737, 'SHOPPING': 2.245289405393208, 'PHOTOGRAPHY': 2.944826808078529, 'SPORTS': 3.396141261423897, 'TRAVEL_AND_LOCAL': 2.335552296062281, 'TOOLS': 8.462146000225657, 'PERSONALIZATION': 3.317161232088458, 'PRODUCTIVITY': 3.8925871601038025, 'PARENTING': 0.6544059573507841, 'WEATHER': 0.8010831546880289, 'VIDEO_PLAYERS': 1.7939749520478394, 'NEWS_AND_MAGAZINES': 2.798149610741284, 'MAPS_AND_NAVIGATION': 1.399074805370642}\n"
     ]
    }
   ],
   "source": [
    "Category_freq = freq_table(android,1)\n",
    "print(Category_freq)"
   ]
  },
  {
   "cell_type": "code",
   "execution_count": 27,
   "metadata": {
    "scrolled": false
   },
   "outputs": [
    {
     "name": "stdout",
     "output_type": "stream",
     "text": [
      "ART_AND_DESIGN\n",
      "113221100.0\n",
      "AUTO_AND_VEHICLES\n",
      "53080061.0\n",
      "BEAUTY\n",
      "27197050.0\n",
      "BOOKS_AND_REFERENCE\n",
      "1665884260.0\n",
      "BUSINESS\n",
      "696902090.0\n",
      "COMICS\n",
      "44971150.0\n",
      "COMMUNICATION\n",
      "11036906201.0\n",
      "DATING\n",
      "140914757.0\n",
      "EDUCATION\n",
      "188850000.0\n",
      "ENTERTAINMENT\n",
      "989460000.0\n",
      "EVENTS\n",
      "15973160.0\n",
      "FINANCE\n",
      "455163132.0\n",
      "FOOD_AND_DRINK\n",
      "211738751.0\n",
      "HEALTH_AND_FITNESS\n",
      "1143548402.0\n",
      "HOUSE_AND_HOME\n",
      "97202461.0\n",
      "LIBRARIES_AND_DEMO\n",
      "52995810.0\n",
      "LIFESTYLE\n",
      "497484429.0\n",
      "GAME\n",
      "13436869450.0\n",
      "FAMILY\n",
      "6193895690.0\n",
      "MEDICAL\n",
      "37732344.0\n",
      "SOCIAL\n",
      "5487861902.0\n",
      "SHOPPING\n",
      "1400338585.0\n",
      "PHOTOGRAPHY\n",
      "4656268815.0\n",
      "SPORTS\n",
      "1095230683.0\n",
      "TRAVEL_AND_LOCAL\n",
      "2894704086.0\n",
      "TOOLS\n",
      "8101043474.0\n",
      "PERSONALIZATION\n",
      "1529235888.0\n",
      "PRODUCTIVITY\n",
      "5791629314.0\n",
      "PARENTING\n",
      "31471010.0\n",
      "WEATHER\n",
      "360288520.0\n",
      "VIDEO_PLAYERS\n",
      "3931731720.0\n",
      "NEWS_AND_MAGAZINES\n",
      "2368196260.0\n",
      "MAPS_AND_NAVIGATION\n",
      "503060780.0\n"
     ]
    }
   ],
   "source": [
    "for category in Category_freq:\n",
    "    total = 0\n",
    "    len_category = 0\n",
    "    for row in android:\n",
    "        category_app = row[1]\n",
    "        if category_app == category:\n",
    "            installs = row[5]\n",
    "            installs = installs.replace('+','')\n",
    "            installs = installs.replace(',','')\n",
    "            installs = float(installs)\n",
    "            total = installs + total\n",
    "            len_category += 1\n",
    "    avg_installs = total / len_category\n",
    "    print(category)\n",
    "    print(total)"
   ]
  },
  {
   "cell_type": "markdown",
   "metadata": {},
   "source": [
    "The category with the most reviews is `Communication`, but a big portion of it was contributed by certain apps."
   ]
  },
  {
   "cell_type": "code",
   "execution_count": 28,
   "metadata": {},
   "outputs": [
    {
     "name": "stdout",
     "output_type": "stream",
     "text": [
      "WhatsApp Messenger\n",
      "Google Duo - High Quality Video Calls\n",
      "Messenger – Text and Video Chat for Free\n",
      "imo free video calls and chat\n",
      "Skype - free IM & video calls\n",
      "LINE: Free Calls & Messages\n",
      "Google Chrome: Fast & Secure\n",
      "UC Browser - Fast Download Private & Secure\n",
      "Gmail\n",
      "Hangouts\n",
      "Viber Messenger\n"
     ]
    }
   ],
   "source": [
    "for app in android:\n",
    "    if app[1] == 'COMMUNICATION' and (app[5] == '1,000,000,000+' or app[5] == '500,000,000+'):\n",
    "        print(app[0])"
   ]
  },
  {
   "cell_type": "markdown",
   "metadata": {},
   "source": [
    "Those apps were well-developed and dominate the market of communication apps for years. Since our goal is to develope an app which produce revenue from in app ads, our approach is also different from their business model. Let's look at the second highest downloaded category: `BOOKS_AND_REFERENCE`"
   ]
  },
  {
   "cell_type": "code",
   "execution_count": 29,
   "metadata": {},
   "outputs": [
    {
     "name": "stdout",
     "output_type": "stream",
     "text": [
      "E-Book Read - Read Book for free\n",
      "Download free book with green book\n",
      "Wikipedia\n",
      "Cool Reader\n",
      "Free Panda Radio Music\n",
      "Book store\n",
      "FBReader: Favorite Book Reader\n",
      "English Grammar Complete Handbook\n",
      "Free Books - Spirit Fanfiction and Stories\n",
      "Google Play Books\n",
      "AlReader -any text book reader\n",
      "Offline English Dictionary\n",
      "Offline: English to Tagalog Dictionary\n",
      "FamilySearch Tree\n",
      "Cloud of Books\n",
      "Recipes of Prophetic Medicine for free\n",
      "ReadEra – free ebook reader\n",
      "Anonymous caller detection\n",
      "Ebook Reader\n",
      "Litnet - E-books\n",
      "Read books online\n",
      "English to Urdu Dictionary\n",
      "eBoox: book reader fb2 epub zip\n",
      "English Persian Dictionary\n",
      "Flybook\n",
      "All Maths Formulas\n",
      "Ancestry\n",
      "HTC Help\n",
      "English translation from Bengali\n",
      "Pdf Book Download - Read Pdf Book\n",
      "Free Book Reader\n",
      "eBoox new: Reader for fb2 epub zip books\n",
      "Only 30 days in English, the guideline is guaranteed\n",
      "Moon+ Reader\n",
      "SH-02J Owner's Manual (Android 8.0)\n",
      "English-Myanmar Dictionary\n",
      "Golden Dictionary (EN-AR)\n",
      "All Language Translator Free\n",
      "Azpen eReader\n",
      "URBANO V 02 instruction manual\n",
      "Bible\n",
      "C Programs and Reference\n",
      "C Offline Tutorial\n",
      "C Programs Handbook\n",
      "Amazon Kindle\n",
      "Aab e Hayat Full Novel\n",
      "Aldiko Book Reader\n",
      "Google I/O 2018\n",
      "R Language Reference Guide\n",
      "Learn R Programming Full\n",
      "R Programing Offline Tutorial\n",
      "Guide for R Programming\n",
      "Learn R Programming\n",
      "R Quick Reference Big Data\n",
      "V Made\n",
      "Wattpad 📖 Free Books\n",
      "Dictionary - WordWeb\n",
      "Guide (for X-MEN)\n",
      "AC Air condition Troubleshoot,Repair,Maintenance\n",
      "AE Bulletins\n",
      "Ae Allah na Dai (Rasa)\n",
      "50000 Free eBooks & Free AudioBooks\n",
      "Ag PhD Field Guide\n",
      "Ag PhD Deficiencies\n",
      "Ag PhD Planting Population Calculator\n",
      "Ag PhD Soybean Diseases\n",
      "Fertilizer Removal By Crop\n",
      "A-J Media Vault\n",
      "Al-Quran (Free)\n",
      "Al Quran (Tafsir & by Word)\n",
      "Al Quran Indonesia\n",
      "Al'Quran Bahasa Indonesia\n",
      "Al Quran Al karim\n",
      "Al-Muhaffiz\n",
      "Al Quran : EAlim - Translations & MP3 Offline\n",
      "Al-Quran 30 Juz free copies\n",
      "Koran Read &MP3 30 Juz Offline\n",
      "Hafizi Quran 15 lines per page\n",
      "Quran for Android\n",
      "Surah Al-Waqiah\n",
      "Hisnul Al Muslim - Hisn Invocations & Adhkaar\n",
      "Satellite AR\n",
      "Audiobooks from Audible\n",
      "Kinot & Eichah for Tisha B'Av\n",
      "AW Tozer Devotionals - Daily\n",
      "Tozer Devotional -Series 1\n",
      "The Pursuit of God\n",
      "AY Sing\n",
      "Ay Hasnain k Nana Milad Naat\n",
      "Ay Mohabbat Teri Khatir Novel\n",
      "Arizona Statutes, ARS (AZ Law)\n",
      "Oxford A-Z of English Usage\n",
      "BD Fishpedia\n",
      "BD All Sim Offer\n",
      "Youboox - Livres, BD et magazines\n",
      "B&H Kids AR\n",
      "B y H Niños ES\n",
      "Dictionary.com: Find Definitions for English Words\n",
      "English Dictionary - Offline\n",
      "Bible KJV\n",
      "Borneo Bible, BM Bible\n",
      "MOD Black for BM\n",
      "BM Box\n",
      "Anime Mod for BM\n",
      "NOOK: Read eBooks & Magazines\n",
      "NOOK Audiobooks\n",
      "NOOK App for NOOK Devices\n",
      "Browsery by Barnes & Noble\n",
      "bp e-store\n",
      "Brilliant Quotes: Life, Love, Family & Motivation\n",
      "BR Ambedkar Biography & Quotes\n",
      "BU Alsace\n",
      "Catholic La Bu Zo Kam\n",
      "Khrifa Hla Bu (Solfa)\n",
      "Kristian Hla Bu\n",
      "SA HLA BU\n",
      "Learn SAP BW\n",
      "Learn SAP BW on HANA\n",
      "CA Laws 2018 (California Laws and Codes)\n",
      "Bootable Methods(USB-CD-DVD)\n",
      "cloudLibrary\n",
      "SDA Collegiate Quarterly\n",
      "Sabbath School\n",
      "Cypress College Library\n",
      "Stats Royale for Clash Royale\n",
      "GATE 21 years CS Papers(2011-2018 Solved)\n",
      "Learn CT Scan Of Head\n",
      "Easy Cv maker 2018\n",
      "How to Write CV\n",
      "CW Nuclear\n",
      "CY Spray nozzle\n",
      "BibleRead En Cy Zh Yue\n",
      "CZ-Help\n",
      "Modlitební knížka CZ\n",
      "Guide for DB Xenoverse\n",
      "Guide for DB Xenoverse 2\n",
      "Guide for IMS DB\n",
      "DC HSEMA\n",
      "DC Public Library\n",
      "Painting Lulu DC Super Friends\n",
      "Dictionary\n",
      "Fix Error Google Playstore\n",
      "D. H. Lawrence Poems FREE\n",
      "Bilingual Dictionary Audio App\n",
      "DM Screen\n",
      "wikiHow: how to do anything\n",
      "Dr. Doug's Tips\n",
      "Bible du Semeur-BDS (French)\n",
      "La citadelle du musulman\n",
      "DV 2019 Entry Guide\n",
      "DV 2019 - EDV Photo & Form\n",
      "DV 2018 Winners Guide\n",
      "EB Annual Meetings\n",
      "EC - AP & Telangana\n",
      "TN Patta Citta & EC\n",
      "AP Stamps and Registration\n",
      "CompactiMa EC pH Calibration\n",
      "EGW Writings 2\n",
      "EGW Writings\n",
      "Bible with EGW Comments\n",
      "My Little Pony AR Guide\n",
      "SDA Sabbath School Quarterly\n",
      "Duaa Ek Ibaadat\n",
      "Spanish English Translator\n",
      "Dictionary - Merriam-Webster\n",
      "JW Library\n",
      "Oxford Dictionary of English : Free\n",
      "English Hindi Dictionary\n",
      "English to Hindi Dictionary\n",
      "EP Research Service\n",
      "Hymnes et Louanges\n",
      "EU Charter\n",
      "EU Data Protection\n",
      "EU IP Codes\n",
      "EW PDF\n",
      "BakaReader EX\n",
      "EZ Quran\n",
      "FA Part 1 & 2 Past Papers Solved Free – Offline\n",
      "La Fe de Jesus\n",
      "La Fe de Jesús\n",
      "Le Fe de Jesus\n",
      "Florida - Pocket Brainbook\n",
      "Florida Statutes (FL Code)\n",
      "English To Shona Dictionary\n",
      "Greek Bible FP (Audio)\n",
      "Golden Dictionary (FR-AR)\n",
      "Fanfic-FR\n",
      "Bulgarian French Dictionary Fr\n",
      "Chemin (fr)\n",
      "The SCP Foundation DB fr nn5n\n"
     ]
    }
   ],
   "source": [
    "for app in android:\n",
    "    if app[1] == 'BOOKS_AND_REFERENCE' :\n",
    "        print(app[0])"
   ]
  },
  {
   "cell_type": "markdown",
   "metadata": {},
   "source": [
    "Let's see the most popular apps in this category:"
   ]
  },
  {
   "cell_type": "code",
   "execution_count": 30,
   "metadata": {},
   "outputs": [
    {
     "name": "stdout",
     "output_type": "stream",
     "text": [
      "E-Book Read - Read Book for free : 50,000+\n",
      "Download free book with green book : 100,000+\n",
      "Wikipedia : 10,000,000+\n",
      "Cool Reader : 10,000,000+\n",
      "Free Panda Radio Music : 100,000+\n",
      "Book store : 1,000,000+\n",
      "FBReader: Favorite Book Reader : 10,000,000+\n",
      "English Grammar Complete Handbook : 500,000+\n",
      "Free Books - Spirit Fanfiction and Stories : 1,000,000+\n",
      "Google Play Books : 1,000,000,000+\n",
      "AlReader -any text book reader : 5,000,000+\n",
      "Offline English Dictionary : 100,000+\n",
      "Offline: English to Tagalog Dictionary : 500,000+\n",
      "FamilySearch Tree : 1,000,000+\n",
      "Cloud of Books : 1,000,000+\n",
      "Recipes of Prophetic Medicine for free : 500,000+\n",
      "ReadEra – free ebook reader : 1,000,000+\n",
      "Anonymous caller detection : 10,000+\n",
      "Ebook Reader : 5,000,000+\n",
      "Litnet - E-books : 100,000+\n",
      "Read books online : 5,000,000+\n",
      "English to Urdu Dictionary : 500,000+\n",
      "eBoox: book reader fb2 epub zip : 1,000,000+\n",
      "English Persian Dictionary : 500,000+\n",
      "Flybook : 500,000+\n",
      "All Maths Formulas : 1,000,000+\n",
      "Ancestry : 5,000,000+\n",
      "HTC Help : 10,000,000+\n",
      "English translation from Bengali : 100,000+\n",
      "Pdf Book Download - Read Pdf Book : 100,000+\n",
      "Free Book Reader : 100,000+\n",
      "eBoox new: Reader for fb2 epub zip books : 50,000+\n",
      "Only 30 days in English, the guideline is guaranteed : 500,000+\n",
      "Moon+ Reader : 10,000,000+\n",
      "SH-02J Owner's Manual (Android 8.0) : 50,000+\n",
      "English-Myanmar Dictionary : 1,000,000+\n",
      "Golden Dictionary (EN-AR) : 1,000,000+\n",
      "All Language Translator Free : 1,000,000+\n",
      "Azpen eReader : 500,000+\n",
      "URBANO V 02 instruction manual : 100,000+\n",
      "Bible : 100,000,000+\n",
      "C Programs and Reference : 50,000+\n",
      "C Offline Tutorial : 1,000+\n",
      "C Programs Handbook : 50,000+\n",
      "Amazon Kindle : 100,000,000+\n",
      "Aab e Hayat Full Novel : 100,000+\n",
      "Aldiko Book Reader : 10,000,000+\n",
      "Google I/O 2018 : 500,000+\n",
      "R Language Reference Guide : 10,000+\n",
      "Learn R Programming Full : 5,000+\n",
      "R Programing Offline Tutorial : 1,000+\n",
      "Guide for R Programming : 5+\n",
      "Learn R Programming : 10+\n",
      "R Quick Reference Big Data : 1,000+\n",
      "V Made : 100,000+\n",
      "Wattpad 📖 Free Books : 100,000,000+\n",
      "Dictionary - WordWeb : 5,000,000+\n",
      "Guide (for X-MEN) : 100,000+\n",
      "AC Air condition Troubleshoot,Repair,Maintenance : 5,000+\n",
      "AE Bulletins : 1,000+\n",
      "Ae Allah na Dai (Rasa) : 10,000+\n",
      "50000 Free eBooks & Free AudioBooks : 5,000,000+\n",
      "Ag PhD Field Guide : 10,000+\n",
      "Ag PhD Deficiencies : 10,000+\n",
      "Ag PhD Planting Population Calculator : 1,000+\n",
      "Ag PhD Soybean Diseases : 1,000+\n",
      "Fertilizer Removal By Crop : 50,000+\n",
      "A-J Media Vault : 50+\n",
      "Al-Quran (Free) : 10,000,000+\n",
      "Al Quran (Tafsir & by Word) : 500,000+\n",
      "Al Quran Indonesia : 10,000,000+\n",
      "Al'Quran Bahasa Indonesia : 10,000,000+\n",
      "Al Quran Al karim : 1,000,000+\n",
      "Al-Muhaffiz : 50,000+\n",
      "Al Quran : EAlim - Translations & MP3 Offline : 5,000,000+\n",
      "Al-Quran 30 Juz free copies : 500,000+\n",
      "Koran Read &MP3 30 Juz Offline : 1,000,000+\n",
      "Hafizi Quran 15 lines per page : 1,000,000+\n",
      "Quran for Android : 10,000,000+\n",
      "Surah Al-Waqiah : 100,000+\n",
      "Hisnul Al Muslim - Hisn Invocations & Adhkaar : 100,000+\n",
      "Satellite AR : 1,000,000+\n",
      "Audiobooks from Audible : 100,000,000+\n",
      "Kinot & Eichah for Tisha B'Av : 10,000+\n",
      "AW Tozer Devotionals - Daily : 5,000+\n",
      "Tozer Devotional -Series 1 : 1,000+\n",
      "The Pursuit of God : 1,000+\n",
      "AY Sing : 5,000+\n",
      "Ay Hasnain k Nana Milad Naat : 10,000+\n",
      "Ay Mohabbat Teri Khatir Novel : 10,000+\n",
      "Arizona Statutes, ARS (AZ Law) : 1,000+\n",
      "Oxford A-Z of English Usage : 1,000,000+\n",
      "BD Fishpedia : 1,000+\n",
      "BD All Sim Offer : 10,000+\n",
      "Youboox - Livres, BD et magazines : 500,000+\n",
      "B&H Kids AR : 10,000+\n",
      "B y H Niños ES : 5,000+\n",
      "Dictionary.com: Find Definitions for English Words : 10,000,000+\n",
      "English Dictionary - Offline : 10,000,000+\n",
      "Bible KJV : 5,000,000+\n",
      "Borneo Bible, BM Bible : 10,000+\n",
      "MOD Black for BM : 100+\n",
      "BM Box : 1,000+\n",
      "Anime Mod for BM : 100+\n",
      "NOOK: Read eBooks & Magazines : 10,000,000+\n",
      "NOOK Audiobooks : 500,000+\n",
      "NOOK App for NOOK Devices : 500,000+\n",
      "Browsery by Barnes & Noble : 5,000+\n",
      "bp e-store : 1,000+\n",
      "Brilliant Quotes: Life, Love, Family & Motivation : 1,000,000+\n",
      "BR Ambedkar Biography & Quotes : 10,000+\n",
      "BU Alsace : 100+\n",
      "Catholic La Bu Zo Kam : 500+\n",
      "Khrifa Hla Bu (Solfa) : 10+\n",
      "Kristian Hla Bu : 10,000+\n",
      "SA HLA BU : 1,000+\n",
      "Learn SAP BW : 500+\n",
      "Learn SAP BW on HANA : 500+\n",
      "CA Laws 2018 (California Laws and Codes) : 5,000+\n",
      "Bootable Methods(USB-CD-DVD) : 10,000+\n",
      "cloudLibrary : 100,000+\n",
      "SDA Collegiate Quarterly : 500+\n",
      "Sabbath School : 100,000+\n",
      "Cypress College Library : 100+\n",
      "Stats Royale for Clash Royale : 1,000,000+\n",
      "GATE 21 years CS Papers(2011-2018 Solved) : 50+\n",
      "Learn CT Scan Of Head : 5,000+\n",
      "Easy Cv maker 2018 : 10,000+\n",
      "How to Write CV : 100,000+\n",
      "CW Nuclear : 1,000+\n",
      "CY Spray nozzle : 10+\n",
      "BibleRead En Cy Zh Yue : 5+\n",
      "CZ-Help : 5+\n",
      "Modlitební knížka CZ : 500+\n",
      "Guide for DB Xenoverse : 10,000+\n",
      "Guide for DB Xenoverse 2 : 10,000+\n",
      "Guide for IMS DB : 10+\n",
      "DC HSEMA : 5,000+\n",
      "DC Public Library : 1,000+\n",
      "Painting Lulu DC Super Friends : 1,000+\n",
      "Dictionary : 10,000,000+\n",
      "Fix Error Google Playstore : 1,000+\n",
      "D. H. Lawrence Poems FREE : 1,000+\n",
      "Bilingual Dictionary Audio App : 5,000+\n",
      "DM Screen : 10,000+\n",
      "wikiHow: how to do anything : 1,000,000+\n",
      "Dr. Doug's Tips : 1,000+\n",
      "Bible du Semeur-BDS (French) : 50,000+\n",
      "La citadelle du musulman : 50,000+\n",
      "DV 2019 Entry Guide : 10,000+\n",
      "DV 2019 - EDV Photo & Form : 50,000+\n",
      "DV 2018 Winners Guide : 1,000+\n",
      "EB Annual Meetings : 1,000+\n",
      "EC - AP & Telangana : 5,000+\n",
      "TN Patta Citta & EC : 10,000+\n",
      "AP Stamps and Registration : 10,000+\n",
      "CompactiMa EC pH Calibration : 100+\n",
      "EGW Writings 2 : 100,000+\n",
      "EGW Writings : 1,000,000+\n",
      "Bible with EGW Comments : 100,000+\n",
      "My Little Pony AR Guide : 1,000,000+\n",
      "SDA Sabbath School Quarterly : 500,000+\n",
      "Duaa Ek Ibaadat : 5,000+\n",
      "Spanish English Translator : 10,000,000+\n",
      "Dictionary - Merriam-Webster : 10,000,000+\n",
      "JW Library : 10,000,000+\n",
      "Oxford Dictionary of English : Free : 10,000,000+\n",
      "English Hindi Dictionary : 10,000,000+\n",
      "English to Hindi Dictionary : 5,000,000+\n",
      "EP Research Service : 1,000+\n",
      "Hymnes et Louanges : 100,000+\n",
      "EU Charter : 1,000+\n",
      "EU Data Protection : 1,000+\n",
      "EU IP Codes : 100+\n",
      "EW PDF : 5+\n",
      "BakaReader EX : 100,000+\n",
      "EZ Quran : 50,000+\n",
      "FA Part 1 & 2 Past Papers Solved Free – Offline : 5,000+\n",
      "La Fe de Jesus : 1,000+\n",
      "La Fe de Jesús : 500+\n",
      "Le Fe de Jesus : 500+\n",
      "Florida - Pocket Brainbook : 1,000+\n",
      "Florida Statutes (FL Code) : 1,000+\n",
      "English To Shona Dictionary : 10,000+\n",
      "Greek Bible FP (Audio) : 1,000+\n",
      "Golden Dictionary (FR-AR) : 500,000+\n",
      "Fanfic-FR : 5,000+\n",
      "Bulgarian French Dictionary Fr : 10,000+\n",
      "Chemin (fr) : 1,000+\n",
      "The SCP Foundation DB fr nn5n : 1,000+\n"
     ]
    }
   ],
   "source": [
    "for app in android:\n",
    "    if app[1] == 'BOOKS_AND_REFERENCE' :\n",
    "        print(app[0],':',app[5])"
   ]
  },
  {
   "cell_type": "markdown",
   "metadata": {},
   "source": [
    "The apps in this category includes a variety of apps, such  as dictionary, libraries, guides for programming languages, books, magazines, or other kinds of guides.\n",
    "\n",
    "Although this category is already crammed with libraries, the development of dictionary apps is easier compared to other apps. The data also shows that they are the most downloaded apps in GooglePlay."
   ]
  },
  {
   "cell_type": "markdown",
   "metadata": {},
   "source": [
    "## Conclusion\n",
    "\n",
    "In this analysis, we analyzed the data about apps in AppStore and GooglePlay with the goal of recommending a genre to the app development team.\n",
    "\n",
    "In the analysis mentioned above, we identify the genre ,`Books and Reference`, in both AppStore and GooglePlay to be the second most downloaded genre, which is an viable genre for our business plan which is producing revenue through in apps ads and build an iOS version if the app is profitable. \n",
    "\n",
    "Based on the analysis, I proposed that we developed an app  which adopt the manual for a certain popular game. However, the apps in this category is also quite competitive, we would need other features besides the manual. We can include forum where the players can discuus, exchange informations or find friends to team up (if possible).\n",
    "\n"
   ]
  }
 ],
 "metadata": {
  "kernelspec": {
   "display_name": "Python 3",
   "language": "python",
   "name": "python3"
  },
  "language_info": {
   "codemirror_mode": {
    "name": "ipython",
    "version": 3
   },
   "file_extension": ".py",
   "mimetype": "text/x-python",
   "name": "python",
   "nbconvert_exporter": "python",
   "pygments_lexer": "ipython3",
   "version": "3.8.3"
  }
 },
 "nbformat": 4,
 "nbformat_minor": 4
}
